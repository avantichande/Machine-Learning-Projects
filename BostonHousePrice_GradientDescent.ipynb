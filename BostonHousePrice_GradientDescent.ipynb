{
 "cells": [
  {
   "cell_type": "markdown",
   "metadata": {
    "ein.tags": [
     "worksheet-0"
    ],
    "slideshow": {
     "slide_type": "-"
    }
   },
   "source": [
    "# Problem Set 4, due '05/23/2017' at 3:30pm.\n",
    "\n",
    "### Before You Start\n",
    "\n",
    "This is a fun but challenging problem set. It will test your python skills, as well as your understanding of the material in class and in the readings. Start early and debug often! Some notes:\n",
    "\n",
    "* Part 1 is meant to be easy, so get through it quickly.\n",
    "* Part 2 (especially 2.1) will be difficult, but it is the lynchpin of this problem set to make sure to do it well and understand what you've done. If you find your gradient descent algorithm is taking more than a few minutes to complete, debug more, compare notes with others, and go to the TA sessions.\n",
    "* Depending on how well you've done 2.1, parts 2.3 and 4.3 will be relatively painless or incredibly painful. \n",
    "* Part 4 (especially 3.3) will be computationally intensive. Don't leave this until the last minute, otherwise your code might be running when the deadline arrives.\n",
    "* Do the extra credit problems last."
   ]
  },
  {
   "cell_type": "markdown",
   "metadata": {
    "ein.tags": [
     "worksheet-0"
    ],
    "slideshow": {
     "slide_type": "-"
    }
   },
   "source": [
    "---\n",
    "\n",
    "## Introduction to the assignment\n",
    "\n",
    "As with the last assignment, you will be using the [Boston Housing Prices Data Set](http://archive.ics.uci.edu/ml/datasets/Housing)."
   ]
  },
  {
   "cell_type": "code",
   "execution_count": 107,
   "metadata": {
    "autoscroll": "json-false",
    "collapsed": true,
    "ein.tags": [
     "worksheet-0"
    ],
    "slideshow": {
     "slide_type": "-"
    }
   },
   "outputs": [],
   "source": [
    "import IPython\n",
    "import numpy as np\n",
    "import scipy as sp\n",
    "import pandas as pd\n",
    "import matplotlib\n",
    "import sklearn\n",
    "\n",
    "%matplotlib inline  \n",
    "import matplotlib.pyplot as plt\n",
    "import statsmodels.api as sm\n",
    "from sklearn.linear_model import LinearRegression, LogisticRegression\n",
    "from sklearn.metrics import mean_squared_error\n",
    "import statsmodels.formula.api as smf\n",
    "from sklearn.model_selection import KFold\n",
    "from sklearn.metrics import mean_squared_error\n",
    "from statsmodels.sandbox.regression.predstd import wls_prediction_std\n",
    "import time"
   ]
  },
  {
   "cell_type": "code",
   "execution_count": 108,
   "metadata": {
    "autoscroll": "json-false",
    "collapsed": true,
    "ein.tags": [
     "worksheet-0"
    ],
    "slideshow": {
     "slide_type": "-"
    }
   },
   "outputs": [],
   "source": [
    "from sklearn.datasets import load_boston\n",
    "bdata = load_boston()"
   ]
  },
  {
   "cell_type": "markdown",
   "metadata": {
    "ein.tags": [
     "worksheet-0"
    ],
    "slideshow": {
     "slide_type": "-"
    }
   },
   "source": [
    "---\n",
    "\n",
    "## Part 1: Getting oriented\n",
    "\n",
    "Use different learning rates\n",
    "\n",
    "### 1.1 Use existing libraries\n",
    "\n",
    "Soon, you will write your own gradient descent algorithm, which you will then use to minimize the squared error cost function.  First, however, let's use the canned versions that come with Python, to make sure we understand what we're aiming to achieve.\n",
    "\n",
    "Using the same Boston housing prices dataset, use the [Linear Regression class](http://scikit-learn.org/stable/modules/generated/sklearn.linear_model.LinearRegression.html) from sklearn or the [OLS class](http://wiki.scipy.org/Cookbook/OLS) from SciPy to explore the relationship between  median housing price and number of rooms per house. Do this by first (a) regressing the housing price on the number of rooms per house, and then (b) regressing the housing price on the number of rooms per house and the (number of rooms per house) squared.  Interpret your results."
   ]
  },
  {
   "cell_type": "code",
   "execution_count": 109,
   "metadata": {
    "autoscroll": "json-false",
    "ein.tags": [
     "worksheet-0"
    ],
    "slideshow": {
     "slide_type": "-"
    }
   },
   "outputs": [
    {
     "name": "stdout",
     "output_type": "stream",
     "text": [
      "keys: ['data', 'feature_names', 'DESCR', 'target']\n",
      "feature names: ['CRIM' 'ZN' 'INDUS' 'CHAS' 'NOX' 'RM' 'AGE' 'DIS' 'RAD' 'TAX' 'PTRATIO'\n",
      " 'B' 'LSTAT']\n",
      "data shape: (506L, 13L)\n",
      "target shape (506L,)\n",
      "Boston House Prices dataset\n",
      "===========================\n",
      "\n",
      "Notes\n",
      "------\n",
      "Data Set Characteristics:  \n",
      "\n",
      "    :Number of Instances: 506 \n",
      "\n",
      "    :Number of Attributes: 13 numeric/categorical predictive\n",
      "    \n",
      "    :Median Value (attribute 14) is usually the target\n",
      "\n",
      "    :Attribute Information (in order):\n",
      "        - CRIM     per capita crime rate by town\n",
      "        - ZN       proportion of residential land zoned for lots over 25,000 sq.ft.\n",
      "        - INDUS    proportion of non-retail business acres per town\n",
      "        - CHAS     Charles River dummy variable (= 1 if tract bounds river; 0 otherwise)\n",
      "        - NOX      nitric oxides concentration (parts per 10 million)\n",
      "        - RM       average number of rooms per dwelling\n",
      "        - AGE      proportion of owner-occupied units built prior to 1940\n",
      "        - DIS      weighted distances to five Boston employment centres\n",
      "        - RAD      index of accessibility to radial highways\n",
      "        - TAX      full-value property-tax rate per $10,000\n",
      "        - PTRATIO  pupil-teacher ratio by town\n",
      "        - B        1000(Bk - 0.63)^2 where Bk is the proportion of blacks by town\n",
      "        - LSTAT    % lower status of the population\n",
      "        - MEDV     Median value of owner-occupied homes in $1000's\n",
      "\n",
      "    :Missing Attribute Values: None\n",
      "\n",
      "    :Creator: Harrison, D. and Rubinfeld, D.L.\n",
      "\n",
      "This is a copy of UCI ML housing dataset.\n",
      "http://archive.ics.uci.edu/ml/datasets/Housing\n",
      "\n",
      "\n",
      "This dataset was taken from the StatLib library which is maintained at Carnegie Mellon University.\n",
      "\n",
      "The Boston house-price data of Harrison, D. and Rubinfeld, D.L. 'Hedonic\n",
      "prices and the demand for clean air', J. Environ. Economics & Management,\n",
      "vol.5, 81-102, 1978.   Used in Belsley, Kuh & Welsch, 'Regression diagnostics\n",
      "...', Wiley, 1980.   N.B. Various transformations are used in the table on\n",
      "pages 244-261 of the latter.\n",
      "\n",
      "The Boston house-price data has been used in many machine learning papers that address regression\n",
      "problems.   \n",
      "     \n",
      "**References**\n",
      "\n",
      "   - Belsley, Kuh & Welsch, 'Regression diagnostics: Identifying Influential Data and Sources of Collinearity', Wiley, 1980. 244-261.\n",
      "   - Quinlan,R. (1993). Combining Instance-Based and Model-Based Learning. In Proceedings on the Tenth International Conference of Machine Learning, 236-243, University of Massachusetts, Amherst. Morgan Kaufmann.\n",
      "   - many more! (see http://archive.ics.uci.edu/ml/datasets/Housing)\n",
      "\n",
      "--------------------------------------------------------------------------------\n"
     ]
    }
   ],
   "source": [
    "# uncomment the following if you want to see a lengthy description of the dataset\n",
    "print \"keys:\", bdata.keys()\n",
    "print \"feature names:\",  bdata.feature_names\n",
    "print \"data shape:\", bdata.data.shape\n",
    "print \"target shape\", bdata.target.shape\n",
    "print bdata.DESCR\n",
    "print \"-\"*80\n"
   ]
  },
  {
   "cell_type": "code",
   "execution_count": 110,
   "metadata": {
    "collapsed": true
   },
   "outputs": [],
   "source": [
    "# reset data as pandas DataFrame\n",
    "boston_df = pd.DataFrame(bdata.data)\n",
    "\n",
    "# label columns\n",
    "boston_df.columns = bdata.feature_names"
   ]
  },
  {
   "cell_type": "code",
   "execution_count": 111,
   "metadata": {
    "collapsed": true
   },
   "outputs": [],
   "source": [
    "#Add the target of the boston data set, the price. We'll create a new column in our DataFrame\n",
    "boston_df['Price'] = bdata.target"
   ]
  },
  {
   "cell_type": "code",
   "execution_count": 112,
   "metadata": {},
   "outputs": [
    {
     "data": {
      "text/html": [
       "<div>\n",
       "<table border=\"1\" class=\"dataframe\">\n",
       "  <thead>\n",
       "    <tr style=\"text-align: right;\">\n",
       "      <th></th>\n",
       "      <th>CRIM</th>\n",
       "      <th>ZN</th>\n",
       "      <th>INDUS</th>\n",
       "      <th>CHAS</th>\n",
       "      <th>NOX</th>\n",
       "      <th>RM</th>\n",
       "      <th>AGE</th>\n",
       "      <th>DIS</th>\n",
       "      <th>RAD</th>\n",
       "      <th>TAX</th>\n",
       "      <th>PTRATIO</th>\n",
       "      <th>B</th>\n",
       "      <th>LSTAT</th>\n",
       "      <th>Price</th>\n",
       "    </tr>\n",
       "  </thead>\n",
       "  <tbody>\n",
       "    <tr>\n",
       "      <th>0</th>\n",
       "      <td>0.00632</td>\n",
       "      <td>18.0</td>\n",
       "      <td>2.31</td>\n",
       "      <td>0.0</td>\n",
       "      <td>0.538</td>\n",
       "      <td>6.575</td>\n",
       "      <td>65.2</td>\n",
       "      <td>4.0900</td>\n",
       "      <td>1.0</td>\n",
       "      <td>296.0</td>\n",
       "      <td>15.3</td>\n",
       "      <td>396.90</td>\n",
       "      <td>4.98</td>\n",
       "      <td>24.0</td>\n",
       "    </tr>\n",
       "    <tr>\n",
       "      <th>1</th>\n",
       "      <td>0.02731</td>\n",
       "      <td>0.0</td>\n",
       "      <td>7.07</td>\n",
       "      <td>0.0</td>\n",
       "      <td>0.469</td>\n",
       "      <td>6.421</td>\n",
       "      <td>78.9</td>\n",
       "      <td>4.9671</td>\n",
       "      <td>2.0</td>\n",
       "      <td>242.0</td>\n",
       "      <td>17.8</td>\n",
       "      <td>396.90</td>\n",
       "      <td>9.14</td>\n",
       "      <td>21.6</td>\n",
       "    </tr>\n",
       "    <tr>\n",
       "      <th>2</th>\n",
       "      <td>0.02729</td>\n",
       "      <td>0.0</td>\n",
       "      <td>7.07</td>\n",
       "      <td>0.0</td>\n",
       "      <td>0.469</td>\n",
       "      <td>7.185</td>\n",
       "      <td>61.1</td>\n",
       "      <td>4.9671</td>\n",
       "      <td>2.0</td>\n",
       "      <td>242.0</td>\n",
       "      <td>17.8</td>\n",
       "      <td>392.83</td>\n",
       "      <td>4.03</td>\n",
       "      <td>34.7</td>\n",
       "    </tr>\n",
       "    <tr>\n",
       "      <th>3</th>\n",
       "      <td>0.03237</td>\n",
       "      <td>0.0</td>\n",
       "      <td>2.18</td>\n",
       "      <td>0.0</td>\n",
       "      <td>0.458</td>\n",
       "      <td>6.998</td>\n",
       "      <td>45.8</td>\n",
       "      <td>6.0622</td>\n",
       "      <td>3.0</td>\n",
       "      <td>222.0</td>\n",
       "      <td>18.7</td>\n",
       "      <td>394.63</td>\n",
       "      <td>2.94</td>\n",
       "      <td>33.4</td>\n",
       "    </tr>\n",
       "    <tr>\n",
       "      <th>4</th>\n",
       "      <td>0.06905</td>\n",
       "      <td>0.0</td>\n",
       "      <td>2.18</td>\n",
       "      <td>0.0</td>\n",
       "      <td>0.458</td>\n",
       "      <td>7.147</td>\n",
       "      <td>54.2</td>\n",
       "      <td>6.0622</td>\n",
       "      <td>3.0</td>\n",
       "      <td>222.0</td>\n",
       "      <td>18.7</td>\n",
       "      <td>396.90</td>\n",
       "      <td>5.33</td>\n",
       "      <td>36.2</td>\n",
       "    </tr>\n",
       "  </tbody>\n",
       "</table>\n",
       "</div>"
      ],
      "text/plain": [
       "      CRIM    ZN  INDUS  CHAS    NOX     RM   AGE     DIS  RAD    TAX  \\\n",
       "0  0.00632  18.0   2.31   0.0  0.538  6.575  65.2  4.0900  1.0  296.0   \n",
       "1  0.02731   0.0   7.07   0.0  0.469  6.421  78.9  4.9671  2.0  242.0   \n",
       "2  0.02729   0.0   7.07   0.0  0.469  7.185  61.1  4.9671  2.0  242.0   \n",
       "3  0.03237   0.0   2.18   0.0  0.458  6.998  45.8  6.0622  3.0  222.0   \n",
       "4  0.06905   0.0   2.18   0.0  0.458  7.147  54.2  6.0622  3.0  222.0   \n",
       "\n",
       "   PTRATIO       B  LSTAT  Price  \n",
       "0     15.3  396.90   4.98   24.0  \n",
       "1     17.8  396.90   9.14   21.6  \n",
       "2     17.8  392.83   4.03   34.7  \n",
       "3     18.7  394.63   2.94   33.4  \n",
       "4     18.7  396.90   5.33   36.2  "
      ]
     },
     "execution_count": 112,
     "metadata": {},
     "output_type": "execute_result"
    }
   ],
   "source": [
    "boston_df.head()"
   ]
  },
  {
   "cell_type": "code",
   "execution_count": 113,
   "metadata": {},
   "outputs": [
    {
     "data": {
      "text/html": [
       "<table class=\"simpletable\">\n",
       "<caption>OLS Regression Results</caption>\n",
       "<tr>\n",
       "  <th>Dep. Variable:</th>          <td>Price</td>      <th>  R-squared:         </th> <td>   0.484</td>\n",
       "</tr>\n",
       "<tr>\n",
       "  <th>Model:</th>                   <td>OLS</td>       <th>  Adj. R-squared:    </th> <td>   0.483</td>\n",
       "</tr>\n",
       "<tr>\n",
       "  <th>Method:</th>             <td>Least Squares</td>  <th>  F-statistic:       </th> <td>   471.8</td>\n",
       "</tr>\n",
       "<tr>\n",
       "  <th>Date:</th>             <td>Tue, 23 May 2017</td> <th>  Prob (F-statistic):</th> <td>2.49e-74</td>\n",
       "</tr>\n",
       "<tr>\n",
       "  <th>Time:</th>                 <td>13:28:30</td>     <th>  Log-Likelihood:    </th> <td> -1673.1</td>\n",
       "</tr>\n",
       "<tr>\n",
       "  <th>No. Observations:</th>      <td>   506</td>      <th>  AIC:               </th> <td>   3350.</td>\n",
       "</tr>\n",
       "<tr>\n",
       "  <th>Df Residuals:</th>          <td>   504</td>      <th>  BIC:               </th> <td>   3359.</td>\n",
       "</tr>\n",
       "<tr>\n",
       "  <th>Df Model:</th>              <td>     1</td>      <th>                     </th>     <td> </td>   \n",
       "</tr>\n",
       "<tr>\n",
       "  <th>Covariance Type:</th>      <td>nonrobust</td>    <th>                     </th>     <td> </td>   \n",
       "</tr>\n",
       "</table>\n",
       "<table class=\"simpletable\">\n",
       "<tr>\n",
       "      <td></td>         <th>coef</th>     <th>std err</th>      <th>t</th>      <th>P>|t|</th>  <th>[0.025</th>    <th>0.975]</th>  \n",
       "</tr>\n",
       "<tr>\n",
       "  <th>Intercept</th> <td>  -34.6706</td> <td>    2.650</td> <td>  -13.084</td> <td> 0.000</td> <td>  -39.877</td> <td>  -29.465</td>\n",
       "</tr>\n",
       "<tr>\n",
       "  <th>RM</th>        <td>    9.1021</td> <td>    0.419</td> <td>   21.722</td> <td> 0.000</td> <td>    8.279</td> <td>    9.925</td>\n",
       "</tr>\n",
       "</table>\n",
       "<table class=\"simpletable\">\n",
       "<tr>\n",
       "  <th>Omnibus:</th>       <td>102.585</td> <th>  Durbin-Watson:     </th> <td>   0.684</td> \n",
       "</tr>\n",
       "<tr>\n",
       "  <th>Prob(Omnibus):</th> <td> 0.000</td>  <th>  Jarque-Bera (JB):  </th> <td> 612.449</td> \n",
       "</tr>\n",
       "<tr>\n",
       "  <th>Skew:</th>          <td> 0.726</td>  <th>  Prob(JB):          </th> <td>1.02e-133</td>\n",
       "</tr>\n",
       "<tr>\n",
       "  <th>Kurtosis:</th>      <td> 8.190</td>  <th>  Cond. No.          </th> <td>    58.4</td> \n",
       "</tr>\n",
       "</table>"
      ],
      "text/plain": [
       "<class 'statsmodels.iolib.summary.Summary'>\n",
       "\"\"\"\n",
       "                            OLS Regression Results                            \n",
       "==============================================================================\n",
       "Dep. Variable:                  Price   R-squared:                       0.484\n",
       "Model:                            OLS   Adj. R-squared:                  0.483\n",
       "Method:                 Least Squares   F-statistic:                     471.8\n",
       "Date:                Tue, 23 May 2017   Prob (F-statistic):           2.49e-74\n",
       "Time:                        13:28:30   Log-Likelihood:                -1673.1\n",
       "No. Observations:                 506   AIC:                             3350.\n",
       "Df Residuals:                     504   BIC:                             3359.\n",
       "Df Model:                           1                                         \n",
       "Covariance Type:            nonrobust                                         \n",
       "==============================================================================\n",
       "                 coef    std err          t      P>|t|      [0.025      0.975]\n",
       "------------------------------------------------------------------------------\n",
       "Intercept    -34.6706      2.650    -13.084      0.000     -39.877     -29.465\n",
       "RM             9.1021      0.419     21.722      0.000       8.279       9.925\n",
       "==============================================================================\n",
       "Omnibus:                      102.585   Durbin-Watson:                   0.684\n",
       "Prob(Omnibus):                  0.000   Jarque-Bera (JB):              612.449\n",
       "Skew:                           0.726   Prob(JB):                    1.02e-133\n",
       "Kurtosis:                       8.190   Cond. No.                         58.4\n",
       "==============================================================================\n",
       "\n",
       "Warnings:\n",
       "[1] Standard Errors assume that the covariance matrix of the errors is correctly specified.\n",
       "\"\"\""
      ]
     },
     "execution_count": 113,
     "metadata": {},
     "output_type": "execute_result"
    }
   ],
   "source": [
    "from statsmodels.formula.api import ols\n",
    "#(a) regressing the housing price on the number of rooms per house\n",
    "#Linear model\n",
    "lm_fit1= ols(formula='Price ~ RM', data=boston_df).fit()\n",
    "\n",
    "#Summary of the fitted model\n",
    "lm_fit1.summary()"
   ]
  },
  {
   "cell_type": "markdown",
   "metadata": {},
   "source": [
    "Interpretation: Keeping other factors unchanged, with a unit increase in the number of rooms, the house price increases by approximately $9000."
   ]
  },
  {
   "cell_type": "code",
   "execution_count": 114,
   "metadata": {},
   "outputs": [
    {
     "data": {
      "text/html": [
       "<table class=\"simpletable\">\n",
       "<caption>OLS Regression Results</caption>\n",
       "<tr>\n",
       "  <th>Dep. Variable:</th>          <td>Price</td>      <th>  R-squared:         </th> <td>   0.548</td>\n",
       "</tr>\n",
       "<tr>\n",
       "  <th>Model:</th>                   <td>OLS</td>       <th>  Adj. R-squared:    </th> <td>   0.547</td>\n",
       "</tr>\n",
       "<tr>\n",
       "  <th>Method:</th>             <td>Least Squares</td>  <th>  F-statistic:       </th> <td>   305.4</td>\n",
       "</tr>\n",
       "<tr>\n",
       "  <th>Date:</th>             <td>Tue, 23 May 2017</td> <th>  Prob (F-statistic):</th> <td>1.46e-87</td>\n",
       "</tr>\n",
       "<tr>\n",
       "  <th>Time:</th>                 <td>13:28:31</td>     <th>  Log-Likelihood:    </th> <td> -1639.1</td>\n",
       "</tr>\n",
       "<tr>\n",
       "  <th>No. Observations:</th>      <td>   506</td>      <th>  AIC:               </th> <td>   3284.</td>\n",
       "</tr>\n",
       "<tr>\n",
       "  <th>Df Residuals:</th>          <td>   503</td>      <th>  BIC:               </th> <td>   3297.</td>\n",
       "</tr>\n",
       "<tr>\n",
       "  <th>Df Model:</th>              <td>     2</td>      <th>                     </th>     <td> </td>   \n",
       "</tr>\n",
       "<tr>\n",
       "  <th>Covariance Type:</th>      <td>nonrobust</td>    <th>                     </th>     <td> </td>   \n",
       "</tr>\n",
       "</table>\n",
       "<table class=\"simpletable\">\n",
       "<tr>\n",
       "         <td></td>            <th>coef</th>     <th>std err</th>      <th>t</th>      <th>P>|t|</th>  <th>[0.025</th>    <th>0.975]</th>  \n",
       "</tr>\n",
       "<tr>\n",
       "  <th>Intercept</th>       <td>   66.0588</td> <td>   12.104</td> <td>    5.458</td> <td> 0.000</td> <td>   42.278</td> <td>   89.839</td>\n",
       "</tr>\n",
       "<tr>\n",
       "  <th>RM</th>              <td>  -22.6433</td> <td>    3.754</td> <td>   -6.031</td> <td> 0.000</td> <td>  -30.019</td> <td>  -15.267</td>\n",
       "</tr>\n",
       "<tr>\n",
       "  <th>np.power(RM, 2)</th> <td>    2.4701</td> <td>    0.291</td> <td>    8.502</td> <td> 0.000</td> <td>    1.899</td> <td>    3.041</td>\n",
       "</tr>\n",
       "</table>\n",
       "<table class=\"simpletable\">\n",
       "<tr>\n",
       "  <th>Omnibus:</th>       <td>82.173</td> <th>  Durbin-Watson:     </th> <td>   0.689</td> \n",
       "</tr>\n",
       "<tr>\n",
       "  <th>Prob(Omnibus):</th> <td> 0.000</td> <th>  Jarque-Bera (JB):  </th> <td> 934.337</td> \n",
       "</tr>\n",
       "<tr>\n",
       "  <th>Skew:</th>          <td> 0.224</td> <th>  Prob(JB):          </th> <td>1.29e-203</td>\n",
       "</tr>\n",
       "<tr>\n",
       "  <th>Kurtosis:</th>      <td> 9.642</td> <th>  Cond. No.          </th> <td>1.91e+03</td> \n",
       "</tr>\n",
       "</table>"
      ],
      "text/plain": [
       "<class 'statsmodels.iolib.summary.Summary'>\n",
       "\"\"\"\n",
       "                            OLS Regression Results                            \n",
       "==============================================================================\n",
       "Dep. Variable:                  Price   R-squared:                       0.548\n",
       "Model:                            OLS   Adj. R-squared:                  0.547\n",
       "Method:                 Least Squares   F-statistic:                     305.4\n",
       "Date:                Tue, 23 May 2017   Prob (F-statistic):           1.46e-87\n",
       "Time:                        13:28:31   Log-Likelihood:                -1639.1\n",
       "No. Observations:                 506   AIC:                             3284.\n",
       "Df Residuals:                     503   BIC:                             3297.\n",
       "Df Model:                           2                                         \n",
       "Covariance Type:            nonrobust                                         \n",
       "===================================================================================\n",
       "                      coef    std err          t      P>|t|      [0.025      0.975]\n",
       "-----------------------------------------------------------------------------------\n",
       "Intercept          66.0588     12.104      5.458      0.000      42.278      89.839\n",
       "RM                -22.6433      3.754     -6.031      0.000     -30.019     -15.267\n",
       "np.power(RM, 2)     2.4701      0.291      8.502      0.000       1.899       3.041\n",
       "==============================================================================\n",
       "Omnibus:                       82.173   Durbin-Watson:                   0.689\n",
       "Prob(Omnibus):                  0.000   Jarque-Bera (JB):              934.337\n",
       "Skew:                           0.224   Prob(JB):                    1.29e-203\n",
       "Kurtosis:                       9.642   Cond. No.                     1.91e+03\n",
       "==============================================================================\n",
       "\n",
       "Warnings:\n",
       "[1] Standard Errors assume that the covariance matrix of the errors is correctly specified.\n",
       "[2] The condition number is large, 1.91e+03. This might indicate that there are\n",
       "strong multicollinearity or other numerical problems.\n",
       "\"\"\""
      ]
     },
     "execution_count": 114,
     "metadata": {},
     "output_type": "execute_result"
    }
   ],
   "source": [
    "#(b) regressing the housing price on the number of rooms per house and the (number of rooms per house) squared\n",
    "#Linear model\n",
    "lm_fit2= ols(formula='Price ~ RM + np.power(RM, 2)', data=boston_df).fit()\n",
    "\n",
    "#Summary of the fitted model\n",
    "lm_fit2.summary()"
   ]
  },
  {
   "cell_type": "code",
   "execution_count": 115,
   "metadata": {},
   "outputs": [
    {
     "data": {
      "text/html": [
       "<table class=\"simpletable\">\n",
       "<caption>OLS Regression Results</caption>\n",
       "<tr>\n",
       "  <th>Dep. Variable:</th>          <td>Price</td>      <th>  R-squared:         </th> <td>   0.541</td>\n",
       "</tr>\n",
       "<tr>\n",
       "  <th>Model:</th>                   <td>OLS</td>       <th>  Adj. R-squared:    </th> <td>   0.539</td>\n",
       "</tr>\n",
       "<tr>\n",
       "  <th>Method:</th>             <td>Least Squares</td>  <th>  F-statistic:       </th> <td>   295.9</td>\n",
       "</tr>\n",
       "<tr>\n",
       "  <th>Date:</th>             <td>Tue, 23 May 2017</td> <th>  Prob (F-statistic):</th> <td>1.15e-85</td>\n",
       "</tr>\n",
       "<tr>\n",
       "  <th>Time:</th>                 <td>13:28:31</td>     <th>  Log-Likelihood:    </th> <td> -1643.5</td>\n",
       "</tr>\n",
       "<tr>\n",
       "  <th>No. Observations:</th>      <td>   506</td>      <th>  AIC:               </th> <td>   3293.</td>\n",
       "</tr>\n",
       "<tr>\n",
       "  <th>Df Residuals:</th>          <td>   503</td>      <th>  BIC:               </th> <td>   3306.</td>\n",
       "</tr>\n",
       "<tr>\n",
       "  <th>Df Model:</th>              <td>     2</td>      <th>                     </th>     <td> </td>   \n",
       "</tr>\n",
       "<tr>\n",
       "  <th>Covariance Type:</th>      <td>nonrobust</td>    <th>                     </th>     <td> </td>   \n",
       "</tr>\n",
       "</table>\n",
       "<table class=\"simpletable\">\n",
       "<tr>\n",
       "      <td></td>         <th>coef</th>     <th>std err</th>      <th>t</th>      <th>P>|t|</th>  <th>[0.025</th>    <th>0.975]</th>  \n",
       "</tr>\n",
       "<tr>\n",
       "  <th>Intercept</th> <td>  -29.3017</td> <td>    2.592</td> <td>  -11.303</td> <td> 0.000</td> <td>  -34.395</td> <td>  -24.208</td>\n",
       "</tr>\n",
       "<tr>\n",
       "  <th>RM</th>        <td>    8.3975</td> <td>    0.406</td> <td>   20.706</td> <td> 0.000</td> <td>    7.601</td> <td>    9.194</td>\n",
       "</tr>\n",
       "<tr>\n",
       "  <th>CRIM</th>      <td>   -0.2618</td> <td>    0.033</td> <td>   -7.899</td> <td> 0.000</td> <td>   -0.327</td> <td>   -0.197</td>\n",
       "</tr>\n",
       "</table>\n",
       "<table class=\"simpletable\">\n",
       "<tr>\n",
       "  <th>Omnibus:</th>       <td>170.471</td> <th>  Durbin-Watson:     </th> <td>   0.805</td> \n",
       "</tr>\n",
       "<tr>\n",
       "  <th>Prob(Omnibus):</th> <td> 0.000</td>  <th>  Jarque-Bera (JB):  </th> <td>1034.461</td> \n",
       "</tr>\n",
       "<tr>\n",
       "  <th>Skew:</th>          <td> 1.331</td>  <th>  Prob(JB):          </th> <td>2.34e-225</td>\n",
       "</tr>\n",
       "<tr>\n",
       "  <th>Kurtosis:</th>      <td> 9.479</td>  <th>  Cond. No.          </th> <td>    92.2</td> \n",
       "</tr>\n",
       "</table>"
      ],
      "text/plain": [
       "<class 'statsmodels.iolib.summary.Summary'>\n",
       "\"\"\"\n",
       "                            OLS Regression Results                            \n",
       "==============================================================================\n",
       "Dep. Variable:                  Price   R-squared:                       0.541\n",
       "Model:                            OLS   Adj. R-squared:                  0.539\n",
       "Method:                 Least Squares   F-statistic:                     295.9\n",
       "Date:                Tue, 23 May 2017   Prob (F-statistic):           1.15e-85\n",
       "Time:                        13:28:31   Log-Likelihood:                -1643.5\n",
       "No. Observations:                 506   AIC:                             3293.\n",
       "Df Residuals:                     503   BIC:                             3306.\n",
       "Df Model:                           2                                         \n",
       "Covariance Type:            nonrobust                                         \n",
       "==============================================================================\n",
       "                 coef    std err          t      P>|t|      [0.025      0.975]\n",
       "------------------------------------------------------------------------------\n",
       "Intercept    -29.3017      2.592    -11.303      0.000     -34.395     -24.208\n",
       "RM             8.3975      0.406     20.706      0.000       7.601       9.194\n",
       "CRIM          -0.2618      0.033     -7.899      0.000      -0.327      -0.197\n",
       "==============================================================================\n",
       "Omnibus:                      170.471   Durbin-Watson:                   0.805\n",
       "Prob(Omnibus):                  0.000   Jarque-Bera (JB):             1034.461\n",
       "Skew:                           1.331   Prob(JB):                    2.34e-225\n",
       "Kurtosis:                       9.479   Cond. No.                         92.2\n",
       "==============================================================================\n",
       "\n",
       "Warnings:\n",
       "[1] Standard Errors assume that the covariance matrix of the errors is correctly specified.\n",
       "\"\"\""
      ]
     },
     "execution_count": 115,
     "metadata": {},
     "output_type": "execute_result"
    }
   ],
   "source": [
    "lm_fit3= ols(formula='Price ~ RM + CRIM', data=boston_df).fit()\n",
    "\n",
    "#Summary of the fitted model\n",
    "lm_fit3.summary()"
   ]
  },
  {
   "cell_type": "markdown",
   "metadata": {
    "collapsed": true
   },
   "source": [
    "Interpretation: The house prices first decreases with the increase in the number of rooms, but later increases for more number of rooms. "
   ]
  },
  {
   "cell_type": "markdown",
   "metadata": {
    "ein.tags": [
     "worksheet-0"
    ],
    "slideshow": {
     "slide_type": "-"
    }
   },
   "source": [
    "### 1.2 Training and testing\n",
    "\n",
    "Chances are, for the above problem you used all of your data to fit the regression line. In some circumstances this is a reasonable thing to do, but often this will result in overfitting. Let's redo the above results the ML way, using careful cross-validation.  Since you are now experts in cross-validation, and have written your own cross-validation algorithm from scratch, you can now take a shortcut and use the libraries that others have built for you.\n",
    "\n",
    "Using the [cross-validation functions](http://scikit-learn.org/stable/modules/cross_validation.html) from scikit-learn, use 250-fold cross-validation to fit regression (a) above, i.e. the linear fit of housing price on number of rooms per house.\n",
    "Each fold of cross-validation will give you one slope coefficient and one intercept coefficient.  Plot the distribution of the 250 slope coefficients, and draw a vertical line at the value of the slope coefficient that you estimated in 1.1 using the full dataset.  What do you notice?\n",
    "\n",
    "Note: please use 'random_state=1' and keep 'shuffle=False' when doing the KFold splitting to ensure reproducibility!"
   ]
  },
  {
   "cell_type": "code",
   "execution_count": 116,
   "metadata": {
    "collapsed": true
   },
   "outputs": [],
   "source": [
    "#Splitting the data into RM and House Price Data\n",
    "X = bdata.data[:,5].reshape(-1,1)\n",
    "Y = bdata.target.reshape(-1,1)\n",
    "\n",
    "#Importing Kfold and Linear Model\n",
    "from sklearn.model_selection import KFold\n",
    "from sklearn import linear_model\n",
    "\n",
    "#Calling the Linear Regression Function\n",
    "regr = linear_model.LinearRegression()\n",
    "\n",
    "#250-fold cross validation\n",
    "kf = KFold(n_splits=250, random_state=1, shuffle=False)\n",
    "\n",
    "#Creating an empty array for slopes\n",
    "slopes = []\n",
    "\n",
    "#Calculating slopes for each of the 250 folds.\n",
    "for train_index, test_index in kf.split(X):\n",
    "    coef = (regr.fit(X[train_index], Y[train_index]).coef_)\n",
    "    slopes.append( coef )"
   ]
  },
  {
   "cell_type": "code",
   "execution_count": 117,
   "metadata": {},
   "outputs": [
    {
     "data": {
      "text/plain": [
       "<matplotlib.legend.Legend at 0x1e99358>"
      ]
     },
     "execution_count": 117,
     "metadata": {},
     "output_type": "execute_result"
    },
    {
     "data": {
      "image/png": "[encoded data removed]",
      "text/plain": [
       "<matplotlib.figure.Figure at 0xd2af240>"
      ]
     },
     "metadata": {},
     "output_type": "display_data"
    }
   ],
   "source": [
    "#Preparing to plot. Bringing Slopes array into a list format\n",
    "slopes = np.asarray(slopes)\n",
    "slopes = list(slopes.reshape(1,-1))\n",
    "\n",
    "#Plot the distribution of slopes across 250 folds\n",
    "fig,ax= plt.subplots(nrows=1)\n",
    "ax.hist(slopes, bins=20, color='purple')\n",
    "fig.set_size_inches(15,5)\n",
    "ax.axvline(lm_fit1.params[1], color='green', linestyle='dashed', linewidth=3, label='Full_Dataset_Slope_Coefficient')\n",
    "ax.legend(loc=0)"
   ]
  },
  {
   "cell_type": "markdown",
   "metadata": {
    "ein.tags": [
     "worksheet-0"
    ],
    "slideshow": {
     "slide_type": "-"
    }
   },
   "source": [
    "### 1.3 Regression lines\n",
    "\n",
    "Create a scatterplot of housing price on rooms per house, and add the two regression lines from 1.1 (or 1.2 if you prefer to do so). Show the linear regression line in red, and the linear+quadratic regression line (which may have curvature) in blue.  Label these two regression lines with the corresponding regression equations (i.e. the slope and intercept of the line).\n",
    "\n",
    "Bonus: Add the 95% confidence bands (i.e.,  the area that has a 95% chance of containing the true regression line) to each of these lines."
   ]
  },
  {
   "cell_type": "code",
   "execution_count": 118,
   "metadata": {
    "autoscroll": "json-false",
    "ein.tags": [
     "worksheet-0"
    ],
    "slideshow": {
     "slide_type": "-"
    }
   },
   "outputs": [
    {
     "data": {
      "text/plain": [
       "<matplotlib.text.Text at 0xd5abc50>"
      ]
     },
     "execution_count": 118,
     "metadata": {},
     "output_type": "execute_result"
    },
    {
     "data": {
      "image/png": "[encoded data removed]",
      "text/plain": [
       "<matplotlib.figure.Figure at 0xd243a90>"
      ]
     },
     "metadata": {},
     "output_type": "display_data"
    }
   ],
   "source": [
    "fig,ax= plt.subplots(nrows=1)\n",
    "ax.scatter(X,Y, color='orange', alpha=0.5)\n",
    "fig.set_size_inches(15,5)\n",
    "#ax.legend(loc=0)\n",
    "#X_plot = np.linspace(0,1,100)\n",
    "#Create the Line for Lm_fit_1\n",
    "line1 = lm_fit1.params[0] + lm_fit1.params[1]*X\n",
    "\n",
    "#Create the confidence intervals for Lm_fit_1\n",
    "values, conf_int1_lower, conf_int1_upper = wls_prediction_std(lm_fit1)\n",
    "\n",
    "#plot the lines\n",
    "ax.plot(np.sort(X, axis=0), np.sort(line1, axis=0), color='green', \n",
    "        label='Simple Regression Line')\n",
    "ax.plot(np.sort(X,axis=0), np.sort(conf_int1_lower, axis=0), color='green', \n",
    "        linestyle = 'dashed', label='upper_confidence_level')\n",
    "ax.plot(np.sort(X, axis=0), np.sort(conf_int1_upper, axis=0), color='green', \n",
    "        linestyle = 'dashed', label='lower confidence level')\n",
    "\n",
    "#Create the Line for Lm_fit_1\n",
    "line2 = lm_fit2.params[0] + lm_fit2.params[1]*X + lm_fit2.params[2]*np.power(X,2)\n",
    "\n",
    "#Create the confidence intervals for Lm_fit_1\n",
    "values, conf_int2_lower, conf_int2_upper = wls_prediction_std(lm_fit2)\n",
    "\n",
    "#Plot the line\n",
    "ax.plot(np.sort(X, axis=0), np.sort(line2, axis=0), color='red',\n",
    "        label='Quadratic Regression Curve')\n",
    "ax.plot(np.sort(X, axis=0), np.sort(conf_int2_lower, axis=0), color='red', \n",
    "        linestyle = 'dashed', label = 'upper_confidence_level')\n",
    "ax.plot(np.sort(X, axis=0), np.sort(conf_int2_upper,axis=0), color='red', \n",
    "        linestyle = 'dashed', label = 'lower_confidence_level')\n",
    "\n",
    "ax.legend(loc=0)\n",
    "\n",
    "#Lables\n",
    "ax.set_title('Number of Rooms vs. Median House Prices')\n",
    "ax.set_xlabel('Number of Rooms per dwelling')\n",
    "ax.set_ylabel('Median House Values (in thousands)')\n"
   ]
  },
  {
   "cell_type": "markdown",
   "metadata": {
    "ein.tags": [
     "worksheet-0"
    ],
    "slideshow": {
     "slide_type": "-"
    }
   },
   "source": [
    "## Part 2: Gradient descent: Linear Regression\n",
    "\n",
    "This is where it gets fun!\n",
    "\n",
    "### 2.1 Implement gradient descent with one independent variable (Average rooms per house)\n",
    "\n",
    "Implement the batch gradient descent algorithm that we discussed in class. Use the version you implement to regress the housing price on the number of rooms per house. Experiment with 3-4 different values of the learning rate *R*, and do the following:\n",
    "\n",
    "* Report the values of alpha and beta that minimize the loss function\n",
    "* Report the number of iterations it takes for your algorithm to converge (for each value of *R*)\n",
    "* Report the total running time of your algorithm, in seconds\n",
    "\n",
    "Some skeleton code is provided below, but you should feel free to delete this code and start from scratch if you prefer.\n",
    "\n",
    "* *Hint 1: Don't forget to implement a stopping condition, so that at every iteration you check whether your results have converged. Common approaches to this are to (a) check to see if the loss has stopped decreasing; and (b) check if both your current parameter esimates are close to the estimates from the previous iteration.  In both cases, \"close\" should not be ==0, it should be <=epsilon, where epsilon is something very small (like 0.0001).*\n",
    "* *Hint 2: It is always useful to include maximum number of iterations, otherwise a rogue estimation may go on forever.*"
   ]
  },
  {
   "cell_type": "code",
   "execution_count": 119,
   "metadata": {
    "autoscroll": "json-false",
    "collapsed": true,
    "ein.tags": [
     "worksheet-0"
    ],
    "slideshow": {
     "slide_type": "-"
    }
   },
   "outputs": [],
   "source": [
    "\"\"\"\n",
    "    Function\n",
    "    --------\n",
    "    bivariate_ols: Gradient Decent to minimize OLS. Used to find coefficients of bivariate OLS Linear regression\n",
    "\n",
    "    Parameters\n",
    "    ----------\n",
    "    xvalues, yvalues : narray xvalues: independent variable; yvalues: dependent variable\n",
    "    R: float, Learning rate\n",
    "    MaxIterations: Int, maximum number of iterations\n",
    "\n",
    "    Returns\n",
    "    -------\n",
    "    alpha: float, intercept\n",
    "    beta: float, co-efficient\n",
    "    ttaken: time taken\n",
    "    it: number of iterations\n",
    "    convergence: logical, convergence achieved?\n",
    "\"\"\"\n",
    "import time\n",
    "def bivariate_ols(xvalues, yvalues, R, MaxIterations, epsilon=0.0001):\n",
    "    \n",
    "    start_time = time.time()\n",
    "    #Get the number of training samples (m) and the number of features (n)\n",
    "    m, n = np.shape(xvalues)\n",
    "    \n",
    "    #initial Values for alpha and beta\n",
    "    alpha = np.random.random(n)\n",
    "    beta = np.random.random(n) \n",
    "    \n",
    "    #X transpose\n",
    "    x_transpose = xvalues.transpose()\n",
    "   \n",
    "    for i in range(MaxIterations):\n",
    "        #Cost Function\n",
    "        #State the hypothesis\n",
    "        hypothesis = alpha + np.dot(xvalues, beta)\n",
    "        #Compute Loss\n",
    "        loss = hypothesis - yvalues\n",
    "        #Compute the Cost Function J\n",
    "        J = ((np.sum(loss ** 2) / (2 * m)))\n",
    "        #print(\"Iteration %d | Cost: %f\" % (i, J))\n",
    "\n",
    "        #Compute Gradient for alpha and beta\n",
    "        gradient_alpha = (np.sum(loss) / m)\n",
    "        gradient_beta = (np.dot(x_transpose, loss) / m)\n",
    "\n",
    "        #Update alpha and beta\n",
    "        alpha = alpha - R*gradient_alpha\n",
    "        beta = beta - R*gradient_beta\n",
    "            \n",
    "        #Compute new cost function\n",
    "        hypothesis_new = alpha + np.dot(xvalues, beta)\n",
    "        #Compute Loss\n",
    "        loss_new = hypothesis_new - yvalues\n",
    "        #Compute the Cost Function J\n",
    "        J_new = ((np.sum(loss_new ** 2) / (2 * m)))\n",
    "\n",
    "        #Stopping condition\n",
    "        if abs(J_new - J) <= epsilon:\n",
    "            print ('Converged, Iterations:', i)\n",
    "            break\n",
    "    print 'Time Taken is : ' + str(time.time() - start_time)        \n",
    "    return alpha, beta[0][0:n]"
   ]
  },
  {
   "cell_type": "code",
   "execution_count": 120,
   "metadata": {},
   "outputs": [
    {
     "name": "stdout",
     "output_type": "stream",
     "text": [
      "('Converged, Iterations:', 13595)\n",
      "Time Taken is : 140.845000029\n"
     ]
    }
   ],
   "source": [
    "#R = 0.0009\n",
    "int1, slope1 = bivariate_ols(X, Y, 0.0009, 20000)"
   ]
  },
  {
   "cell_type": "code",
   "execution_count": 121,
   "metadata": {},
   "outputs": [
    {
     "data": {
      "text/plain": [
       "(array([-34.47428359]), array([ 9.07089637]))"
      ]
     },
     "execution_count": 121,
     "metadata": {},
     "output_type": "execute_result"
    }
   ],
   "source": [
    "int1,slope1"
   ]
  },
  {
   "cell_type": "code",
   "execution_count": 122,
   "metadata": {},
   "outputs": [
    {
     "name": "stdout",
     "output_type": "stream",
     "text": [
      "('Converged, Iterations:', 14987)\n",
      "Time Taken is : 148.588000059\n"
     ]
    }
   ],
   "source": [
    "#R = 0.0008\n",
    "int2, slope2 = bivariate_ols(X, Y, 0.0008, 20000)"
   ]
  },
  {
   "cell_type": "code",
   "execution_count": 123,
   "metadata": {},
   "outputs": [
    {
     "data": {
      "text/plain": [
       "(array([-34.46236632]), array([ 9.06900182]))"
      ]
     },
     "execution_count": 123,
     "metadata": {},
     "output_type": "execute_result"
    }
   ],
   "source": [
    "int2, slope2"
   ]
  },
  {
   "cell_type": "code",
   "execution_count": 124,
   "metadata": {},
   "outputs": [
    {
     "name": "stdout",
     "output_type": "stream",
     "text": [
      "('Converged, Iterations:', 12244)\n",
      "Time Taken is : 119.351999998\n"
     ]
    }
   ],
   "source": [
    "#R = 0.001\n",
    "int3,slope3 = bivariate_ols(X, Y, 0.001, 20000)"
   ]
  },
  {
   "cell_type": "code",
   "execution_count": 125,
   "metadata": {},
   "outputs": [
    {
     "data": {
      "text/plain": [
       "(array([-34.48440838]), array([ 9.07250595]))"
      ]
     },
     "execution_count": 125,
     "metadata": {},
     "output_type": "execute_result"
    }
   ],
   "source": [
    "int3,slope3"
   ]
  },
  {
   "cell_type": "code",
   "execution_count": null,
   "metadata": {
    "collapsed": true
   },
   "outputs": [],
   "source": []
  },
  {
   "cell_type": "markdown",
   "metadata": {
    "ein.tags": [
     "worksheet-0"
    ],
    "slideshow": {
     "slide_type": "-"
    }
   },
   "source": [
    "### 2.2 Data normalization (done for you!)\n",
    "\n",
    "Soon, you will implement a version of gradient descent that can use an arbitrary number of independent variables. Before doing this, we want to give you some code in case you want to standardize your features."
   ]
  },
  {
   "cell_type": "code",
   "execution_count": 126,
   "metadata": {
    "autoscroll": "json-false",
    "collapsed": true,
    "ein.tags": [
     "worksheet-0"
    ],
    "slideshow": {
     "slide_type": "-"
    }
   },
   "outputs": [],
   "source": [
    "def standardize(raw_data):\n",
    "    \"\"\"\n",
    "    standardizes raw data and returns\n",
    "    standardized data, mean by column, sd by column\n",
    "    \"\"\"\n",
    "    mu = np.mean(raw_data, axis = 0)\n",
    "    sd = np.std(raw_data, axis = 0)\n",
    "    return (raw_data - mu) / sd, mu, sd\n"
   ]
  },
  {
   "cell_type": "markdown",
   "metadata": {
    "ein.tags": [
     "worksheet-0"
    ],
    "slideshow": {
     "slide_type": "-"
    }
   },
   "source": [
    "### 2.3 Implement gradient descent with an arbitrary number of independent variables\n",
    "\n",
    "Now that you have a simple version of gradient descent working, create a version of gradient descent that can take more than one independent variable.  Assume all independent variables will be continuous.  Test your algorithm using CRIM and RM as independent variables. Standardize these variables before before inputting them to the gradient descent algorithm. \n",
    "\n",
    "As before,  report and interpret your estimated coefficients, the number of iterations before convergence, and the total running time of your algorithm. Experiment with the following values of R: 0.1, 0.01, and 0.001.\n",
    "\n",
    "* *Hint 1: Be careful to implement this efficiently, otherwise it might take a long time for your code to run. Commands like `np.dot` can be a good friend to you on this problem*"
   ]
  },
  {
   "cell_type": "code",
   "execution_count": 127,
   "metadata": {
    "autoscroll": "json-false",
    "collapsed": true,
    "ein.tags": [
     "worksheet-0"
    ],
    "slideshow": {
     "slide_type": "-"
    }
   },
   "outputs": [],
   "source": [
    "\"\"\"\n",
    "Function\n",
    "--------\n",
    "multiple_ols\n",
    "    Gradient Decent to minimize OLS. Used to find co-efficients of bivariate OLS Linear regression\n",
    "\n",
    "Parameters\n",
    "----------\n",
    "xvalue_matrix, yvalues : narray\n",
    "    xvalue_matrix: independent variable\n",
    "    yvalues: dependent variable\n",
    "    \n",
    "R: float\n",
    "    Learning rate\n",
    "    \n",
    "MaxIterations: Int\n",
    "    maximum number of iterations\n",
    "\n",
    "feature_indices: List\n",
    "    features you want to consider\n",
    "\n",
    "Returns\n",
    "-------\n",
    "coeffs: array[float], coefficients\n",
    "\"\"\"\n",
    "def multiple_ols(xvalues, yvalues, R, MaxIterations, feature_indices, epsilon=0.0001):\n",
    "    \n",
    "    start_time = time.time()\n",
    "    \n",
    "    #Preparing the Data\n",
    "    #Extracting features\n",
    "    xvalues = xvalues[:,feature_indices]\n",
    "  \n",
    "    #Get the number of training samples (m) and the number of features (n)\n",
    "    m, n = np.shape(xvalues)\n",
    "    \n",
    "    #initial Values for coefficients\n",
    "    coeffs = np.random.random(n+1).reshape(-1,1)\n",
    "    \n",
    "    #Inserting a column of ones to xvalues\n",
    "    xvalues = np.c_[ np.ones(m), xvalues ] \n",
    "    \n",
    "    #X transpose\n",
    "    x_transpose = xvalues.transpose()\n",
    "    \n",
    "    for i in range(MaxIterations):\n",
    "        \n",
    "        #Cost Function\n",
    "        #State the hypothesis\n",
    "        hypothesis = np.dot(xvalues, coeffs)\n",
    "        \n",
    "        #Compute Loss\n",
    "        loss = hypothesis - yvalues\n",
    "        \n",
    "        #Compute the Cost Function J\n",
    "        J = ((np.sum(loss ** 2) / (2 * m)))\n",
    "        #print(\"Iteration %d | Cost: %f\" % (i, J))\n",
    "        \n",
    "        #Compute Gradient for all coeffs\n",
    "        gradient = (np.dot(x_transpose, loss)) / m\n",
    "        \n",
    "        #Update Coefficients\n",
    "        coeffs = coeffs - R*gradient\n",
    "    \n",
    "        #Compute new cost function\n",
    "        hypothesis_new = np.dot(xvalues, coeffs)\n",
    "    \n",
    "        #Compute Loss\n",
    "        loss_new = hypothesis_new - yvalues\n",
    "        #Compute the Cost Function J\n",
    "        J_new = ((np.sum(loss_new ** 2) / (2 * m)))\n",
    "\n",
    "        #Stopping condition\n",
    "        if abs(J_new - J) <= epsilon:\n",
    "            print ('Converged, Iterations:', i)\n",
    "            break\n",
    "    print 'Time Taken is : ' + str(time.time() - start_time)   \n",
    "\n",
    "    return coeffs"
   ]
  },
  {
   "cell_type": "code",
   "execution_count": 128,
   "metadata": {},
   "outputs": [],
   "source": [
    "#Preparing Data for Gradient Descent - CRIM and RM\n",
    "X_new = bdata.data\n",
    "X_new_std = standardize(bdata.data)[0]\n",
    "Y_new = bdata.target.reshape(-1,1)"
   ]
  },
  {
   "cell_type": "code",
   "execution_count": 129,
   "metadata": {
    "scrolled": true
   },
   "outputs": [
    {
     "name": "stdout",
     "output_type": "stream",
     "text": [
      "('Converged, Iterations:', 4244)\n",
      "Time Taken is : 0.246000051498\n"
     ]
    }
   ],
   "source": [
    "#Calling Gradient Descent for multiple features with R - 0.001 \n",
    "coeffs_1 = multiple_ols(X_new_std, Y_new, 0.001,10000, [0,5])"
   ]
  },
  {
   "cell_type": "code",
   "execution_count": 130,
   "metadata": {},
   "outputs": [
    {
     "data": {
      "text/plain": [
       "array([[ 22.2246313 ],\n",
       "       [ -2.27467855],\n",
       "       [  5.82047022]])"
      ]
     },
     "execution_count": 130,
     "metadata": {},
     "output_type": "execute_result"
    }
   ],
   "source": [
    "coeffs_1"
   ]
  },
  {
   "cell_type": "code",
   "execution_count": 131,
   "metadata": {},
   "outputs": [
    {
     "data": {
      "text/plain": [
       "array(['CRIM', 'ZN', 'INDUS', 'CHAS', 'NOX', 'RM', 'AGE', 'DIS', 'RAD',\n",
       "       'TAX', 'PTRATIO', 'B', 'LSTAT'], \n",
       "      dtype='|S7')"
      ]
     },
     "execution_count": 131,
     "metadata": {},
     "output_type": "execute_result"
    }
   ],
   "source": [
    "bdata.feature_names"
   ]
  },
  {
   "cell_type": "code",
   "execution_count": 132,
   "metadata": {},
   "outputs": [
    {
     "name": "stdout",
     "output_type": "stream",
     "text": [
      "('Converged, Iterations:', 539)\n",
      "Time Taken is : 0.0449998378754\n"
     ]
    }
   ],
   "source": [
    "#Calling Gradient Descent for multiple features with R - 0.01\n",
    "coeffs_2 = multiple_ols(X_new_std, Y_new, 0.01,10000, [0,5])"
   ]
  },
  {
   "cell_type": "code",
   "execution_count": 133,
   "metadata": {},
   "outputs": [
    {
     "data": {
      "text/plain": [
       "array([[ 22.43594474],\n",
       "       [ -2.26130217],\n",
       "       [  5.87148669]])"
      ]
     },
     "execution_count": 133,
     "metadata": {},
     "output_type": "execute_result"
    }
   ],
   "source": [
    "coeffs_2"
   ]
  },
  {
   "cell_type": "code",
   "execution_count": 134,
   "metadata": {},
   "outputs": [
    {
     "name": "stdout",
     "output_type": "stream",
     "text": [
      "('Converged, Iterations:', 63)\n",
      "Time Taken is : 0.00500011444092\n"
     ]
    }
   ],
   "source": [
    "#Calling Gradient Descent for multiple features with R - 0.1\n",
    "coeffs_3 = multiple_ols(X_new_std, Y_new, 0.1,10000, [0,5])"
   ]
  },
  {
   "cell_type": "code",
   "execution_count": 135,
   "metadata": {},
   "outputs": [
    {
     "data": {
      "text/plain": [
       "array([[ 22.50737845],\n",
       "       [ -2.25502069],\n",
       "       [  5.88625888]])"
      ]
     },
     "execution_count": 135,
     "metadata": {},
     "output_type": "execute_result"
    }
   ],
   "source": [
    "coeffs_3"
   ]
  },
  {
   "cell_type": "markdown",
   "metadata": {},
   "source": [
    "Interpretation: The cost function minimizes at the above intercept and co-efficient values. Keeping other factors constant, With every unit rise in the per capita crime rate in Boston, the house prices decreases by 2000 dollars. Similarly, keeping other factors constant, with every unit increase in the number of rooms in a house, the house price increases by 5810 dollars."
   ]
  },
  {
   "cell_type": "markdown",
   "metadata": {
    "ein.tags": [
     "worksheet-0"
    ],
    "slideshow": {
     "slide_type": "-"
    }
   },
   "source": [
    "### 2.4 Compare standardized vs. non-standardized results\n",
    "\n",
    "Repeat the analysis from 2.3, but this time do not standardize your variables - i.e., use the original data. Use the same three values of R (0.1, 0.01, and 0.001). What do you notice about the running time and convergence properties of your algorithm?"
   ]
  },
  {
   "cell_type": "code",
   "execution_count": 136,
   "metadata": {
    "autoscroll": "json-false",
    "ein.tags": [
     "worksheet-0"
    ],
    "slideshow": {
     "slide_type": "-"
    }
   },
   "outputs": [
    {
     "name": "stdout",
     "output_type": "stream",
     "text": [
      "('Converged, Iterations:', 7439)\n",
      "Time Taken is : 0.4359998703\n",
      "Time Taken is : 0.575000047684\n"
     ]
    },
    {
     "name": "stderr",
     "output_type": "stream",
     "text": [
      "D:\\Anaconda\\lib\\site-packages\\ipykernel_launcher.py:71: RuntimeWarning: overflow encountered in square\n",
      "D:\\Anaconda\\lib\\site-packages\\ipykernel_launcher.py:56: RuntimeWarning: overflow encountered in square\n",
      "D:\\Anaconda\\lib\\site-packages\\ipykernel_launcher.py:74: RuntimeWarning: invalid value encountered in double_scalars\n",
      "D:\\Anaconda\\lib\\site-packages\\ipykernel_launcher.py:63: RuntimeWarning: invalid value encountered in subtract\n"
     ]
    },
    {
     "name": "stdout",
     "output_type": "stream",
     "text": [
      "Time Taken is : 0.578000068665\n"
     ]
    }
   ],
   "source": [
    "#Calling Gradient Descent for multiple features with R - 0.001 \n",
    "coeffs_1 = multiple_ols(X_new, Y_new, 0.001,10000, [0,5])\n",
    "\n",
    "#Calling Gradient Descent for multiple features with R - 0.01\n",
    "coeffs_2 = multiple_ols(X_new, Y_new, 0.01,10000, [0,5])\n",
    "\n",
    "#Calling Gradient Descent for multiple features with R - 0.1\n",
    "coeffs_3 = multiple_ols(X_new, Y_new, 0.1,10000, [0,5])"
   ]
  },
  {
   "cell_type": "code",
   "execution_count": 137,
   "metadata": {},
   "outputs": [
    {
     "data": {
      "text/plain": [
       "array([[-1.41032901],\n",
       "       [-0.35498693],\n",
       "       [ 4.06250257]])"
      ]
     },
     "execution_count": 137,
     "metadata": {},
     "output_type": "execute_result"
    }
   ],
   "source": [
    "coeffs_1"
   ]
  },
  {
   "cell_type": "code",
   "execution_count": 138,
   "metadata": {},
   "outputs": [
    {
     "data": {
      "text/plain": [
       "array([[-19.44901156],\n",
       "       [ -0.29473326],\n",
       "       [  6.86617496]])"
      ]
     },
     "execution_count": 138,
     "metadata": {},
     "output_type": "execute_result"
    }
   ],
   "source": [
    "coeffs_2"
   ]
  },
  {
   "cell_type": "code",
   "execution_count": 139,
   "metadata": {},
   "outputs": [
    {
     "data": {
      "text/plain": [
       "array([[ nan],\n",
       "       [ nan],\n",
       "       [ nan]])"
      ]
     },
     "execution_count": 139,
     "metadata": {},
     "output_type": "execute_result"
    }
   ],
   "source": [
    "coeffs_3"
   ]
  },
  {
   "cell_type": "markdown",
   "metadata": {},
   "source": [
    "Coefficients do not converge for R 0.01 and 0.1. Also, time taken with non-normalized features is more than that with normalized features. "
   ]
  },
  {
   "cell_type": "markdown",
   "metadata": {
    "ein.tags": [
     "worksheet-0"
    ],
    "slideshow": {
     "slide_type": "-"
    }
   },
   "source": [
    "## 3. Prediction\n",
    "\n",
    "Let's use our fitted model to make predictions about housing prices. Since the focus is now on prediction rather than the interpretation of the coefficients, first standardize your features before proceeding.\n",
    "\n",
    "### 3.1 Cross-Validation\n",
    "\n",
    "Unless you were careful above, you probably overfit your data again. Let's fix that in one of two ways. If you're feeling confident, use k-fold cross-validation to re-fit the multiple regression from 2.3 above, and report your estimated coefficients (there should be three, corresponding to the intercept and the two coefficients for CRIM and RM). Or if you want to do the quick and dirty version, randomly divide your data into a training set (66%) and testing set (34%) and use the training set to re-fit the regression from 2.3 above. "
   ]
  },
  {
   "cell_type": "code",
   "execution_count": 140,
   "metadata": {
    "autoscroll": "json-false",
    "ein.tags": [
     "worksheet-0"
    ],
    "slideshow": {
     "slide_type": "-"
    }
   },
   "outputs": [
    {
     "name": "stdout",
     "output_type": "stream",
     "text": [
      "('Converged, Iterations:', 541)\n",
      "Time Taken is : 0.0350000858307\n",
      "('Converged, Iterations:', 543)\n",
      "Time Taken is : 0.0299999713898\n",
      "('Converged, Iterations:', 540)\n",
      "Time Taken is : 0.0350000858307\n",
      "('Converged, Iterations:', 558)\n",
      "Time Taken is : 0.0329999923706\n",
      "('Converged, Iterations:', 557)\n",
      "Time Taken is : 0.0299999713898\n",
      "('Converged, Iterations:', 574)\n",
      "Time Taken is : 0.0350000858307\n",
      "('Converged, Iterations:', 542)\n",
      "Time Taken is : 0.0299999713898\n",
      "('Converged, Iterations:', 646)\n",
      "Time Taken is : 0.0479998588562\n",
      "('Converged, Iterations:', 603)\n",
      "Time Taken is : 0.0310001373291\n",
      "('Converged, Iterations:', 535)\n",
      "Time Taken is : 0.0349998474121\n",
      "[[ 22.42379628  -2.27881573   5.86230717]]\n"
     ]
    }
   ],
   "source": [
    "#Standardize data\n",
    "X_cv_std = standardize(bdata.data)[0]   \n",
    "Y_cv = bdata.target\n",
    "\n",
    "#10-fold cross validation\n",
    "kf = KFold(n_splits=10, random_state=1, shuffle=False)\n",
    "\n",
    "#Creating an empty array for slopes\n",
    "co_efficients = []\n",
    "\n",
    "#Calculating slopes for each of the 10 folds.\n",
    "for train_index, test_index in kf.split(X_cv_std):\n",
    "    coef = multiple_ols(X_cv_std[train_index], Y_cv[train_index].reshape(-1,1),0.01, 10000, [0,5])\n",
    "    co_efficients.append(coef.reshape(1,-1))\n",
    "\n",
    "#Taking means\n",
    "mean_coeff_estimates = np.mean(np.asarray(co_efficients), axis = 0)\n",
    "    \n",
    "print (mean_coeff_estimates)"
   ]
  },
  {
   "cell_type": "markdown",
   "metadata": {},
   "source": [
    "The coefficients are 22.422, -2.278, 5.862"
   ]
  },
  {
   "cell_type": "markdown",
   "metadata": {
    "ein.tags": [
     "worksheet-0"
    ],
    "slideshow": {
     "slide_type": "-"
    }
   },
   "source": [
    "### 3.2 Predicted values and RMSE\n",
    "\n",
    "Let's figure out how accurate this predictive model turned out to be. Compute the RMSE on your test cases, i.e. take the model parameters that you found above and compare the actual to the predicted values for just the test instances. If you did this the k-fold way above, this will be the average RMSE across the k test sets. If you did this the quick and dirty way above, this will just be the RMSE on your single test set.\n",
    "\n",
    "What is your test RMSE?  How does it compare to the performance of your nearest neighbor algorithm from the last problem set?  How does it compare to RMSE from a simpler model where number of rooms is the only explanatory variable?"
   ]
  },
  {
   "cell_type": "code",
   "execution_count": 141,
   "metadata": {
    "collapsed": true
   },
   "outputs": [],
   "source": [
    "import math\n",
    "#Function to compute rmses\n",
    "def compute_rmse(predictions,y_values):\n",
    "    sq_error = (predictions - y_values)**2\n",
    "    sum_sq_error = sq_error.sum()\n",
    "    rmse = math.sqrt(sum_sq_error/float(len(predictions)))\n",
    "    return rmse"
   ]
  },
  {
   "cell_type": "code",
   "execution_count": 142,
   "metadata": {
    "autoscroll": "json-false",
    "ein.tags": [
     "worksheet-0"
    ],
    "slideshow": {
     "slide_type": "-"
    }
   },
   "outputs": [
    {
     "name": "stdout",
     "output_type": "stream",
     "text": [
      "('Mean RMSE:', 4.2886014005083961)\n"
     ]
    }
   ],
   "source": [
    "#Preparing the data\n",
    "\n",
    "for train_index, test_index in kf.split(X_cv_std):\n",
    "    x_test = X_cv_std[test_index]\n",
    "    y_test = Y_cv[test_index].reshape(-1,1)\n",
    "    \n",
    "    #Inserting ones in first column to account for intercept\n",
    "    x_cv_test = np.c_[ np.ones(len(x_test)).reshape(-1,1), x_test[:,[0,5]] ] \n",
    "    \n",
    "    #Predictions from coef computed above\n",
    "    predictions = np.dot(x_cv_test,coef)\n",
    "    \n",
    "    #Create an empty array for RMSEs\n",
    "    rmses = []\n",
    "    rmses.append(compute_rmse(predictions,y_test))\n",
    "\n",
    "#Taking means\n",
    "mean_rmse = np.mean(rmses)\n",
    "print(\"Mean RMSE:\", mean_rmse)"
   ]
  },
  {
   "cell_type": "markdown",
   "metadata": {},
   "source": [
    "The test RMSE is 4.28. It is much lower as compared to the KNN RMSE of 7.01. This may be because in KNN, prediction suffers due to lot of approximation. It's interesting!"
   ]
  },
  {
   "cell_type": "markdown",
   "metadata": {
    "ein.tags": [
     "worksheet-0"
    ],
    "slideshow": {
     "slide_type": "-"
    }
   },
   "source": [
    "### Extra Credit 1: Logistic Regression\n",
    "\n",
    "For extra credit, implement logistic regression using gradient descent. Create a new variable (EXPENSIVE) to indicate whether the median housing price is more than $40,000. Use your model  a logistic regression of EXPENSIVE on CHAS and RM. Report your results."
   ]
  },
  {
   "cell_type": "code",
   "execution_count": 143,
   "metadata": {
    "collapsed": true
   },
   "outputs": [],
   "source": [
    "#Function to check if the house is expensive\n",
    "def expensive_check(x):\n",
    "    if x > 40:\n",
    "        return 1\n",
    "    else:\n",
    "        return 0"
   ]
  },
  {
   "cell_type": "code",
   "execution_count": 144,
   "metadata": {},
   "outputs": [],
   "source": [
    "#Applying the function on the Prices\n",
    "boston_df['EXPENSIVE'] = boston_df['Price'].apply(expensive_check)"
   ]
  },
  {
   "cell_type": "code",
   "execution_count": 145,
   "metadata": {
    "collapsed": true
   },
   "outputs": [],
   "source": [
    "#Converting the dataframe to a numpy array\n",
    "bdata_logistic = np.asarray(boston_df)"
   ]
  },
  {
   "cell_type": "code",
   "execution_count": 146,
   "metadata": {
    "collapsed": true
   },
   "outputs": [],
   "source": [
    "def sigmoid(z):  \n",
    "    return 1 / (1 + np.exp(-z))"
   ]
  },
  {
   "cell_type": "code",
   "execution_count": 147,
   "metadata": {
    "collapsed": true
   },
   "outputs": [],
   "source": [
    "\"\"\"\n",
    "Function\n",
    "--------\n",
    "logistic_gd\n",
    "    Gradient Decent to minimize OLS. Used to find co-efficients of Logistic Regression\n",
    "\n",
    "Parameters\n",
    "----------\n",
    "xvalue_matrix, yvalues : narray\n",
    "    xvalue_matrix: independent variable\n",
    "    yvalues: dependent variable\n",
    "    \n",
    "R: float\n",
    "    Learning rate\n",
    "    \n",
    "MaxIterations: Int\n",
    "    maximum number of iterations\n",
    "\n",
    "feature_indices: List\n",
    "    features you want to consider\n",
    "\n",
    "Returns\n",
    "-------\n",
    "coeffs: array[float], coefficients\n",
    "\"\"\"\n",
    "def logistic_gd(xvalues, yvalues, R, MaxIterations, feature_indices, epsilon=0.0001):\n",
    "    \n",
    "    start_time = time.time()\n",
    "    \n",
    "    #Extracting features\n",
    "    xvalues = xvalues[:,feature_indices]\n",
    "\n",
    "    #Get the number of training samples (m) and the number of features (n)\n",
    "    m, n = np.shape(xvalues)\n",
    "    \n",
    "    #initial Values for coefficients\n",
    "    coeffs = np.random.random(n+1).reshape(-1,1)\n",
    "    \n",
    "    #Inserting a column of ones to xvalues\n",
    "    xvalues = np.c_[ np.ones(m), xvalues ] \n",
    "    #Reshaping the yvalues\n",
    "    yvalues = yvalues.reshape(-1,1)\n",
    "    \n",
    "    #X transpose\n",
    "    x_transpose = xvalues.transpose()\n",
    "    \n",
    "    for i in range(MaxIterations):\n",
    "        \n",
    "        #Cost Function\n",
    "        #State the hypothesis\n",
    "        hypothesis = sigmoid(np.dot(xvalues,coeffs))\n",
    "        \n",
    "        #Compute Loss\n",
    "        loss = hypothesis - yvalues\n",
    "        \n",
    "        #Compute the Cost Function J\n",
    "        first = np.dot((yvalues.transpose()), np.log(hypothesis))\n",
    "        second = np.dot(((1 - yvalues).transpose()), np.log(1 - hypothesis))\n",
    "        J = np.sum(first + second) / (-m)\n",
    "        \n",
    "        #print(\"Iteration %d | Cost: %f\" % (i, J))\n",
    "        \n",
    "        #Compute Gradient for all coeffs\n",
    "        gradient = (np.dot(x_transpose, loss)) / m\n",
    "        \n",
    "        #Update Coefficients\n",
    "        coeffs = coeffs - R*gradient\n",
    "        \n",
    "        #Compute new cost function\n",
    "        hypothesis_new = sigmoid(np.dot(xvalues,coeffs))\n",
    "    \n",
    "        #Compute Loss\n",
    "        loss_new = hypothesis_new - yvalues\n",
    "        \n",
    "        #Compute the Cost Function J\n",
    "        first_new = np.dot((yvalues.transpose()), np.log(hypothesis_new))\n",
    "        second_new = np.dot(((1 - yvalues).transpose()), np.log(1 - hypothesis_new))\n",
    "        J_new = np.sum(first_new + second_new) / (-m)\n",
    "\n",
    "        #Stopping condition\n",
    "        if abs(J_new - J) <= epsilon:\n",
    "            print ('Converged, Iterations:', i)\n",
    "            break\n",
    "    print 'Time Taken is : ' + str(time.time() - start_time) \n",
    "    \n",
    "    return coeffs"
   ]
  },
  {
   "cell_type": "code",
   "execution_count": 148,
   "metadata": {},
   "outputs": [
    {
     "name": "stdout",
     "output_type": "stream",
     "text": [
      "('Converged, Iterations:', 2239)\n",
      "Time Taken is : 0.365000009537\n"
     ]
    },
    {
     "data": {
      "text/plain": [
       "array([[-0.52665968],\n",
       "       [ 0.20716832],\n",
       "       [ 0.37796112]])"
      ]
     },
     "execution_count": 148,
     "metadata": {},
     "output_type": "execute_result"
    }
   ],
   "source": [
    "#Calling the logistic regression function for R = 0.0001 and features CHAS and RM\n",
    "logistic_gd(X_new_std, bdata_logistic[:,14], 0.001, 20000, [3,5])"
   ]
  },
  {
   "cell_type": "markdown",
   "metadata": {},
   "source": [
    "Thus, we have the Logistic Regression co-efficients above. \n",
    "Interpretation: Keeping other factors unchanged, if a house is bounded by the Charles River, its log odds of being expensive increases by 0.53. Also, keeping other factors constant, if  the number of rooms is increased by 1, the log odds of a house being expensive increases by 0.48."
   ]
  },
  {
   "cell_type": "code",
   "execution_count": 149,
   "metadata": {},
   "outputs": [
    {
     "data": {
      "text/plain": [
       "(506L, 2L)"
      ]
     },
     "execution_count": 149,
     "metadata": {},
     "output_type": "execute_result"
    }
   ],
   "source": [
    "bdata.data[:,[3,5]].shape"
   ]
  },
  {
   "cell_type": "markdown",
   "metadata": {
    "ein.tags": [
     "worksheet-0"
    ],
    "slideshow": {
     "slide_type": "-"
    }
   },
   "source": [
    "## 4 Regularization \n",
    "\n",
    "### 4.1 Get prepped\n",
    "\n",
    "Step 1: Create new interaction variables between each possible pair of the F_s features.  Note: as all the original features are numeric, you can just multiply.  If you originally had *K* features, you should now have K+(K*(K+1))/2 features. Standardize all of your features.\n",
    "\n",
    "Step 2: For simplicity, generate a single training and testing set.  Randomly sample 66% of your data and call this the training set, and set aside the remaining 34% as your test set."
   ]
  },
  {
   "cell_type": "code",
   "execution_count": 150,
   "metadata": {
    "autoscroll": "json-false",
    "ein.tags": [
     "worksheet-0"
    ],
    "slideshow": {
     "slide_type": "-"
    }
   },
   "outputs": [
    {
     "data": {
      "text/plain": [
       "(506L, 104L)"
      ]
     },
     "execution_count": 150,
     "metadata": {},
     "output_type": "execute_result"
    }
   ],
   "source": [
    "#Step1: Creating Interaction Variables\n",
    "\n",
    "# create interaction terms \n",
    "from sklearn.preprocessing import PolynomialFeatures\n",
    "poly = PolynomialFeatures(include_bias=False)\n",
    "poly_bdata = poly.fit_transform(bdata.data)\n",
    "\n",
    "#Number of interaction features\n",
    "n_features = poly_bdata.shape[1]\n",
    "\n",
    "#Standardizing the features\n",
    "bdata_interaction_std = standardize(poly_bdata)[0]\n",
    "\n",
    "#Checking if we have K+(K*(K+1))/2 features\n",
    "bdata_interaction_std.shape"
   ]
  },
  {
   "cell_type": "code",
   "execution_count": 151,
   "metadata": {
    "collapsed": true
   },
   "outputs": [],
   "source": [
    "#Step2 - Splitting the Data\n",
    "\n",
    "#Adding the target column into the boston data\n",
    "bdata_std_with_target= np.insert(bdata_interaction_std, bdata_interaction_std.shape[1],bdata.target, axis = 1)\n",
    "\n",
    "#Setting the seed and randomly shuffling the data\n",
    "np.random.seed(seed=9)\n",
    "np.random.shuffle(bdata_std_with_target)\n",
    "\n",
    "#Slicing 66% of the random data for training set and 34% for test set.\n",
    "train_row_num = int(math.ceil(0.66*len(bdata_std_with_target)))\n",
    "\n",
    "#Splitting the data\n",
    "bdata_x_train = bdata_std_with_target[0:train_row_num,0:103]\n",
    "bdata_x_test = bdata_std_with_target[train_row_num:len(bdata_std_with_target),0:103]\n",
    "\n",
    "bdata_y_train = bdata_std_with_target[0:train_row_num,104].reshape(-1,1)\n",
    "bdata_y_test = bdata_std_with_target[train_row_num:len(bdata_std_with_target),104].reshape(-1,1)\n"
   ]
  },
  {
   "cell_type": "markdown",
   "metadata": {
    "ein.tags": [
     "worksheet-0"
    ],
    "slideshow": {
     "slide_type": "-"
    }
   },
   "source": [
    "### 4.2 Let's overfit!\n",
    "Now, using your version of multiple regression from 2.3, let's overfit the training data. Using your training set, regress housing price on as many of those K+(K*(K+1))/2 features as you can.  If you get too greedy, it's possible this will take a long time to compute, so start with 5-10 features, and if you have the time, add more features.\n",
    "\n",
    "Report the RMSE when you apply your model to your training set and to your testing set. How do these numbers compare to each other, and to the RMSE from 3.2 and nearest neighbors?"
   ]
  },
  {
   "cell_type": "code",
   "execution_count": 152,
   "metadata": {
    "autoscroll": "json-false",
    "ein.tags": [
     "worksheet-0"
    ],
    "slideshow": {
     "slide_type": "-"
    }
   },
   "outputs": [
    {
     "name": "stdout",
     "output_type": "stream",
     "text": [
      "('Converged, Iterations:', 9623)\n",
      "Time Taken is : 1.0680000782\n"
     ]
    },
    {
     "data": {
      "text/plain": [
       "2.8843907396712685"
      ]
     },
     "execution_count": 152,
     "metadata": {},
     "output_type": "execute_result"
    }
   ],
   "source": [
    "#RMSE for Training Set\n",
    "#Calling the multiple_ols on training data\n",
    "coeff_interaction_train = multiple_ols(bdata_x_train, bdata_y_train, 0.005, 10000,range(103))\n",
    "\n",
    "#Inserting ones in first column to account for intercept\n",
    "bdata_x_train_new = np.c_[np.ones(len(bdata_x_train)).reshape(-1,1), bdata_x_train]\n",
    "pred_train = np.dot(bdata_x_train_new,coeff_interaction_train)\n",
    "\n",
    "#Compute RMSE\n",
    "compute_rmse(pred_train,bdata_y_train)"
   ]
  },
  {
   "cell_type": "code",
   "execution_count": 153,
   "metadata": {},
   "outputs": [
    {
     "name": "stdout",
     "output_type": "stream",
     "text": [
      "('Converged, Iterations:', 10476)\n",
      "Time Taken is : 1.04500007629\n"
     ]
    },
    {
     "data": {
      "text/plain": [
       "3.1714160778902625"
      ]
     },
     "execution_count": 153,
     "metadata": {},
     "output_type": "execute_result"
    }
   ],
   "source": [
    "#RMSE for Test Set\n",
    "#Calling the multiple_ols on training data\n",
    "coeff_interaction_test = multiple_ols(bdata_x_test, bdata_y_test, 0.005, 20000,range(103))\n",
    "\n",
    "#Inserting ones in first column to account for intercept\n",
    "bdata_x_test_new = np.c_[np.ones(len(bdata_x_test)).reshape(-1,1), bdata_x_test]\n",
    "pred_test = np.dot(bdata_x_test_new,coeff_interaction_test)\n",
    "\n",
    "#Compute RMSE\n",
    "compute_rmse(pred_test,bdata_y_test)"
   ]
  },
  {
   "cell_type": "markdown",
   "metadata": {},
   "source": [
    "The training RMSE (2.88) is lesser than test RMSE (3.17). This is due to overfitting. The RMSE from 3.2 is 4.288, which was considering only 2 features. We have to select the number of features carefully to minimize both training and test RMSEs."
   ]
  },
  {
   "cell_type": "markdown",
   "metadata": {
    "ein.tags": [
     "worksheet-0"
    ],
    "slideshow": {
     "slide_type": "-"
    }
   },
   "source": [
    "### 4.3 Ridge regularization\n",
    "a) Incorporate L2 (Ridge) regularization into your multiple_ols regression. Write a new version of your gradient descent algorithm that includes a regularization term \"lambda\" to penalize excessive complexity. \n",
    "\n",
    "b) Use your regularized regression to re-fit the model from 4.2 above on your training data. Try this for several different values of lambda, and report your RMSE for each lambda separately for your training and testing data. How do these numbers compare to each other, to the RMSE from 4.2,  to the RMSE from 2.3, and to the RMSE from nearest neighbors?\n",
    "\n",
    "c) Go brag to your friends about how you just implemented ridge-regularized multiple regression using gradient descent optimization, from scratch (if you still have any friends left...)"
   ]
  },
  {
   "cell_type": "code",
   "execution_count": 154,
   "metadata": {
    "autoscroll": "json-false",
    "collapsed": true,
    "ein.tags": [
     "worksheet-0"
    ],
    "slideshow": {
     "slide_type": "-"
    }
   },
   "outputs": [],
   "source": [
    "def ridge_multiple_ols(xvalues, yvalues, R, MaxIterations, feature_indices, lamb,epsilon=0.0001):\n",
    "    start_time = time.time()\n",
    "    \n",
    "    #Preparing the Data\n",
    "    #Extracting features\n",
    "    xvalues = xvalues[:,feature_indices]\n",
    "  \n",
    "    #Get the number of training samples (m) and the number of features (n)\n",
    "    m, n = np.shape(xvalues)\n",
    "    \n",
    "    #initial Values for coefficients\n",
    "    coeffs = np.random.random(n+1).reshape(-1,1)\n",
    "    alpha = coeffs[0]\n",
    "    betas = coeffs[1:len(coeffs)]\n",
    "    \n",
    "    #Inserting a column of ones to xvalues\n",
    "    xvalues = np.c_[ np.ones(m), xvalues ] \n",
    "    \n",
    "    #X transpose\n",
    "    x_transpose = xvalues.transpose()\n",
    "    \n",
    "    for i in range(MaxIterations):\n",
    "        \n",
    "        #Cost Function\n",
    "        #State the hypothesis\n",
    "        hypothesis = np.dot(xvalues, coeffs)\n",
    "        \n",
    "        \n",
    "        #Compute Loss\n",
    "        loss = hypothesis - yvalues\n",
    "        \n",
    "        #Compute the Cost Function J\n",
    "        J = ((np.sum(loss ** 2)) + (lamb*np.sum(betas**2))) / (2 * m)\n",
    "        #print(\"Iteration %d | Cost: %f\" % (i, J))\n",
    "        \n",
    "        #Compute Gradient for all coeffs\n",
    "        gradient_alpha = (np.dot(x_transpose[0,:], loss)) / m\n",
    "        gradient_beta = (np.dot(x_transpose[1:len(x_transpose),:], loss)) / m\n",
    "        \n",
    "        #Update Coefficients\n",
    "        alpha = alpha - R*gradient_alpha\n",
    "        betas = betas*(1 - R*(lamb/m)) - R*gradient_beta\n",
    "       \n",
    "        #Concatenating Co-efficients\n",
    "        coeffs = np.concatenate((alpha.reshape(-1,1),betas),axis=0)\n",
    "        \n",
    "        #Compute new cost function\n",
    "        hypothesis_new = np.dot(xvalues, coeffs)\n",
    "    \n",
    "        #Compute Loss\n",
    "        loss_new = hypothesis_new - yvalues\n",
    "        #Compute the Cost Function J\n",
    "        J_new = ((np.sum(loss_new ** 2)) + (lamb*np.sum(betas**2))) / (2 * m)\n",
    "\n",
    "        #Stopping condition\n",
    "        if abs(J_new - J) <= epsilon:\n",
    "            print ('Converged, Iterations:', i)\n",
    "            break\n",
    "    print 'Time Taken is : ' + str(time.time() - start_time)   \n",
    "\n",
    "    return coeffs"
   ]
  },
  {
   "cell_type": "code",
   "execution_count": 156,
   "metadata": {},
   "outputs": [
    {
     "name": "stdout",
     "output_type": "stream",
     "text": [
      "('Converged, Iterations:', 7144)\n",
      "Time Taken is : 1.27999997139\n",
      "('Converged, Iterations:', 8863)\n",
      "Time Taken is : 1.3259999752\n",
      "('Converged, Iterations:', 7032)\n",
      "Time Taken is : 1.19400000572\n",
      "('Converged, Iterations:', 8726)\n",
      "Time Taken is : 1.26699995995\n",
      "('Converged, Iterations:', 6951)\n",
      "Time Taken is : 1.08100008965\n",
      "('Converged, Iterations:', 8301)\n",
      "Time Taken is : 1.1859998703\n"
     ]
    }
   ],
   "source": [
    "#Calling Ridge Regression with Lambda = 1000\n",
    "coeff_ridge_train = ridge_multiple_ols(bdata_x_train, bdata_y_train, 0.01, 10000, range(103), 0.0001,epsilon=0.0001)\n",
    "pred_ridge_train = np.dot(bdata_x_train_new, coeff_ridge_train)\n",
    "rmse1_train = compute_rmse(pred_ridge_train,bdata_y_train)\n",
    "\n",
    "#Calling Ridge Regression with Lambda = 1000\n",
    "coeff_ridge_test = ridge_multiple_ols(bdata_x_test, bdata_y_test, 0.01, 10000, range(103), 0.0001,epsilon=0.0001)\n",
    "pred_ridge_test = np.dot(bdata_x_test_new, coeff_ridge_test)\n",
    "rmse1_test = compute_rmse(pred_ridge_test,bdata_y_test)\n",
    "\n",
    "#Calling Ridge Regression with Lambda = 5000\n",
    "coeff_ridge_train = ridge_multiple_ols(bdata_x_train, bdata_y_train, 0.01, 10000, range(103), 0.01,epsilon=0.0001)\n",
    "pred_ridge_train = np.dot(bdata_x_train_new, coeff_ridge_train)\n",
    "rmse2_train = compute_rmse(pred_ridge_train,bdata_y_train)\n",
    "\n",
    "#Calling Ridge Regression with Lambda = 5000\n",
    "coeff_ridge_test = ridge_multiple_ols(bdata_x_test, bdata_y_test, 0.01, 10000, range(103), 0.01,epsilon=0.0001)\n",
    "pred_ridge_test = np.dot(bdata_x_test_new, coeff_ridge_test)\n",
    "rmse2_test = compute_rmse(pred_ridge_test,bdata_y_test)\n",
    "\n",
    "#Calling Ridge Regression with Lambda = 2500\n",
    "coeff_ridge_train = ridge_multiple_ols(bdata_x_train, bdata_y_train, 0.01, 10000, range(103), 0.1,epsilon=0.0001)\n",
    "pred_ridge_train = np.dot(bdata_x_train_new, coeff_ridge_train)\n",
    "rmse3_train = compute_rmse(pred_ridge_train,bdata_y_train)\n",
    "\n",
    "#Calling Ridge Regression with Lambda = 2500\n",
    "coeff_ridge_test = ridge_multiple_ols(bdata_x_test, bdata_y_test, 0.01, 10000, range(103), 0.1,epsilon=0.0001)\n",
    "pred_ridge_test = np.dot(bdata_x_test_new, coeff_ridge_test)\n",
    "rmse3_test = compute_rmse(pred_ridge_test,bdata_y_test)"
   ]
  },
  {
   "cell_type": "code",
   "execution_count": 157,
   "metadata": {},
   "outputs": [
    {
     "name": "stdout",
     "output_type": "stream",
     "text": [
      "       RMSE   Data  Lambda\n",
      "0  2.771845  Train  0.0001\n",
      "1  3.019866   Test  0.0001\n",
      "2  2.776601  Train    0.01\n",
      "3  3.010797   Test    0.01\n",
      "4  2.777714  Train     0.1\n",
      "5  3.040144   Test     0.1\n"
     ]
    }
   ],
   "source": [
    "#Result\n",
    "result = pd.DataFrame([rmse1_train, rmse1_test, rmse2_train, rmse2_test, rmse3_train, rmse3_test])\n",
    "result['Data'] = ['Train', 'Test', 'Train', 'Test', 'Train', 'Test']\n",
    "result['Lambda'] = ['0.0001', '0.0001','0.01','0.01', '0.1','0.1']\n",
    "result.columns = ['RMSE', 'Data', 'Lambda']\n",
    "print(result)"
   ]
  },
  {
   "cell_type": "markdown",
   "metadata": {},
   "source": [
    "As lambda increases, the RMSE remains more or less the same. However, the co-efficients are more penalized as lambda increases. In short, we are decreasing our budget as we're increasing lambda. From the above results, we can see that the RMSE for test data is higher than training data. The RMSE for all these different values of lambda is smaller than that computed considering overfitted data in 4.2. It's definitely better than KNN's RMSE of 7.01."
   ]
  },
  {
   "cell_type": "markdown",
   "metadata": {
    "ein.tags": [
     "worksheet-0"
    ],
    "slideshow": {
     "slide_type": "-"
    }
   },
   "source": [
    "### Extra Credit 2: Cross-validate lambda\n",
    "\n",
    "Use k-fold cross-validation to select the optimal value of lambda. Report the average RMSE across all training sets, and the average RMSE across all testing sets. How do these numbers compare to each other, to the RMSE from your previous efforts?  Finally, create a plot that shows RMSE as a function of lambda."
   ]
  },
  {
   "cell_type": "code",
   "execution_count": null,
   "metadata": {
    "autoscroll": "json-false",
    "collapsed": true,
    "ein.tags": [
     "worksheet-0"
    ],
    "slideshow": {
     "slide_type": "-"
    }
   },
   "outputs": [],
   "source": [
    "\n"
   ]
  },
  {
   "cell_type": "markdown",
   "metadata": {
    "ein.tags": [
     "worksheet-0"
    ],
    "slideshow": {
     "slide_type": "-"
    }
   },
   "source": [
    "### (Showoff) Extra Credit 3: Lambda and coefficients\n",
    "\n",
    "If you're feeling extra-special, create a parameter plot that shows how the different coefficient estimates change as a function of lambda. To make this graph intelligible, only include the *K* original F_s features in this plot"
   ]
  },
  {
   "cell_type": "code",
   "execution_count": null,
   "metadata": {
    "autoscroll": "json-false",
    "collapsed": true,
    "ein.tags": [
     "worksheet-0"
    ],
    "slideshow": {
     "slide_type": "-"
    }
   },
   "outputs": [],
   "source": [
    "\n",
    "    "
   ]
  }
 ],
 "metadata": {
  "anaconda-cloud": {},
  "kernelspec": {
   "display_name": "Python 2",
   "language": "python",
   "name": "python2"
  },
  "language_info": {
   "codemirror_mode": {
    "name": "ipython",
    "version": 2
   },
   "file_extension": ".py",
   "mimetype": "text/x-python",
   "name": "python",
   "nbconvert_exporter": "python",
   "pygments_lexer": "ipython2",
   "version": "2.7.12"
  },
  "name": "INFX574-PS4-solutions.ipynb"
 },
 "nbformat": 4,
 "nbformat_minor": 1
}
