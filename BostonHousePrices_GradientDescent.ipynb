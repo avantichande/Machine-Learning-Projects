{
 "cells": [
  {
   "cell_type": "markdown",
   "metadata": {
    "ein.tags": [
     "worksheet-0"
    ],
    "slideshow": {
     "slide_type": "-"
    }
   },
   "source": [
    "# Problem Set 2, due April 27th at 3:30 pm\n",
    "\n",
    "**Please Note:** This assignment will likely take you a _long_ time, especially if you are new to Python. Start early!"
   ]
  },
  {
   "cell_type": "markdown",
   "metadata": {
    "ein.tags": [
     "worksheet-0"
    ],
    "slideshow": {
     "slide_type": "-"
    }
   },
   "source": [
    "## Introduction to the assignment\n",
    "\n",
    "For this assignment, you will be using data from the [Progresa program](http://en.wikipedia.org/wiki/Oportunidades), a government social assistance program in Mexico. This program, as well as the details of its impact, are described in the paper \"[School subsidies for the poor: evaluating the Mexican Progresa poverty program](http://www.sciencedirect.com/science/article/pii/S0304387803001858)\", by Paul Shultz (available on Canvas). Please familiarize yourself with the PROGRESA program before beginning this problem set, so you have a rough sense of where the data come from and how they were generated. If you just proceed into the problem set without understanding Progresa or the data, it will be very difficult!\n",
    "\n",
    "The goal of this problem set is to implement some of the basic econometric techniques that you are learning in class to measure the impact of Progresa on secondary school enrollment rates. The timeline of the program was:\n",
    "\n",
    " * Baseline survey conducted in 1997\n",
    " * Intervention begins in 1998, \"Wave 1\" of data collected in 1998\n",
    " * \"Wave 2 of data\" collected in 1999\n",
    " * Evaluation ends in 2000, at which point the control villages were treated. \n",
    " \n",
    "When you are ready, download the progresa_sample.csv data from Canvas. The data are actual data collected to evaluate the impact of the Progresa program.  In this file, each row corresponds to an observation taken for a given child for a given year. There are two years of data (1997 and 1998), and just under 40,000 children who are surveyed in each year. For each child-year observation, the following variables are collected:\n",
    "\n",
    "| Variable name | Description|\n",
    "|---------|---------|\n",
    "|year\t  |year in which data is collected\n",
    "|sex\t  |male = 1|\n",
    "|indig\t  |indigenous = 1|\n",
    "|dist_sec |nearest distance to a secondary school|\n",
    "|sc\t      |enrolled in school in year of survey|\n",
    "|grc      |grade enrolled|\n",
    "|fam_n    |family size|\n",
    "|min_dist |\tmin distance to an urban center|\n",
    "|dist_cap |\tmin distance to the capital|\n",
    "|poor     |\tpoor = 'pobre'|\n",
    "|progresa |treatment = 'basal'|\n",
    "|hohedu\t  |years of schooling of head of household|\n",
    "|hohwag\t  |monthly wages of head of household|\n",
    "|welfare_index|\twelfare index used to classify poor|\n",
    "|hohsex\t  |gender of head of household (male=1)|\n",
    "|hohage   |age of head of household|\n",
    "|age      |years old|\n",
    "|folnum\t  |individual id|\n",
    "|village  |\tvillage id|\n",
    "|sc97\t  |schooling in 1997|"
   ]
  },
  {
   "cell_type": "code",
   "execution_count": 50,
   "metadata": {
    "autoscroll": "json-false",
    "collapsed": false,
    "ein.tags": [
     "worksheet-0"
    ],
    "slideshow": {
     "slide_type": "-"
    }
   },
   "outputs": [
    {
     "name": "stdout",
     "output_type": "stream",
     "text": [
      "2.7.12 |Anaconda 4.0.0 (64-bit)| (default, Jun 29 2016, 11:07:13) [MSC v.1500 64 bit (AMD64)]\n"
     ]
    }
   ],
   "source": [
    "import sys; print(sys.version)\n",
    "\n",
    "import numpy as np\n",
    "import pandas as pd\n",
    "import matplotlib.pyplot as plt\n",
    "%matplotlib inline\n",
    "import seaborn as sns"
   ]
  },
  {
   "cell_type": "markdown",
   "metadata": {
    "ein.tags": [
     "worksheet-0"
    ],
    "slideshow": {
     "slide_type": "-"
    }
   },
   "source": [
    "---\n",
    "##Part 1: Descriptive analysis\n",
    "\n",
    "### 1.1\tSummary Statistics\n",
    "\n",
    "a) Present number of missing observations for every single variable\n"
   ]
  },
  {
   "cell_type": "code",
   "execution_count": 51,
   "metadata": {
    "autoscroll": "json-false",
    "collapsed": false,
    "ein.tags": [
     "worksheet-0"
    ],
    "slideshow": {
     "slide_type": "-"
    }
   },
   "outputs": [],
   "source": [
    "progresa_df = pd.read_csv('progresa_sample.csv')"
   ]
  },
  {
   "cell_type": "code",
   "execution_count": 52,
   "metadata": {
    "collapsed": false
   },
   "outputs": [
    {
     "data": {
      "text/html": [
       "<div>\n",
       "<table border=\"1\" class=\"dataframe\">\n",
       "  <thead>\n",
       "    <tr style=\"text-align: right;\">\n",
       "      <th></th>\n",
       "      <th>year</th>\n",
       "      <th>sex</th>\n",
       "      <th>indig</th>\n",
       "      <th>dist_sec</th>\n",
       "      <th>sc</th>\n",
       "      <th>grc</th>\n",
       "      <th>fam_n</th>\n",
       "      <th>min_dist</th>\n",
       "      <th>dist_cap</th>\n",
       "      <th>poor</th>\n",
       "      <th>...</th>\n",
       "      <th>hohedu</th>\n",
       "      <th>hohwag</th>\n",
       "      <th>welfare_index</th>\n",
       "      <th>hohsex</th>\n",
       "      <th>hohage</th>\n",
       "      <th>age</th>\n",
       "      <th>village</th>\n",
       "      <th>folnum</th>\n",
       "      <th>grc97</th>\n",
       "      <th>sc97</th>\n",
       "    </tr>\n",
       "  </thead>\n",
       "  <tbody>\n",
       "    <tr>\n",
       "      <th>0</th>\n",
       "      <td>97</td>\n",
       "      <td>0.0</td>\n",
       "      <td>0.0</td>\n",
       "      <td>4.473</td>\n",
       "      <td>1.0</td>\n",
       "      <td>7.0</td>\n",
       "      <td>7</td>\n",
       "      <td>21.168384</td>\n",
       "      <td>21.168384</td>\n",
       "      <td>pobre</td>\n",
       "      <td>...</td>\n",
       "      <td>6</td>\n",
       "      <td>0.0</td>\n",
       "      <td>583.0</td>\n",
       "      <td>1.0</td>\n",
       "      <td>35.0</td>\n",
       "      <td>13</td>\n",
       "      <td>163</td>\n",
       "      <td>1</td>\n",
       "      <td>7</td>\n",
       "      <td>1.0</td>\n",
       "    </tr>\n",
       "    <tr>\n",
       "      <th>1</th>\n",
       "      <td>98</td>\n",
       "      <td>0.0</td>\n",
       "      <td>0.0</td>\n",
       "      <td>4.473</td>\n",
       "      <td>1.0</td>\n",
       "      <td>8.0</td>\n",
       "      <td>7</td>\n",
       "      <td>21.168384</td>\n",
       "      <td>21.168384</td>\n",
       "      <td>pobre</td>\n",
       "      <td>...</td>\n",
       "      <td>6</td>\n",
       "      <td>0.0</td>\n",
       "      <td>583.0</td>\n",
       "      <td>1.0</td>\n",
       "      <td>35.0</td>\n",
       "      <td>14</td>\n",
       "      <td>163</td>\n",
       "      <td>1</td>\n",
       "      <td>7</td>\n",
       "      <td>1.0</td>\n",
       "    </tr>\n",
       "    <tr>\n",
       "      <th>2</th>\n",
       "      <td>97</td>\n",
       "      <td>1.0</td>\n",
       "      <td>0.0</td>\n",
       "      <td>4.473</td>\n",
       "      <td>1.0</td>\n",
       "      <td>6.0</td>\n",
       "      <td>7</td>\n",
       "      <td>21.168384</td>\n",
       "      <td>21.168384</td>\n",
       "      <td>pobre</td>\n",
       "      <td>...</td>\n",
       "      <td>6</td>\n",
       "      <td>0.0</td>\n",
       "      <td>583.0</td>\n",
       "      <td>1.0</td>\n",
       "      <td>35.0</td>\n",
       "      <td>12</td>\n",
       "      <td>163</td>\n",
       "      <td>2</td>\n",
       "      <td>6</td>\n",
       "      <td>1.0</td>\n",
       "    </tr>\n",
       "    <tr>\n",
       "      <th>3</th>\n",
       "      <td>98</td>\n",
       "      <td>1.0</td>\n",
       "      <td>0.0</td>\n",
       "      <td>4.473</td>\n",
       "      <td>1.0</td>\n",
       "      <td>7.0</td>\n",
       "      <td>7</td>\n",
       "      <td>21.168384</td>\n",
       "      <td>21.168384</td>\n",
       "      <td>pobre</td>\n",
       "      <td>...</td>\n",
       "      <td>6</td>\n",
       "      <td>0.0</td>\n",
       "      <td>583.0</td>\n",
       "      <td>1.0</td>\n",
       "      <td>35.0</td>\n",
       "      <td>13</td>\n",
       "      <td>163</td>\n",
       "      <td>2</td>\n",
       "      <td>6</td>\n",
       "      <td>1.0</td>\n",
       "    </tr>\n",
       "    <tr>\n",
       "      <th>4</th>\n",
       "      <td>97</td>\n",
       "      <td>0.0</td>\n",
       "      <td>0.0</td>\n",
       "      <td>4.473</td>\n",
       "      <td>1.0</td>\n",
       "      <td>2.0</td>\n",
       "      <td>7</td>\n",
       "      <td>21.168384</td>\n",
       "      <td>21.168384</td>\n",
       "      <td>pobre</td>\n",
       "      <td>...</td>\n",
       "      <td>6</td>\n",
       "      <td>0.0</td>\n",
       "      <td>583.0</td>\n",
       "      <td>1.0</td>\n",
       "      <td>35.0</td>\n",
       "      <td>8</td>\n",
       "      <td>163</td>\n",
       "      <td>3</td>\n",
       "      <td>2</td>\n",
       "      <td>1.0</td>\n",
       "    </tr>\n",
       "  </tbody>\n",
       "</table>\n",
       "<p>5 rows × 21 columns</p>\n",
       "</div>"
      ],
      "text/plain": [
       "   year  sex  indig  dist_sec   sc  grc  fam_n   min_dist   dist_cap   poor  \\\n",
       "0    97  0.0    0.0     4.473  1.0  7.0      7  21.168384  21.168384  pobre   \n",
       "1    98  0.0    0.0     4.473  1.0  8.0      7  21.168384  21.168384  pobre   \n",
       "2    97  1.0    0.0     4.473  1.0  6.0      7  21.168384  21.168384  pobre   \n",
       "3    98  1.0    0.0     4.473  1.0  7.0      7  21.168384  21.168384  pobre   \n",
       "4    97  0.0    0.0     4.473  1.0  2.0      7  21.168384  21.168384  pobre   \n",
       "\n",
       "   ...  hohedu  hohwag  welfare_index  hohsex  hohage  age  village  folnum  \\\n",
       "0  ...       6     0.0          583.0     1.0    35.0   13      163       1   \n",
       "1  ...       6     0.0          583.0     1.0    35.0   14      163       1   \n",
       "2  ...       6     0.0          583.0     1.0    35.0   12      163       2   \n",
       "3  ...       6     0.0          583.0     1.0    35.0   13      163       2   \n",
       "4  ...       6     0.0          583.0     1.0    35.0    8      163       3   \n",
       "\n",
       "   grc97  sc97  \n",
       "0      7   1.0  \n",
       "1      7   1.0  \n",
       "2      6   1.0  \n",
       "3      6   1.0  \n",
       "4      2   1.0  \n",
       "\n",
       "[5 rows x 21 columns]"
      ]
     },
     "execution_count": 52,
     "metadata": {},
     "output_type": "execute_result"
    }
   ],
   "source": [
    "progresa_df.head()"
   ]
  },
  {
   "cell_type": "code",
   "execution_count": 53,
   "metadata": {
    "collapsed": false
   },
   "outputs": [
    {
     "data": {
      "text/plain": [
       "year                0\n",
       "sex                24\n",
       "indig             300\n",
       "dist_sec            0\n",
       "sc               8453\n",
       "grc              6549\n",
       "fam_n               0\n",
       "min_dist            0\n",
       "dist_cap            0\n",
       "poor                0\n",
       "progresa            0\n",
       "hohedu              0\n",
       "hohwag              0\n",
       "welfare_index     210\n",
       "hohsex             20\n",
       "hohage             10\n",
       "age                 0\n",
       "village             0\n",
       "folnum              0\n",
       "grc97               0\n",
       "sc97             3872\n",
       "dtype: int64"
      ]
     },
     "execution_count": 53,
     "metadata": {},
     "output_type": "execute_result"
    }
   ],
   "source": [
    "#Calculate missing values for each column\n",
    "progresa_df.isnull().sum()"
   ]
  },
  {
   "cell_type": "markdown",
   "metadata": {
    "ein.tags": [
     "worksheet-0"
    ],
    "slideshow": {
     "slide_type": "-"
    }
   },
   "source": [
    "b) Present summary statistics (mean and standard deviation) for all of the demographic variables in the dataset (i.e., everything except year, folnum, village). Present these in a single table alphabetized by variable name. Do NOT simply expect the grader to scroll through your output!"
   ]
  },
  {
   "cell_type": "code",
   "execution_count": 54,
   "metadata": {
    "autoscroll": "json-false",
    "collapsed": false,
    "ein.tags": [
     "worksheet-0"
    ],
    "slideshow": {
     "slide_type": "-"
    }
   },
   "outputs": [],
   "source": [
    "stat_df = progresa_df.describe()\n",
    "stat_df.sort_index(axis=1, inplace=True)"
   ]
  },
  {
   "cell_type": "code",
   "execution_count": 55,
   "metadata": {
    "collapsed": false
   },
   "outputs": [
    {
     "data": {
      "text/html": [
       "<div>\n",
       "<table border=\"1\" class=\"dataframe\">\n",
       "  <thead>\n",
       "    <tr style=\"text-align: right;\">\n",
       "      <th></th>\n",
       "      <th>age</th>\n",
       "      <th>dist_cap</th>\n",
       "      <th>dist_sec</th>\n",
       "      <th>fam_n</th>\n",
       "      <th>grc</th>\n",
       "      <th>grc97</th>\n",
       "      <th>hohage</th>\n",
       "      <th>hohedu</th>\n",
       "      <th>hohsex</th>\n",
       "      <th>hohwag</th>\n",
       "      <th>indig</th>\n",
       "      <th>min_dist</th>\n",
       "      <th>sc</th>\n",
       "      <th>sc97</th>\n",
       "      <th>sex</th>\n",
       "      <th>welfare_index</th>\n",
       "    </tr>\n",
       "  </thead>\n",
       "  <tbody>\n",
       "    <tr>\n",
       "      <th>mean</th>\n",
       "      <td>11.366460</td>\n",
       "      <td>147.674452</td>\n",
       "      <td>2.418910</td>\n",
       "      <td>7.215715</td>\n",
       "      <td>3.963537</td>\n",
       "      <td>3.705372</td>\n",
       "      <td>44.436717</td>\n",
       "      <td>2.768104</td>\n",
       "      <td>0.925185</td>\n",
       "      <td>586.985312</td>\n",
       "      <td>0.298324</td>\n",
       "      <td>103.447520</td>\n",
       "      <td>0.819818</td>\n",
       "      <td>0.813922</td>\n",
       "      <td>0.512211</td>\n",
       "      <td>690.346564</td>\n",
       "    </tr>\n",
       "    <tr>\n",
       "      <th>std</th>\n",
       "      <td>3.167744</td>\n",
       "      <td>76.063134</td>\n",
       "      <td>2.234109</td>\n",
       "      <td>2.352900</td>\n",
       "      <td>2.499063</td>\n",
       "      <td>2.572387</td>\n",
       "      <td>11.620372</td>\n",
       "      <td>2.656106</td>\n",
       "      <td>0.263095</td>\n",
       "      <td>788.133664</td>\n",
       "      <td>0.457525</td>\n",
       "      <td>42.089441</td>\n",
       "      <td>0.384342</td>\n",
       "      <td>0.389172</td>\n",
       "      <td>0.499854</td>\n",
       "      <td>139.491130</td>\n",
       "    </tr>\n",
       "  </tbody>\n",
       "</table>\n",
       "</div>"
      ],
      "text/plain": [
       "            age    dist_cap  dist_sec     fam_n       grc     grc97  \\\n",
       "mean  11.366460  147.674452  2.418910  7.215715  3.963537  3.705372   \n",
       "std    3.167744   76.063134  2.234109  2.352900  2.499063  2.572387   \n",
       "\n",
       "         hohage    hohedu    hohsex      hohwag     indig    min_dist  \\\n",
       "mean  44.436717  2.768104  0.925185  586.985312  0.298324  103.447520   \n",
       "std   11.620372  2.656106  0.263095  788.133664  0.457525   42.089441   \n",
       "\n",
       "            sc      sc97       sex  welfare_index  \n",
       "mean  0.819818  0.813922  0.512211     690.346564  \n",
       "std   0.384342  0.389172  0.499854     139.491130  "
      ]
     },
     "execution_count": 55,
     "metadata": {},
     "output_type": "execute_result"
    }
   ],
   "source": [
    "stat_df = stat_df.drop(['year', 'village','folnum'], axis=1)\n",
    "stat_df[1:3]"
   ]
  },
  {
   "cell_type": "markdown",
   "metadata": {
    "ein.tags": [
     "worksheet-0"
    ],
    "slideshow": {
     "slide_type": "-"
    }
   },
   "source": [
    "### 1.2 Differences at baseline?\n",
    "\n",
    "Are the baseline (1997) demographic characteristics **for the poor**  different in treatment and control villages? Hint: Use a T-Test to determine whether there is a statistically significant difference in the average values of each of the variables in the dataset. Focus only on the data from 1997 for individuals who are poor (i.e., poor=='pobre').\n",
    "\n",
    "Present your results in a single table with the following columns and 14 (or so) rows:\n",
    "\n",
    "| Variable name | Average value (Treatment villages) | Average value (Control villages) | Difference (Treat - Control) | p-value |\n",
    "|------|------|------|------|------|\n",
    "|Male  |?     |?     |?     |?     |\n"
   ]
  },
  {
   "cell_type": "code",
   "execution_count": 56,
   "metadata": {
    "autoscroll": "json-false",
    "collapsed": false,
    "ein.tags": [
     "worksheet-0"
    ],
    "slideshow": {
     "slide_type": "-"
    }
   },
   "outputs": [],
   "source": [
    "#Data Preparation\n",
    "#Subsetting the data frame for the year 1997 and for the individuals who are poor\n",
    "progresa_df_ttest = progresa_df[(progresa_df['year']==97) & (progresa_df['poor']=='pobre')]\n",
    "\n",
    "#Filtering Numeric Values for the t-test\n",
    "progresa_df_ttest = progresa_df_ttest.drop(['year', 'village','folnum'], axis=1)\n",
    "\n",
    "#T-test\n",
    "#Defining Treatment and control category and dropping null values\n",
    "treatment_group=progresa_df_ttest[progresa_df_ttest['progresa']=='basal'].dropna()\n",
    "control_group = progresa_df_ttest[progresa_df_ttest['progresa']=='0'].dropna()\n",
    "\n",
    "#Getting numeric data for treatment and control group\n",
    "treatment_group_numeric = treatment_group._get_numeric_data()"
   ]
  },
  {
   "cell_type": "code",
   "execution_count": 57,
   "metadata": {
    "collapsed": false
   },
   "outputs": [],
   "source": [
    "#Import the ttest library from Scipy.stats package\n",
    "from scipy.stats import ttest_ind\n",
    "\n",
    "#Function to calculate the required means from treatment and control group and t_value and p_value.\n",
    "def ttest(x):\n",
    "    mean_t = treatment_group[x].mean()\n",
    "    mean_c = control_group[x].mean()\n",
    "    t_value, p_value = ttest_ind(treatment_group[x], control_group[x])\n",
    "    \n",
    "    if p_value < 0.05:\n",
    "        stat_sig = 'True'\n",
    "    else: stat_sig = 'False'\n",
    "        \n",
    "    return (x,mean_t, mean_c, t_value,p_value, stat_sig)"
   ]
  },
  {
   "cell_type": "code",
   "execution_count": 58,
   "metadata": {
    "collapsed": false
   },
   "outputs": [
    {
     "data": {
      "text/html": [
       "<div>\n",
       "<table border=\"1\" class=\"dataframe\">\n",
       "  <thead>\n",
       "    <tr style=\"text-align: right;\">\n",
       "      <th></th>\n",
       "      <th>Variable</th>\n",
       "      <th>Avg_Treatment_Group</th>\n",
       "      <th>Avg_Control_Group</th>\n",
       "      <th>t_value</th>\n",
       "      <th>p_value</th>\n",
       "      <th>Statistically Significant?</th>\n",
       "    </tr>\n",
       "  </thead>\n",
       "  <tbody>\n",
       "    <tr>\n",
       "      <th>0</th>\n",
       "      <td>sex</td>\n",
       "      <td>0.520268</td>\n",
       "      <td>0.506556</td>\n",
       "      <td>2.334621</td>\n",
       "      <td>1.956962e-02</td>\n",
       "      <td>True</td>\n",
       "    </tr>\n",
       "    <tr>\n",
       "      <th>1</th>\n",
       "      <td>indig</td>\n",
       "      <td>0.316744</td>\n",
       "      <td>0.325306</td>\n",
       "      <td>-1.561670</td>\n",
       "      <td>1.183760e-01</td>\n",
       "      <td>False</td>\n",
       "    </tr>\n",
       "    <tr>\n",
       "      <th>2</th>\n",
       "      <td>dist_sec</td>\n",
       "      <td>2.399648</td>\n",
       "      <td>2.400687</td>\n",
       "      <td>-0.041252</td>\n",
       "      <td>9.670949e-01</td>\n",
       "      <td>False</td>\n",
       "    </tr>\n",
       "    <tr>\n",
       "      <th>3</th>\n",
       "      <td>sc</td>\n",
       "      <td>0.822697</td>\n",
       "      <td>0.815066</td>\n",
       "      <td>1.689261</td>\n",
       "      <td>9.117959e-02</td>\n",
       "      <td>False</td>\n",
       "    </tr>\n",
       "    <tr>\n",
       "      <th>4</th>\n",
       "      <td>grc</td>\n",
       "      <td>3.709214</td>\n",
       "      <td>3.733653</td>\n",
       "      <td>-0.851002</td>\n",
       "      <td>3.947750e-01</td>\n",
       "      <td>False</td>\n",
       "    </tr>\n",
       "    <tr>\n",
       "      <th>5</th>\n",
       "      <td>fam_n</td>\n",
       "      <td>7.281032</td>\n",
       "      <td>7.302939</td>\n",
       "      <td>-0.800187</td>\n",
       "      <td>4.236088e-01</td>\n",
       "      <td>False</td>\n",
       "    </tr>\n",
       "    <tr>\n",
       "      <th>6</th>\n",
       "      <td>min_dist</td>\n",
       "      <td>107.395231</td>\n",
       "      <td>103.098348</td>\n",
       "      <td>8.766462</td>\n",
       "      <td>1.936661e-18</td>\n",
       "      <td>True</td>\n",
       "    </tr>\n",
       "    <tr>\n",
       "      <th>7</th>\n",
       "      <td>dist_cap</td>\n",
       "      <td>151.801472</td>\n",
       "      <td>154.492095</td>\n",
       "      <td>-2.927983</td>\n",
       "      <td>3.414194e-03</td>\n",
       "      <td>True</td>\n",
       "    </tr>\n",
       "    <tr>\n",
       "      <th>8</th>\n",
       "      <td>hohedu</td>\n",
       "      <td>2.726729</td>\n",
       "      <td>2.660982</td>\n",
       "      <td>2.224346</td>\n",
       "      <td>2.613239e-02</td>\n",
       "      <td>True</td>\n",
       "    </tr>\n",
       "    <tr>\n",
       "      <th>9</th>\n",
       "      <td>hohwag</td>\n",
       "      <td>550.207086</td>\n",
       "      <td>580.694452</td>\n",
       "      <td>-3.640301</td>\n",
       "      <td>2.727661e-04</td>\n",
       "      <td>True</td>\n",
       "    </tr>\n",
       "    <tr>\n",
       "      <th>10</th>\n",
       "      <td>welfare_index</td>\n",
       "      <td>656.810476</td>\n",
       "      <td>661.593513</td>\n",
       "      <td>-3.559301</td>\n",
       "      <td>3.724043e-04</td>\n",
       "      <td>True</td>\n",
       "    </tr>\n",
       "    <tr>\n",
       "      <th>11</th>\n",
       "      <td>hohsex</td>\n",
       "      <td>0.925586</td>\n",
       "      <td>0.923387</td>\n",
       "      <td>0.709333</td>\n",
       "      <td>4.781232e-01</td>\n",
       "      <td>False</td>\n",
       "    </tr>\n",
       "    <tr>\n",
       "      <th>12</th>\n",
       "      <td>hohage</td>\n",
       "      <td>43.631234</td>\n",
       "      <td>44.270717</td>\n",
       "      <td>-4.761979</td>\n",
       "      <td>1.925767e-06</td>\n",
       "      <td>True</td>\n",
       "    </tr>\n",
       "    <tr>\n",
       "      <th>13</th>\n",
       "      <td>age</td>\n",
       "      <td>10.743825</td>\n",
       "      <td>10.785586</td>\n",
       "      <td>-1.156182</td>\n",
       "      <td>2.476155e-01</td>\n",
       "      <td>False</td>\n",
       "    </tr>\n",
       "    <tr>\n",
       "      <th>14</th>\n",
       "      <td>grc97</td>\n",
       "      <td>3.709214</td>\n",
       "      <td>3.733653</td>\n",
       "      <td>-0.851002</td>\n",
       "      <td>3.947750e-01</td>\n",
       "      <td>False</td>\n",
       "    </tr>\n",
       "    <tr>\n",
       "      <th>15</th>\n",
       "      <td>sc97</td>\n",
       "      <td>0.822697</td>\n",
       "      <td>0.815066</td>\n",
       "      <td>1.689261</td>\n",
       "      <td>9.117959e-02</td>\n",
       "      <td>False</td>\n",
       "    </tr>\n",
       "  </tbody>\n",
       "</table>\n",
       "</div>"
      ],
      "text/plain": [
       "         Variable  Avg_Treatment_Group  Avg_Control_Group   t_value  \\\n",
       "0             sex             0.520268           0.506556  2.334621   \n",
       "1           indig             0.316744           0.325306 -1.561670   \n",
       "2        dist_sec             2.399648           2.400687 -0.041252   \n",
       "3              sc             0.822697           0.815066  1.689261   \n",
       "4             grc             3.709214           3.733653 -0.851002   \n",
       "5           fam_n             7.281032           7.302939 -0.800187   \n",
       "6        min_dist           107.395231         103.098348  8.766462   \n",
       "7        dist_cap           151.801472         154.492095 -2.927983   \n",
       "8          hohedu             2.726729           2.660982  2.224346   \n",
       "9          hohwag           550.207086         580.694452 -3.640301   \n",
       "10  welfare_index           656.810476         661.593513 -3.559301   \n",
       "11         hohsex             0.925586           0.923387  0.709333   \n",
       "12         hohage            43.631234          44.270717 -4.761979   \n",
       "13            age            10.743825          10.785586 -1.156182   \n",
       "14          grc97             3.709214           3.733653 -0.851002   \n",
       "15           sc97             0.822697           0.815066  1.689261   \n",
       "\n",
       "         p_value Statistically Significant?  \n",
       "0   1.956962e-02                       True  \n",
       "1   1.183760e-01                      False  \n",
       "2   9.670949e-01                      False  \n",
       "3   9.117959e-02                      False  \n",
       "4   3.947750e-01                      False  \n",
       "5   4.236088e-01                      False  \n",
       "6   1.936661e-18                       True  \n",
       "7   3.414194e-03                       True  \n",
       "8   2.613239e-02                       True  \n",
       "9   2.727661e-04                       True  \n",
       "10  3.724043e-04                       True  \n",
       "11  4.781232e-01                      False  \n",
       "12  1.925767e-06                       True  \n",
       "13  2.476155e-01                      False  \n",
       "14  3.947750e-01                      False  \n",
       "15  9.117959e-02                      False  "
      ]
     },
     "execution_count": 58,
     "metadata": {},
     "output_type": "execute_result"
    }
   ],
   "source": [
    "#Forming a list of all variables for which t-test is to be performed.\n",
    "list_ttest = list(treatment_group_numeric.columns)\n",
    "\n",
    "#Performing the t-test\n",
    "\n",
    "j=[] #An empty list to store the results\n",
    "for i in list_ttest:\n",
    "    j.append(ttest(i))\n",
    "    \n",
    "#Converting the list of tuples into a dataframe\n",
    "pd.DataFrame(j, columns=['Variable', 'Avg_Treatment_Group', 'Avg_Control_Group', 't_value', 'p_value', 'Statistically Significant?'])"
   ]
  },
  {
   "cell_type": "markdown",
   "metadata": {
    "ein.tags": [
     "worksheet-0"
    ],
    "slideshow": {
     "slide_type": "-"
    }
   },
   "source": [
    "### 1.3 Interpretation\n",
    "\n",
    "* A: Are there statistically significant differences between treatment and control villages as baseline? \n",
    "* B: Why does it matter if there are differences at baseline?\n",
    "* C: What does this imply about how to measure the impact of the treatment?"
   ]
  },
  {
   "cell_type": "markdown",
   "metadata": {},
   "source": [
    "A: Statistical significance is decided upon the measure of the p-value. If the p-value is less than 0.05, we can say that there is significant difference between the treatment and control groups as baseline. As we can see in the dataframe above, that these two groups are significantly different in terms of sex, dist_sec (nearest distance to a secondary school), min_dist (min distance to an urban center), dist_cap (min distance to the capital), hohedu (years of schooling of head of household), hohwag (monthly wages of head of household),hohage (age of head of household), welfare_index (welfare index used to classify poor) variables.\n",
    "\n",
    "B: For any comparison between treatment and control, it is required to have a same baseline so as to gauge the actual effect of the treatment. Thus if treatment and control group are significantly different at baseline then we cant have fully randomized sets for the experiments.\n",
    "\n",
    "C: As there is significant differenc between some of the variables for treatment and control groups, we cannot measure the true impact."
   ]
  },
  {
   "cell_type": "markdown",
   "metadata": {
    "ein.tags": [
     "worksheet-0"
    ],
    "slideshow": {
     "slide_type": "-"
    }
   },
   "source": [
    "### 1.4 Graphical exploration, part 1\n",
    "\n",
    "For each level of household head education, compute the average enrollment rate in 1997. Create a scatterplot that shows this relationship. What do you notice?"
   ]
  },
  {
   "cell_type": "code",
   "execution_count": 59,
   "metadata": {
    "autoscroll": "json-false",
    "collapsed": false,
    "ein.tags": [
     "worksheet-0"
    ],
    "slideshow": {
     "slide_type": "-"
    }
   },
   "outputs": [],
   "source": [
    "edu_enrollment_df = progresa_df['sc'].groupby(progresa_df['hohedu']).mean().reset_index()"
   ]
  },
  {
   "cell_type": "code",
   "execution_count": 60,
   "metadata": {
    "collapsed": false
   },
   "outputs": [
    {
     "data": {
      "text/plain": [
       "<matplotlib.text.Text at 0x18304710>"
      ]
     },
     "execution_count": 60,
     "metadata": {},
     "output_type": "execute_result"
    },
    {
     "data": {
      "image/png": "[encoded data removed]",
      "text/plain": [
       "<matplotlib.figure.Figure at 0x364ed68>"
      ]
     },
     "metadata": {},
     "output_type": "display_data"
    }
   ],
   "source": [
    "plt.scatter(edu_enrollment_df['hohedu'],edu_enrollment_df['sc'])\n",
    "plt.ylabel('Avg_Enrollment_Rate')\n",
    "plt.xlabel('Household head education')\n",
    "plt.title('Household head education vs. Avg_Enrollment_Rate')"
   ]
  },
  {
   "cell_type": "markdown",
   "metadata": {
    "ein.tags": [
     "worksheet-0"
    ],
    "slideshow": {
     "slide_type": "-"
    }
   },
   "source": [
    "### 1.5 Graphical exploration, part 2\n",
    "\n",
    "Create a histogram of village enrollment rates **among poor households in treated villages**, before and after treatment. Specifically, for each village, calculate the average rate of enrollment of poor households in treated villages in 1997, then compute the average rate of enrollment of poor households in treated villages in 1998. Create two separate histograms showing the distribution of these average enrollments rates, one histogram for 1997 and one histogram for 1998. On each histogram, draw a vertical line that intersects the x-axis at the average value (across all households).\n",
    "* Does there appear to be a difference? Is this difference statistically significant?\n",
    "* Which D estimator in Schultz (2004) does this approach correspond to?"
   ]
  },
  {
   "cell_type": "code",
   "execution_count": 61,
   "metadata": {
    "autoscroll": "json-false",
    "collapsed": false,
    "ein.tags": [
     "worksheet-0"
    ],
    "slideshow": {
     "slide_type": "-"
    }
   },
   "outputs": [],
   "source": [
    "#Filtering the data for poor households in treated villages in the year 1997\n",
    "poor_treated_97_df = progresa_df[(progresa_df['year'] == 97 )\n",
    "                                   & (progresa_df['progresa'] == 'basal' )\n",
    "                                   & (progresa_df['poor'] == 'pobre')]\n",
    "\n",
    "#Calculating the average enrollment by village\n",
    "poor_trated_97_by_village = poor_treated_97_df['sc'].groupby(poor_treated_97_df['village']).mean().reset_index()\n",
    "\n",
    "#Filtering the data for poor households in treated villages in the year 1998\n",
    "poor_treated_98_df = progresa_df[(progresa_df['year'] == 98 )\n",
    "                                   & (progresa_df['progresa'] == 'basal' )\n",
    "                                   & (progresa_df['poor'] == 'pobre')]\n",
    "\n",
    "#Calculating the average enrollment by village\n",
    "poor_trated_98_by_village = poor_treated_98_df['sc'].groupby(poor_treated_98_df['village']).mean().reset_index()"
   ]
  },
  {
   "cell_type": "code",
   "execution_count": 62,
   "metadata": {
    "collapsed": false
   },
   "outputs": [
    {
     "data": {
      "text/plain": [
       "<matplotlib.text.Text at 0x1816b160>"
      ]
     },
     "execution_count": 62,
     "metadata": {},
     "output_type": "execute_result"
    },
    {
     "data": {
      "image/png": "[encoded data removed]",
      "text/plain": [
       "<matplotlib.figure.Figure at 0x15734f98>"
      ]
     },
     "metadata": {},
     "output_type": "display_data"
    }
   ],
   "source": [
    "plt.hist(poor_trated_97_by_village['sc'],color='indianred')\n",
    "plt.axvline(poor_trated_97_by_village['sc'].mean(), color='green', linestyle='dashed', linewidth=3)\n",
    "plt.xlabel('Average Enrollment Rate (1997)')\n",
    "plt.ylabel('Count of Villages')\n",
    "plt.title('Histogram - Enrollment Rate for 97')"
   ]
  },
  {
   "cell_type": "code",
   "execution_count": 63,
   "metadata": {
    "collapsed": false
   },
   "outputs": [
    {
     "data": {
      "text/plain": [
       "<matplotlib.text.Text at 0x184509b0>"
      ]
     },
     "execution_count": 63,
     "metadata": {},
     "output_type": "execute_result"
    },
    {
     "data": {
      "image/png": "[encoded data removed]",
      "text/plain": [
       "<matplotlib.figure.Figure at 0x1835f198>"
      ]
     },
     "metadata": {},
     "output_type": "display_data"
    }
   ],
   "source": [
    "plt.hist(poor_trated_98_by_village['sc'],color='seagreen')\n",
    "plt.axvline(poor_trated_98_by_village['sc'].mean(), color='black', linestyle='dashed', linewidth=3)\n",
    "plt.xlabel('Average Enrollment Rate (1998)')\n",
    "plt.ylabel('Count of Villages')\n",
    "plt.title('Histogram - Enrollment Rate for 98')"
   ]
  },
  {
   "cell_type": "code",
   "execution_count": 64,
   "metadata": {
    "collapsed": false
   },
   "outputs": [
    {
     "name": "stdout",
     "output_type": "stream",
     "text": [
      "2.01571348652 0.0442487003657\n"
     ]
    }
   ],
   "source": [
    "#Performing T-test on the results to find out significance\n",
    "t,p = ttest_ind(poor_trated_98_by_village['sc'],poor_trated_97_by_village['sc'])\n",
    "print t,p"
   ]
  },
  {
   "cell_type": "markdown",
   "metadata": {},
   "source": [
    "As p_value from the t-test is 0.04 which is less than 0.05, village enrollment rates among poor households in treated villages, before and after treatment is statistically significant."
   ]
  },
  {
   "cell_type": "markdown",
   "metadata": {
    "ein.tags": [
     "worksheet-0"
    ],
    "slideshow": {
     "slide_type": "-"
    }
   },
   "source": [
    "## Part 2: Measuring Impact\n",
    "\n",
    "### 2.1 Simple differences: T-test\n",
    "\n",
    "Start out by estimating the impact of Progresa using \"simple differences.\" Restricting yourself to data from 1998 (after treatment).\n",
    "* calculate the average enrollment rate among **poor** households in the Treatment villages and the average enrollment rate among **poor** households in the control villages.\n",
    "* Which difference estimator in Schultz (2004) does this approach correspond to?\n",
    "* Use a t-test to determine if this difference is statistically significant. What do you conclude?"
   ]
  },
  {
   "cell_type": "code",
   "execution_count": 65,
   "metadata": {
    "autoscroll": "json-false",
    "collapsed": false,
    "ein.tags": [
     "worksheet-0"
    ],
    "slideshow": {
     "slide_type": "-"
    }
   },
   "outputs": [],
   "source": [
    "#Average Enrollments among poor households in 1998\n",
    "\n",
    "#Treatment Villages\n",
    "treatment_enrollment_98_df = progresa_df[(progresa_df['year'] == 98) \n",
    "                                        & (progresa_df['poor'] == 'pobre')\n",
    "                                        & (progresa_df['progresa'] == 'basal')]\n",
    "#Control Villages\n",
    "control_enrollment_98_df = progresa_df[(progresa_df['year'] == 98) \n",
    "                                        & (progresa_df['poor'] == 'pobre')\n",
    "                                        & (progresa_df['progresa'] == '0')]\n",
    "\n",
    "#T-test\n",
    "t = ttest_ind(treatment_enrollment_98_df['sc'], control_enrollment_98_df['sc'], nan_policy='omit')\n",
    "\n",
    "#Average enrollment rates\n",
    "mt = treatment_enrollment_98_df['sc'].mean()\n",
    "mc = control_enrollment_98_df['sc'].mean()"
   ]
  },
  {
   "cell_type": "code",
   "execution_count": 66,
   "metadata": {
    "collapsed": false
   },
   "outputs": [
    {
     "data": {
      "text/html": [
       "<div>\n",
       "<table border=\"1\" class=\"dataframe\">\n",
       "  <thead>\n",
       "    <tr style=\"text-align: right;\">\n",
       "      <th></th>\n",
       "      <th>index</th>\n",
       "      <th>0</th>\n",
       "    </tr>\n",
       "  </thead>\n",
       "  <tbody>\n",
       "    <tr>\n",
       "      <th>0</th>\n",
       "      <td>Average_Treatment</td>\n",
       "      <td>8.464791e-01</td>\n",
       "    </tr>\n",
       "    <tr>\n",
       "      <th>1</th>\n",
       "      <td>Average_Control</td>\n",
       "      <td>8.076370e-01</td>\n",
       "    </tr>\n",
       "    <tr>\n",
       "      <th>2</th>\n",
       "      <td>T-statistic</td>\n",
       "      <td>8.358721e+00</td>\n",
       "    </tr>\n",
       "    <tr>\n",
       "      <th>3</th>\n",
       "      <td>p-value</td>\n",
       "      <td>6.636344e-17</td>\n",
       "    </tr>\n",
       "  </tbody>\n",
       "</table>\n",
       "</div>"
      ],
      "text/plain": [
       "               index             0\n",
       "0  Average_Treatment  8.464791e-01\n",
       "1    Average_Control  8.076370e-01\n",
       "2        T-statistic  8.358721e+00\n",
       "3            p-value  6.636344e-17"
      ]
     },
     "execution_count": 66,
     "metadata": {},
     "output_type": "execute_result"
    }
   ],
   "source": [
    "#Organizing the results\n",
    "df = pd.DataFrame([mt,mc,t[0],t[1]])\n",
    "df.reset_index()\n",
    "df.rename(index={0: 'Average_Treatment',1:'Average_Control',2:'T-statistic',3:'p-value'}).reset_index()"
   ]
  },
  {
   "cell_type": "markdown",
   "metadata": {
    "ein.tags": [
     "worksheet-0"
    ],
    "slideshow": {
     "slide_type": "-"
    }
   },
   "source": [
    "### 2.2 Simple differences: Regression\n",
    "\n",
    "Estimate the effects of Progresa on enrollment using a regression model, by regressing the 1998 enrollment rates **of the poor** on treatment assignment. Discuss the following:\n",
    "\n",
    "* Based on this model, how much did Progresa increase the likelihood of a child enrolling?\n",
    "* How does your regression estimate compare to your t-test estimate from part 2.1?\n",
    "* Based on this regression model, can we reject the null hypothesis that the treatment effects are zero? \n",
    "* What is the counterfactual assumption underlying this regression?"
   ]
  },
  {
   "cell_type": "code",
   "execution_count": 67,
   "metadata": {
    "collapsed": false
   },
   "outputs": [],
   "source": [
    "# Filtering poor households in 98 \n",
    "enrollment_98_poor_df = progresa_df[(progresa_df['year'] == 98) \n",
    "                                        & (progresa_df['poor'] == 'pobre')].dropna()"
   ]
  },
  {
   "cell_type": "code",
   "execution_count": 68,
   "metadata": {
    "collapsed": false
   },
   "outputs": [
    {
     "data": {
      "text/html": [
       "<table class=\"simpletable\">\n",
       "<caption>OLS Regression Results</caption>\n",
       "<tr>\n",
       "  <th>Dep. Variable:</th>           <td>sc</td>        <th>  R-squared:         </th> <td>   0.003</td> \n",
       "</tr>\n",
       "<tr>\n",
       "  <th>Model:</th>                   <td>OLS</td>       <th>  Adj. R-squared:    </th> <td>   0.002</td> \n",
       "</tr>\n",
       "<tr>\n",
       "  <th>Method:</th>             <td>Least Squares</td>  <th>  F-statistic:       </th> <td>   65.64</td> \n",
       "</tr>\n",
       "<tr>\n",
       "  <th>Date:</th>             <td>Mon, 01 May 2017</td> <th>  Prob (F-statistic):</th> <td>5.66e-16</td> \n",
       "</tr>\n",
       "<tr>\n",
       "  <th>Time:</th>                 <td>23:44:12</td>     <th>  Log-Likelihood:    </th> <td> -11171.</td> \n",
       "</tr>\n",
       "<tr>\n",
       "  <th>No. Observations:</th>      <td> 26155</td>      <th>  AIC:               </th> <td>2.235e+04</td>\n",
       "</tr>\n",
       "<tr>\n",
       "  <th>Df Residuals:</th>          <td> 26153</td>      <th>  BIC:               </th> <td>2.236e+04</td>\n",
       "</tr>\n",
       "<tr>\n",
       "  <th>Df Model:</th>              <td>     1</td>      <th>                     </th>     <td> </td>    \n",
       "</tr>\n",
       "<tr>\n",
       "  <th>Covariance Type:</th>      <td>nonrobust</td>    <th>                     </th>     <td> </td>    \n",
       "</tr>\n",
       "</table>\n",
       "<table class=\"simpletable\">\n",
       "<tr>\n",
       "          <td></td>             <th>coef</th>     <th>std err</th>      <th>t</th>      <th>P>|t|</th> <th>[95.0% Conf. Int.]</th> \n",
       "</tr>\n",
       "<tr>\n",
       "  <th>Intercept</th>         <td>    0.8109</td> <td>    0.004</td> <td>  217.190</td> <td> 0.000</td> <td>    0.804     0.818</td>\n",
       "</tr>\n",
       "<tr>\n",
       "  <th>progresa[T.basal]</th> <td>    0.0383</td> <td>    0.005</td> <td>    8.102</td> <td> 0.000</td> <td>    0.029     0.048</td>\n",
       "</tr>\n",
       "</table>\n",
       "<table class=\"simpletable\">\n",
       "<tr>\n",
       "  <th>Omnibus:</th>       <td>7487.800</td> <th>  Durbin-Watson:     </th> <td>   1.734</td> \n",
       "</tr>\n",
       "<tr>\n",
       "  <th>Prob(Omnibus):</th>  <td> 0.000</td>  <th>  Jarque-Bera (JB):  </th> <td>15756.374</td>\n",
       "</tr>\n",
       "<tr>\n",
       "  <th>Skew:</th>           <td>-1.796</td>  <th>  Prob(JB):          </th> <td>    0.00</td> \n",
       "</tr>\n",
       "<tr>\n",
       "  <th>Kurtosis:</th>       <td> 4.245</td>  <th>  Cond. No.          </th> <td>    3.02</td> \n",
       "</tr>\n",
       "</table>"
      ],
      "text/plain": [
       "<class 'statsmodels.iolib.summary.Summary'>\n",
       "\"\"\"\n",
       "                            OLS Regression Results                            \n",
       "==============================================================================\n",
       "Dep. Variable:                     sc   R-squared:                       0.003\n",
       "Model:                            OLS   Adj. R-squared:                  0.002\n",
       "Method:                 Least Squares   F-statistic:                     65.64\n",
       "Date:                Mon, 01 May 2017   Prob (F-statistic):           5.66e-16\n",
       "Time:                        23:44:12   Log-Likelihood:                -11171.\n",
       "No. Observations:               26155   AIC:                         2.235e+04\n",
       "Df Residuals:                   26153   BIC:                         2.236e+04\n",
       "Df Model:                           1                                         \n",
       "Covariance Type:            nonrobust                                         \n",
       "=====================================================================================\n",
       "                        coef    std err          t      P>|t|      [95.0% Conf. Int.]\n",
       "-------------------------------------------------------------------------------------\n",
       "Intercept             0.8109      0.004    217.190      0.000         0.804     0.818\n",
       "progresa[T.basal]     0.0383      0.005      8.102      0.000         0.029     0.048\n",
       "==============================================================================\n",
       "Omnibus:                     7487.800   Durbin-Watson:                   1.734\n",
       "Prob(Omnibus):                  0.000   Jarque-Bera (JB):            15756.374\n",
       "Skew:                          -1.796   Prob(JB):                         0.00\n",
       "Kurtosis:                       4.245   Cond. No.                         3.02\n",
       "==============================================================================\n",
       "\n",
       "Warnings:\n",
       "[1] Standard Errors assume that the covariance matrix of the errors is correctly specified.\n",
       "\"\"\""
      ]
     },
     "execution_count": 68,
     "metadata": {},
     "output_type": "execute_result"
    }
   ],
   "source": [
    "from statsmodels.formula.api import ols\n",
    "#Linear model\n",
    "lm_fit= ols(formula='sc ~ progresa', data=enrollment_98_poor_df).fit()\n",
    "\n",
    "#Summary of the fitted model\n",
    "lm_fit.summary()"
   ]
  },
  {
   "cell_type": "markdown",
   "metadata": {
    "collapsed": true
   },
   "source": [
    "1. The coefficient of progresa variable is 0.0388, which means, for a unit increase in progresa, the enrollment would increase by 0.0388 percent. A unit increase in progresa would mean enrollment, thus we can say Progresa increased the liklihood of a child enrolling by 0.0388%.\n",
    "\n",
    "2. The t-test estimate from 2.1 is in sync with regression model. This can be concluded from the regression value calculated for the above model : 0.8076 + 1* 0.0388 = 0.8464, which is also the Average enrollment rate among poor households in the Treatment villages. Considering for control group, we would get a regression value of 0.8076, which is Average enrollment rate among poor households in the Control villages.\n",
    "\n",
    "3. Hence, we can reject the null hypothesis as the pvalue for the intercept is lesser than 0.05. Thus treatment has made an effect on the enrollment.\n",
    "\n",
    "4. The counterfactual assumption underlying this regression is that if there was no treatment, such change couldnt have been observed."
   ]
  },
  {
   "cell_type": "code",
   "execution_count": 69,
   "metadata": {
    "collapsed": false
   },
   "outputs": [
    {
     "data": {
      "text/plain": [
       "(0.8, 0.86)"
      ]
     },
     "execution_count": 69,
     "metadata": {},
     "output_type": "execute_result"
    },
    {
     "data": {
      "image/png": "[encoded data removed]",
      "text/plain": [
       "<matplotlib.figure.Figure at 0x183530b8>"
      ]
     },
     "metadata": {},
     "output_type": "display_data"
    }
   ],
   "source": [
    "#Use seaborn factorplot function to do a linear fit automatically!\n",
    "lm = sns.factorplot('progresa', 'sc', data=enrollment_98_poor_df)\n",
    "axes = lm.axes\n",
    "axes[0,0].set_ylim(0.8,0.86)"
   ]
  },
  {
   "cell_type": "markdown",
   "metadata": {
    "ein.tags": [
     "worksheet-0"
    ],
    "slideshow": {
     "slide_type": "-"
    }
   },
   "source": [
    "### 2.3 Multiple Regression\n",
    "\n",
    "Re-run the above regression estimated but this time include a set of control variables. Include, for instance, age, distance to a secondary school, gender, education of household head, indigenous, etc.\n",
    "\n",
    "* How do the controls affect the point estimate of treatment effect?\n",
    "* How do the controls affect the standard error on the treatment effect? \n",
    "* How do you interpret the differences (or similarities) between your estimates of 2.2 and 2.3?"
   ]
  },
  {
   "cell_type": "code",
   "execution_count": 70,
   "metadata": {
    "autoscroll": "json-false",
    "collapsed": false,
    "ein.tags": [
     "worksheet-0"
    ],
    "slideshow": {
     "slide_type": "-"
    }
   },
   "outputs": [
    {
     "data": {
      "text/html": [
       "<table class=\"simpletable\">\n",
       "<caption>OLS Regression Results</caption>\n",
       "<tr>\n",
       "  <th>Dep. Variable:</th>           <td>sc</td>        <th>  R-squared:         </th> <td>   0.263</td> \n",
       "</tr>\n",
       "<tr>\n",
       "  <th>Model:</th>                   <td>OLS</td>       <th>  Adj. R-squared:    </th> <td>   0.263</td> \n",
       "</tr>\n",
       "<tr>\n",
       "  <th>Method:</th>             <td>Least Squares</td>  <th>  F-statistic:       </th> <td>   850.2</td> \n",
       "</tr>\n",
       "<tr>\n",
       "  <th>Date:</th>             <td>Mon, 01 May 2017</td> <th>  Prob (F-statistic):</th>  <td>  0.00</td>  \n",
       "</tr>\n",
       "<tr>\n",
       "  <th>Time:</th>                 <td>23:44:14</td>     <th>  Log-Likelihood:    </th> <td> -7204.9</td> \n",
       "</tr>\n",
       "<tr>\n",
       "  <th>No. Observations:</th>      <td> 26155</td>      <th>  AIC:               </th> <td>1.443e+04</td>\n",
       "</tr>\n",
       "<tr>\n",
       "  <th>Df Residuals:</th>          <td> 26143</td>      <th>  BIC:               </th> <td>1.453e+04</td>\n",
       "</tr>\n",
       "<tr>\n",
       "  <th>Df Model:</th>              <td>    11</td>      <th>                     </th>     <td> </td>    \n",
       "</tr>\n",
       "<tr>\n",
       "  <th>Covariance Type:</th>      <td>nonrobust</td>    <th>                     </th>     <td> </td>    \n",
       "</tr>\n",
       "</table>\n",
       "<table class=\"simpletable\">\n",
       "<tr>\n",
       "          <td></td>             <th>coef</th>     <th>std err</th>      <th>t</th>      <th>P>|t|</th> <th>[95.0% Conf. Int.]</th> \n",
       "</tr>\n",
       "<tr>\n",
       "  <th>Intercept</th>         <td>    1.4897</td> <td>    0.019</td> <td>   78.479</td> <td> 0.000</td> <td>    1.452     1.527</td>\n",
       "</tr>\n",
       "<tr>\n",
       "  <th>progresa[T.basal]</th> <td>    0.0350</td> <td>    0.004</td> <td>    8.604</td> <td> 0.000</td> <td>    0.027     0.043</td>\n",
       "</tr>\n",
       "<tr>\n",
       "  <th>age</th>               <td>   -0.0652</td> <td>    0.001</td> <td>  -91.496</td> <td> 0.000</td> <td>   -0.067    -0.064</td>\n",
       "</tr>\n",
       "<tr>\n",
       "  <th>indig</th>             <td>    0.0491</td> <td>    0.004</td> <td>   11.529</td> <td> 0.000</td> <td>    0.041     0.057</td>\n",
       "</tr>\n",
       "<tr>\n",
       "  <th>dist_sec</th>          <td>   -0.0108</td> <td>    0.001</td> <td>  -11.514</td> <td> 0.000</td> <td>   -0.013    -0.009</td>\n",
       "</tr>\n",
       "<tr>\n",
       "  <th>sex</th>               <td>    0.0307</td> <td>    0.004</td> <td>    7.785</td> <td> 0.000</td> <td>    0.023     0.038</td>\n",
       "</tr>\n",
       "<tr>\n",
       "  <th>hohedu</th>            <td>    0.0084</td> <td>    0.001</td> <td>    9.685</td> <td> 0.000</td> <td>    0.007     0.010</td>\n",
       "</tr>\n",
       "<tr>\n",
       "  <th>welfare_index</th>     <td> 2.387e-05</td> <td> 1.86e-05</td> <td>    1.286</td> <td> 0.198</td> <td>-1.25e-05  6.03e-05</td>\n",
       "</tr>\n",
       "<tr>\n",
       "  <th>fam_n</th>             <td>   -0.0005</td> <td>    0.001</td> <td>   -0.559</td> <td> 0.576</td> <td>   -0.002     0.001</td>\n",
       "</tr>\n",
       "<tr>\n",
       "  <th>hohwag</th>            <td>-2.526e-06</td> <td> 2.86e-06</td> <td>   -0.883</td> <td> 0.377</td> <td>-8.13e-06  3.08e-06</td>\n",
       "</tr>\n",
       "<tr>\n",
       "  <th>hohsex</th>            <td>    0.0116</td> <td>    0.008</td> <td>    1.468</td> <td> 0.142</td> <td>   -0.004     0.027</td>\n",
       "</tr>\n",
       "<tr>\n",
       "  <th>hohage</th>            <td>    0.0002</td> <td>    0.000</td> <td>    1.240</td> <td> 0.215</td> <td>   -0.000     0.001</td>\n",
       "</tr>\n",
       "</table>\n",
       "<table class=\"simpletable\">\n",
       "<tr>\n",
       "  <th>Omnibus:</th>       <td>3018.149</td> <th>  Durbin-Watson:     </th> <td>   1.719</td>\n",
       "</tr>\n",
       "<tr>\n",
       "  <th>Prob(Omnibus):</th>  <td> 0.000</td>  <th>  Jarque-Bera (JB):  </th> <td>4175.866</td>\n",
       "</tr>\n",
       "<tr>\n",
       "  <th>Skew:</th>           <td>-0.968</td>  <th>  Prob(JB):          </th> <td>    0.00</td>\n",
       "</tr>\n",
       "<tr>\n",
       "  <th>Kurtosis:</th>       <td> 3.292</td>  <th>  Cond. No.          </th> <td>1.00e+04</td>\n",
       "</tr>\n",
       "</table>"
      ],
      "text/plain": [
       "<class 'statsmodels.iolib.summary.Summary'>\n",
       "\"\"\"\n",
       "                            OLS Regression Results                            \n",
       "==============================================================================\n",
       "Dep. Variable:                     sc   R-squared:                       0.263\n",
       "Model:                            OLS   Adj. R-squared:                  0.263\n",
       "Method:                 Least Squares   F-statistic:                     850.2\n",
       "Date:                Mon, 01 May 2017   Prob (F-statistic):               0.00\n",
       "Time:                        23:44:14   Log-Likelihood:                -7204.9\n",
       "No. Observations:               26155   AIC:                         1.443e+04\n",
       "Df Residuals:                   26143   BIC:                         1.453e+04\n",
       "Df Model:                          11                                         \n",
       "Covariance Type:            nonrobust                                         \n",
       "=====================================================================================\n",
       "                        coef    std err          t      P>|t|      [95.0% Conf. Int.]\n",
       "-------------------------------------------------------------------------------------\n",
       "Intercept             1.4897      0.019     78.479      0.000         1.452     1.527\n",
       "progresa[T.basal]     0.0350      0.004      8.604      0.000         0.027     0.043\n",
       "age                  -0.0652      0.001    -91.496      0.000        -0.067    -0.064\n",
       "indig                 0.0491      0.004     11.529      0.000         0.041     0.057\n",
       "dist_sec             -0.0108      0.001    -11.514      0.000        -0.013    -0.009\n",
       "sex                   0.0307      0.004      7.785      0.000         0.023     0.038\n",
       "hohedu                0.0084      0.001      9.685      0.000         0.007     0.010\n",
       "welfare_index      2.387e-05   1.86e-05      1.286      0.198     -1.25e-05  6.03e-05\n",
       "fam_n                -0.0005      0.001     -0.559      0.576        -0.002     0.001\n",
       "hohwag            -2.526e-06   2.86e-06     -0.883      0.377     -8.13e-06  3.08e-06\n",
       "hohsex                0.0116      0.008      1.468      0.142        -0.004     0.027\n",
       "hohage                0.0002      0.000      1.240      0.215        -0.000     0.001\n",
       "==============================================================================\n",
       "Omnibus:                     3018.149   Durbin-Watson:                   1.719\n",
       "Prob(Omnibus):                  0.000   Jarque-Bera (JB):             4175.866\n",
       "Skew:                          -0.968   Prob(JB):                         0.00\n",
       "Kurtosis:                       3.292   Cond. No.                     1.00e+04\n",
       "==============================================================================\n",
       "\n",
       "Warnings:\n",
       "[1] Standard Errors assume that the covariance matrix of the errors is correctly specified.\n",
       "[2] The condition number is large,  1e+04. This might indicate that there are\n",
       "strong multicollinearity or other numerical problems.\n",
       "\"\"\""
      ]
     },
     "execution_count": 70,
     "metadata": {},
     "output_type": "execute_result"
    }
   ],
   "source": [
    "#Multiple Linear model\n",
    "lm_fit2= ols(formula='sc ~ age + progresa + indig + dist_sec + sex + hohedu + welfare_index + fam_n + hohwag + hohsex + hohage', data=enrollment_98_poor_df).fit()\n",
    "\n",
    "#Summary of the fitted model\n",
    "lm_fit2.summary()"
   ]
  },
  {
   "cell_type": "markdown",
   "metadata": {},
   "source": [
    "1. Adding the control variables hasnt affected the treatment effect. The coefficient of progresa variable hasnt changed much from (0.0388 to 0.0353) and also its p value is still statistically significant. Thus the treatment of providing subsidy to poor children has increased the enrollment rate. Some of the other control variables also have a statistically significant value thus having an affect on the treatment. We can also see that the intercept value has increased considerably\n",
    "\n",
    "2. After adding the control variables, the standard error for treament has reduced from 0.005 to 0.004. Thus we can conlcude that introduction of new control variables has improved the model accuracy."
   ]
  },
  {
   "cell_type": "markdown",
   "metadata": {
    "ein.tags": [
     "worksheet-0"
    ],
    "slideshow": {
     "slide_type": "-"
    }
   },
   "source": [
    "### 2.4 Difference-in-Difference, version 1 (tabular)\n",
    "\n",
    "Thus far, we have computed the effects of Progresa by estimating the difference in 1998 enrollment rates across villages. An alternative approach would be to compute the treatment effect using a difference-in-differences framework.\n",
    "\n",
    "Begin by estimating the average treatment effects of the program for poor households using data from 1997 and 1998. Specifically, calculate the difference (between 1997 and 1998) in enrollment rates among poor households in treated villages; then compute the difference (between 1997 and 1998) in enrollment rates among poor households in treated villages. The difference between these two differences is your estimate.\n",
    "\n",
    "* What is your estimate of the impact, and how does it compare to your earlier (simple difference) results?\n",
    "* What is the counterfactual assumption underlying this estimate? \n"
   ]
  },
  {
   "cell_type": "code",
   "execution_count": 71,
   "metadata": {
    "collapsed": false
   },
   "outputs": [],
   "source": [
    "#Filtering for year , poor and progresa\n",
    "progresa_97_treatment = progresa_df[(progresa_df.poor=='pobre') & (progresa_df.year==97) \n",
    "                                    & (progresa_df.progresa=='basal')] \n",
    "\n",
    "progresa_97_control = progresa_df[(progresa_df.poor=='pobre') & (progresa_df.year==97) \n",
    "                                  & (progresa_df.progresa=='0')] \n",
    "\n",
    "progresa_98_treatment = progresa_df[(progresa_df.poor=='pobre') & (progresa_df.year==98) \n",
    "                                             & (progresa_df.progresa=='basal')] \n",
    "\n",
    "progresa_98_control = progresa_df[(progresa_df.poor=='pobre') & (progresa_df.year==98) \n",
    "                                           & (progresa_df.progresa=='0')] \n",
    "\n",
    "#Calculating means\n",
    "mean_treatment_98 = progresa_98_treatment['sc'].mean()\n",
    "mean_treatment_97 = progresa_97_treatment['sc'].mean()\n",
    "diff_treatment = mean_treatment_98 - mean_treatment_97\n",
    "\n",
    "mean_control_98 = progresa_98_control.mean()['sc']\n",
    "mean_control_97 = progresa_97_control.mean()['sc']\n",
    "diff_control = mean_control_98 - mean_control_97\n",
    "\n",
    "#Difference of Difference\n",
    "diff_in_diff = diff_treatment - diff_control"
   ]
  },
  {
   "cell_type": "code",
   "execution_count": 72,
   "metadata": {
    "collapsed": false
   },
   "outputs": [
    {
     "data": {
      "text/html": [
       "<div>\n",
       "<table border=\"1\" class=\"dataframe\">\n",
       "  <thead>\n",
       "    <tr style=\"text-align: right;\">\n",
       "      <th></th>\n",
       "      <th>index</th>\n",
       "      <th>0</th>\n",
       "    </tr>\n",
       "  </thead>\n",
       "  <tbody>\n",
       "    <tr>\n",
       "      <th>0</th>\n",
       "      <td>Mean_Treatment_98</td>\n",
       "      <td>0.846479</td>\n",
       "    </tr>\n",
       "    <tr>\n",
       "      <th>1</th>\n",
       "      <td>Mean_Treatment_97</td>\n",
       "      <td>0.822697</td>\n",
       "    </tr>\n",
       "    <tr>\n",
       "      <th>2</th>\n",
       "      <td>Difference_Treatment</td>\n",
       "      <td>0.023782</td>\n",
       "    </tr>\n",
       "    <tr>\n",
       "      <th>3</th>\n",
       "      <td>Mean_Control_98</td>\n",
       "      <td>0.807637</td>\n",
       "    </tr>\n",
       "    <tr>\n",
       "      <th>4</th>\n",
       "      <td>mean_control_97</td>\n",
       "      <td>0.815186</td>\n",
       "    </tr>\n",
       "    <tr>\n",
       "      <th>5</th>\n",
       "      <td>Difference_Control</td>\n",
       "      <td>-0.007549</td>\n",
       "    </tr>\n",
       "    <tr>\n",
       "      <th>6</th>\n",
       "      <td>Diff_in_Diff</td>\n",
       "      <td>0.031331</td>\n",
       "    </tr>\n",
       "  </tbody>\n",
       "</table>\n",
       "</div>"
      ],
      "text/plain": [
       "                  index         0\n",
       "0     Mean_Treatment_98  0.846479\n",
       "1     Mean_Treatment_97  0.822697\n",
       "2  Difference_Treatment  0.023782\n",
       "3       Mean_Control_98  0.807637\n",
       "4       mean_control_97  0.815186\n",
       "5    Difference_Control -0.007549\n",
       "6          Diff_in_Diff  0.031331"
      ]
     },
     "execution_count": 72,
     "metadata": {},
     "output_type": "execute_result"
    }
   ],
   "source": [
    "#Organizing the results\n",
    "diff_df = pd.DataFrame([mean_treatment_98,mean_treatment_97,diff_treatment,mean_control_98,\n",
    "                        mean_control_97, diff_control,diff_in_diff])\n",
    "diff_df.reset_index()\n",
    "diff_df.rename(index={0:'Mean_Treatment_98', 1: 'Mean_Treatment_97', 2: 'Difference_Treatment',\n",
    "                      3: 'Mean_Control_98', 4:'mean_control_97', 5:'Difference_Control',\n",
    "                      6:'Diff_in_Diff'}).reset_index()"
   ]
  },
  {
   "cell_type": "markdown",
   "metadata": {},
   "source": [
    "1. The difference of difference in the average of enrollment rate is:  0.031331. As described above, I have implemented the difference in difference framework according to which the difference between the differences of the treated and control villages for year 98 and 97 gives the estimate. Thus the estimate is 0.0313. This estimate is lesser than the estimate we got through simple linear regression 0.388 and multiple linear regression 0.0353.\n",
    "\n",
    "2. The counterfactual assumption underlying this estimate is that if there was no treatment, we couldnt have observed difference between the average enrollment rates for treatment and control."
   ]
  },
  {
   "cell_type": "markdown",
   "metadata": {
    "ein.tags": [
     "worksheet-0"
    ],
    "slideshow": {
     "slide_type": "-"
    }
   },
   "source": [
    "### 2.5 Difference-in-Difference, version 1 (regression)\n",
    "\n",
    "Now use a regression specification to estimate the average treatment effect of the program (on the poor) in a difference-in-differences framework. Include at least 5 control variables.\n",
    "\n",
    "* What is your estimate of the impact of Progresa? Be very specific in interpreting your coefficients and standard errors, and make sure to specify exactly what units you are measuring and estimating.\n",
    "* How do these estimates of the treatment effect compare to the estimates based on the simple difference?\n",
    "* How do these estimates compare to the difference-in-difference estimates from 2.4 above? What accounts for these differences?\n",
    "* What is the counterfactual assumption underlying this regression? "
   ]
  },
  {
   "cell_type": "code",
   "execution_count": 73,
   "metadata": {
    "autoscroll": "json-false",
    "collapsed": false,
    "ein.tags": [
     "worksheet-0"
    ],
    "slideshow": {
     "slide_type": "-"
    }
   },
   "outputs": [],
   "source": [
    "#Converting poor to a  binary variable form\n",
    "progresa_df['poor_bin'] = progresa_df['poor'].map({'pobre': 1, '0': 0})\n",
    "#Creating a binary variable for time\n",
    "progresa_df['year_bin'] = progresa_df['year'].map({98 : 1, 97: 0})"
   ]
  },
  {
   "cell_type": "code",
   "execution_count": 74,
   "metadata": {
    "collapsed": false
   },
   "outputs": [
    {
     "data": {
      "text/html": [
       "<table class=\"simpletable\">\n",
       "<caption>OLS Regression Results</caption>\n",
       "<tr>\n",
       "  <th>Dep. Variable:</th>           <td>sc</td>        <th>  R-squared:         </th> <td>   0.279</td> \n",
       "</tr>\n",
       "<tr>\n",
       "  <th>Model:</th>                   <td>OLS</td>       <th>  Adj. R-squared:    </th> <td>   0.279</td> \n",
       "</tr>\n",
       "<tr>\n",
       "  <th>Method:</th>             <td>Least Squares</td>  <th>  F-statistic:       </th> <td>   2810.</td> \n",
       "</tr>\n",
       "<tr>\n",
       "  <th>Date:</th>             <td>Mon, 01 May 2017</td> <th>  Prob (F-statistic):</th>  <td>  0.00</td>  \n",
       "</tr>\n",
       "<tr>\n",
       "  <th>Time:</th>                 <td>23:44:16</td>     <th>  Log-Likelihood:    </th> <td> -16717.</td> \n",
       "</tr>\n",
       "<tr>\n",
       "  <th>No. Observations:</th>      <td> 58165</td>      <th>  AIC:               </th> <td>3.345e+04</td>\n",
       "</tr>\n",
       "<tr>\n",
       "  <th>Df Residuals:</th>          <td> 58156</td>      <th>  BIC:               </th> <td>3.353e+04</td>\n",
       "</tr>\n",
       "<tr>\n",
       "  <th>Df Model:</th>              <td>     8</td>      <th>                     </th>     <td> </td>    \n",
       "</tr>\n",
       "<tr>\n",
       "  <th>Covariance Type:</th>      <td>nonrobust</td>    <th>                     </th>     <td> </td>    \n",
       "</tr>\n",
       "</table>\n",
       "<table class=\"simpletable\">\n",
       "<tr>\n",
       "               <td></td>                 <th>coef</th>     <th>std err</th>      <th>t</th>      <th>P>|t|</th> <th>[95.0% Conf. Int.]</th> \n",
       "</tr>\n",
       "<tr>\n",
       "  <th>Intercept</th>                  <td>    1.4940</td> <td>    0.006</td> <td>  231.606</td> <td> 0.000</td> <td>    1.481     1.507</td>\n",
       "</tr>\n",
       "<tr>\n",
       "  <th>progresa[T.basal]</th>          <td>    0.0043</td> <td>    0.004</td> <td>    1.137</td> <td> 0.256</td> <td>   -0.003     0.012</td>\n",
       "</tr>\n",
       "<tr>\n",
       "  <th>year_bin</th>                   <td>    0.0270</td> <td>    0.004</td> <td>    6.204</td> <td> 0.000</td> <td>    0.018     0.036</td>\n",
       "</tr>\n",
       "<tr>\n",
       "  <th>progresa[T.basal]:year_bin</th> <td>    0.0314</td> <td>    0.006</td> <td>    5.685</td> <td> 0.000</td> <td>    0.021     0.042</td>\n",
       "</tr>\n",
       "<tr>\n",
       "  <th>age</th>                        <td>   -0.0655</td> <td>    0.000</td> <td> -144.433</td> <td> 0.000</td> <td>   -0.066    -0.065</td>\n",
       "</tr>\n",
       "<tr>\n",
       "  <th>indig</th>                      <td>    0.0496</td> <td>    0.003</td> <td>   17.304</td> <td> 0.000</td> <td>    0.044     0.055</td>\n",
       "</tr>\n",
       "<tr>\n",
       "  <th>dist_sec</th>                   <td>   -0.0110</td> <td>    0.001</td> <td>  -17.788</td> <td> 0.000</td> <td>   -0.012    -0.010</td>\n",
       "</tr>\n",
       "<tr>\n",
       "  <th>sex</th>                        <td>    0.0339</td> <td>    0.003</td> <td>   12.672</td> <td> 0.000</td> <td>    0.029     0.039</td>\n",
       "</tr>\n",
       "<tr>\n",
       "  <th>hohedu</th>                     <td>    0.0076</td> <td>    0.001</td> <td>   14.110</td> <td> 0.000</td> <td>    0.007     0.009</td>\n",
       "</tr>\n",
       "</table>\n",
       "<table class=\"simpletable\">\n",
       "<tr>\n",
       "  <th>Omnibus:</th>       <td>5523.777</td> <th>  Durbin-Watson:     </th> <td>   1.484</td>\n",
       "</tr>\n",
       "<tr>\n",
       "  <th>Prob(Omnibus):</th>  <td> 0.000</td>  <th>  Jarque-Bera (JB):  </th> <td>7269.312</td>\n",
       "</tr>\n",
       "<tr>\n",
       "  <th>Skew:</th>           <td>-0.864</td>  <th>  Prob(JB):          </th> <td>    0.00</td>\n",
       "</tr>\n",
       "<tr>\n",
       "  <th>Kurtosis:</th>       <td> 3.113</td>  <th>  Cond. No.          </th> <td>    70.8</td>\n",
       "</tr>\n",
       "</table>"
      ],
      "text/plain": [
       "<class 'statsmodels.iolib.summary.Summary'>\n",
       "\"\"\"\n",
       "                            OLS Regression Results                            \n",
       "==============================================================================\n",
       "Dep. Variable:                     sc   R-squared:                       0.279\n",
       "Model:                            OLS   Adj. R-squared:                  0.279\n",
       "Method:                 Least Squares   F-statistic:                     2810.\n",
       "Date:                Mon, 01 May 2017   Prob (F-statistic):               0.00\n",
       "Time:                        23:44:16   Log-Likelihood:                -16717.\n",
       "No. Observations:               58165   AIC:                         3.345e+04\n",
       "Df Residuals:                   58156   BIC:                         3.353e+04\n",
       "Df Model:                           8                                         \n",
       "Covariance Type:            nonrobust                                         \n",
       "==============================================================================================\n",
       "                                 coef    std err          t      P>|t|      [95.0% Conf. Int.]\n",
       "----------------------------------------------------------------------------------------------\n",
       "Intercept                      1.4940      0.006    231.606      0.000         1.481     1.507\n",
       "progresa[T.basal]              0.0043      0.004      1.137      0.256        -0.003     0.012\n",
       "year_bin                       0.0270      0.004      6.204      0.000         0.018     0.036\n",
       "progresa[T.basal]:year_bin     0.0314      0.006      5.685      0.000         0.021     0.042\n",
       "age                           -0.0655      0.000   -144.433      0.000        -0.066    -0.065\n",
       "indig                          0.0496      0.003     17.304      0.000         0.044     0.055\n",
       "dist_sec                      -0.0110      0.001    -17.788      0.000        -0.012    -0.010\n",
       "sex                            0.0339      0.003     12.672      0.000         0.029     0.039\n",
       "hohedu                         0.0076      0.001     14.110      0.000         0.007     0.009\n",
       "==============================================================================\n",
       "Omnibus:                     5523.777   Durbin-Watson:                   1.484\n",
       "Prob(Omnibus):                  0.000   Jarque-Bera (JB):             7269.312\n",
       "Skew:                          -0.864   Prob(JB):                         0.00\n",
       "Kurtosis:                       3.113   Cond. No.                         70.8\n",
       "==============================================================================\n",
       "\n",
       "Warnings:\n",
       "[1] Standard Errors assume that the covariance matrix of the errors is correctly specified.\n",
       "\"\"\""
      ]
     },
     "execution_count": 74,
     "metadata": {},
     "output_type": "execute_result"
    }
   ],
   "source": [
    "#Filtering for poor group\n",
    "progresa_df_poor = progresa_df[(progresa_df.poor_bin==1)]\n",
    "\n",
    "#Regression with progresa, post, progresa*time(interaction) and 5 control variables\n",
    "lm_fit3 = ols(formula='sc ~ progresa + year_bin + progresa*year_bin + age + indig + dist_sec + sex + hohedu', data=progresa_df_poor).fit()\n",
    "\n",
    "#Summary\n",
    "lm_fit3.summary()"
   ]
  },
  {
   "cell_type": "markdown",
   "metadata": {},
   "source": [
    "1. We firstly create a binary variable for year, which is necssary according to difference in difference approach, control variable has to be binary. Next, we take into consideration the interaction between the treatment term and the year. Interpretting \"progresa:time\" interaction coefficient: For families in year 1998 being subjected to the progresa subsidy program, the average enrollment rates would be 0.0314 higher. Interpretting \"time\" term: For the year 1998, the average enrollment rate is higher by 0.0270. The progresa coefficient has the value 0.0043 but it is no longer statistically significant.\n",
    "\n",
    "2. The impact estimation of the difference in difference model is lower than that of simple difference. We can say that estimate through difference in difference approach are more accurate than simple difference because control and treatment variables are considered together with the introduction of interaction term where as they are considered in silos for simple difference method.\n",
    "\n",
    "3. We can see that the impact of 2.4 is almost similar to what we see in this question. Introduction of time and its interaction with progresa treatment causes the impact to be measured by a sum of 3 variables, though in 2.4 it was not the case. Additionally, there can be some differences by introduction of control variables.\n",
    "\n",
    "4. The counterfactual assumption is that the trends in treatment group and control group would have been the same in the absence of treatment."
   ]
  },
  {
   "cell_type": "markdown",
   "metadata": {
    "ein.tags": [
     "worksheet-0"
    ],
    "slideshow": {
     "slide_type": "-"
    }
   },
   "source": [
    "### 2.6 Difference-in-Difference, version 2\n",
    "\n",
    "In the previous problem, you estimated a difference-in-differences model that compared changes in enrollment rates over time across treatment and control villages. An alternative approach would be to compare enrollment rates in 1998 between poor and non-poor across treatment and control villages. \n",
    "\n",
    "* How would we estimate this version of the treatment effects in a regression model? \n",
    "* What is the counterfactual assumption underlying this regression?\n",
    "* How do these treatment effects compare to the estimates above?\n",
    "* Discuss some possible explanations for differences or similarities "
   ]
  },
  {
   "cell_type": "code",
   "execution_count": 75,
   "metadata": {
    "autoscroll": "json-false",
    "collapsed": false,
    "ein.tags": [
     "worksheet-0"
    ],
    "slideshow": {
     "slide_type": "-"
    }
   },
   "outputs": [
    {
     "data": {
      "text/html": [
       "<table class=\"simpletable\">\n",
       "<caption>OLS Regression Results</caption>\n",
       "<tr>\n",
       "  <th>Dep. Variable:</th>           <td>sc</td>        <th>  R-squared:         </th> <td>   0.274</td> \n",
       "</tr>\n",
       "<tr>\n",
       "  <th>Model:</th>                   <td>OLS</td>       <th>  Adj. R-squared:    </th> <td>   0.274</td> \n",
       "</tr>\n",
       "<tr>\n",
       "  <th>Method:</th>             <td>Least Squares</td>  <th>  F-statistic:       </th> <td>   1344.</td> \n",
       "</tr>\n",
       "<tr>\n",
       "  <th>Date:</th>             <td>Mon, 01 May 2017</td> <th>  Prob (F-statistic):</th>  <td>  0.00</td>  \n",
       "</tr>\n",
       "<tr>\n",
       "  <th>Time:</th>                 <td>23:44:17</td>     <th>  Log-Likelihood:    </th> <td> -9237.3</td> \n",
       "</tr>\n",
       "<tr>\n",
       "  <th>No. Observations:</th>      <td> 32097</td>      <th>  AIC:               </th> <td>1.849e+04</td>\n",
       "</tr>\n",
       "<tr>\n",
       "  <th>Df Residuals:</th>          <td> 32087</td>      <th>  BIC:               </th> <td>1.858e+04</td>\n",
       "</tr>\n",
       "<tr>\n",
       "  <th>Df Model:</th>              <td>     9</td>      <th>                     </th>     <td> </td>    \n",
       "</tr>\n",
       "<tr>\n",
       "  <th>Covariance Type:</th>      <td>nonrobust</td>    <th>                     </th>     <td> </td>    \n",
       "</tr>\n",
       "</table>\n",
       "<table class=\"simpletable\">\n",
       "<tr>\n",
       "                 <td></td>                    <th>coef</th>     <th>std err</th>      <th>t</th>      <th>P>|t|</th> <th>[95.0% Conf. Int.]</th> \n",
       "</tr>\n",
       "<tr>\n",
       "  <th>Intercept</th>                       <td>    1.4816</td> <td>    0.012</td> <td>  122.903</td> <td> 0.000</td> <td>    1.458     1.505</td>\n",
       "</tr>\n",
       "<tr>\n",
       "  <th>progresa[T.basal]</th>               <td>    0.0250</td> <td>    0.010</td> <td>    2.583</td> <td> 0.010</td> <td>    0.006     0.044</td>\n",
       "</tr>\n",
       "<tr>\n",
       "  <th>poor[T.pobre]</th>                   <td>   -0.0211</td> <td>    0.008</td> <td>   -2.558</td> <td> 0.011</td> <td>   -0.037    -0.005</td>\n",
       "</tr>\n",
       "<tr>\n",
       "  <th>progresa[T.basal]:poor[T.pobre]</th> <td>    0.0094</td> <td>    0.010</td> <td>    0.894</td> <td> 0.371</td> <td>   -0.011     0.030</td>\n",
       "</tr>\n",
       "<tr>\n",
       "  <th>sex</th>                             <td>    0.0306</td> <td>    0.004</td> <td>    8.493</td> <td> 0.000</td> <td>    0.024     0.038</td>\n",
       "</tr>\n",
       "<tr>\n",
       "  <th>dist_sec</th>                        <td>   -0.0105</td> <td>    0.001</td> <td>  -12.741</td> <td> 0.000</td> <td>   -0.012    -0.009</td>\n",
       "</tr>\n",
       "<tr>\n",
       "  <th>min_dist</th>                        <td>    0.0003</td> <td> 5.92e-05</td> <td>    5.736</td> <td> 0.000</td> <td>    0.000     0.000</td>\n",
       "</tr>\n",
       "<tr>\n",
       "  <th>dist_cap</th>                        <td>    0.0003</td> <td> 3.28e-05</td> <td>    9.368</td> <td> 0.000</td> <td>    0.000     0.000</td>\n",
       "</tr>\n",
       "<tr>\n",
       "  <th>hohedu</th>                          <td>    0.0085</td> <td>    0.001</td> <td>   12.210</td> <td> 0.000</td> <td>    0.007     0.010</td>\n",
       "</tr>\n",
       "<tr>\n",
       "  <th>age</th>                             <td>   -0.0661</td> <td>    0.001</td> <td> -103.966</td> <td> 0.000</td> <td>   -0.067    -0.065</td>\n",
       "</tr>\n",
       "</table>\n",
       "<table class=\"simpletable\">\n",
       "<tr>\n",
       "  <th>Omnibus:</th>       <td>3179.660</td> <th>  Durbin-Watson:     </th> <td>   1.732</td>\n",
       "</tr>\n",
       "<tr>\n",
       "  <th>Prob(Omnibus):</th>  <td> 0.000</td>  <th>  Jarque-Bera (JB):  </th> <td>4231.906</td>\n",
       "</tr>\n",
       "<tr>\n",
       "  <th>Skew:</th>           <td>-0.888</td>  <th>  Prob(JB):          </th> <td>    0.00</td>\n",
       "</tr>\n",
       "<tr>\n",
       "  <th>Kurtosis:</th>       <td> 3.111</td>  <th>  Cond. No.          </th> <td>1.92e+03</td>\n",
       "</tr>\n",
       "</table>"
      ],
      "text/plain": [
       "<class 'statsmodels.iolib.summary.Summary'>\n",
       "\"\"\"\n",
       "                            OLS Regression Results                            \n",
       "==============================================================================\n",
       "Dep. Variable:                     sc   R-squared:                       0.274\n",
       "Model:                            OLS   Adj. R-squared:                  0.274\n",
       "Method:                 Least Squares   F-statistic:                     1344.\n",
       "Date:                Mon, 01 May 2017   Prob (F-statistic):               0.00\n",
       "Time:                        23:44:17   Log-Likelihood:                -9237.3\n",
       "No. Observations:               32097   AIC:                         1.849e+04\n",
       "Df Residuals:                   32087   BIC:                         1.858e+04\n",
       "Df Model:                           9                                         \n",
       "Covariance Type:            nonrobust                                         \n",
       "===================================================================================================\n",
       "                                      coef    std err          t      P>|t|      [95.0% Conf. Int.]\n",
       "---------------------------------------------------------------------------------------------------\n",
       "Intercept                           1.4816      0.012    122.903      0.000         1.458     1.505\n",
       "progresa[T.basal]                   0.0250      0.010      2.583      0.010         0.006     0.044\n",
       "poor[T.pobre]                      -0.0211      0.008     -2.558      0.011        -0.037    -0.005\n",
       "progresa[T.basal]:poor[T.pobre]     0.0094      0.010      0.894      0.371        -0.011     0.030\n",
       "sex                                 0.0306      0.004      8.493      0.000         0.024     0.038\n",
       "dist_sec                           -0.0105      0.001    -12.741      0.000        -0.012    -0.009\n",
       "min_dist                            0.0003   5.92e-05      5.736      0.000         0.000     0.000\n",
       "dist_cap                            0.0003   3.28e-05      9.368      0.000         0.000     0.000\n",
       "hohedu                              0.0085      0.001     12.210      0.000         0.007     0.010\n",
       "age                                -0.0661      0.001   -103.966      0.000        -0.067    -0.065\n",
       "==============================================================================\n",
       "Omnibus:                     3179.660   Durbin-Watson:                   1.732\n",
       "Prob(Omnibus):                  0.000   Jarque-Bera (JB):             4231.906\n",
       "Skew:                          -0.888   Prob(JB):                         0.00\n",
       "Kurtosis:                       3.111   Cond. No.                     1.92e+03\n",
       "==============================================================================\n",
       "\n",
       "Warnings:\n",
       "[1] Standard Errors assume that the covariance matrix of the errors is correctly specified.\n",
       "[2] The condition number is large, 1.92e+03. This might indicate that there are\n",
       "strong multicollinearity or other numerical problems.\n",
       "\"\"\""
      ]
     },
     "execution_count": 75,
     "metadata": {},
     "output_type": "execute_result"
    }
   ],
   "source": [
    "#Filtering for year 98\n",
    "progresa_df_98 = progresa_df[progresa_df['year'] == 98]\n",
    "\n",
    "#Regression with progresa, post, progresa*time(interaction) and 5 control variables\n",
    "lm_fit4 = ols(formula = 'sc ~ progresa + poor + progresa*poor + sex + dist_sec  + min_dist + dist_cap + hohedu + age', data=progresa_df_98).fit()\n",
    "\n",
    "#Summary\n",
    "lm_fit4.summary()"
   ]
  },
  {
   "cell_type": "markdown",
   "metadata": {},
   "source": [
    "1. We firstly create a binary variable for poor or non-poor, which is necssary according to difference in difference approach, control variable has to be binary. Then adding a interaction term between progresa and poor, we get below resuls: The interaction between progresa:poor[T.1] is not statistically significant. Other variables like, 'Progresa' have a coefficient of 0.0250 which signifies the impact of households recieving the progresa program benefits (treatment group) would result in the average enrollment rates increasing by 0.0250. 'Poor' coefficient value is -0.0211 which implies that for the poor households would have lower average enrollment rates by 0.0211.\n",
    "\n",
    "2. The counterfactual assumption underlying this regression model is that in the absence of treatment effect, the average enrollment rates across poor and non-poor households remains the same.\n",
    "\n",
    "3. Comparing the treatment effects to above estimates we can see that both are slightly different. The p value for the interaction term is statistically insignificant and the coefficient for control variable \"poor\" in this case is negative. We might be observing above differences because only poor households are expected to be a part of the progresa program and not the non-poor households.\n",
    "\n",
    "4. As discused above some of the differences are statistical insignificance of the interaction term and negative coefficient of poor variable, these differences can be explained through the reasoning that only poor households are expected to be a part of the progresa program and not the non-poor households."
   ]
  },
  {
   "cell_type": "markdown",
   "metadata": {
    "ein.tags": [
     "worksheet-0"
    ],
    "slideshow": {
     "slide_type": "-"
    }
   },
   "source": [
    "### 2.7 Spillover effects (extra credit)\n",
    "\n",
    "Thus far, we have focused on the impact of PROGRESA on poor households. Repeat your analysis in 2.5, using a double-difference regression to estimate the impact of PROGRESA on non-poor households. In other words, compare the difference in enrollments between 1997 and 1998 for non-poor households in treatment villages with the difference in enrollments between 1997 and 1998 for non-poor households in control villages.\n",
    "\n",
    "* A: Describe one or two reasons why PROGRESA might have impacted non-poor households.\n",
    "* B: Do you observe any impacts of PROGRESA on the non-poor?\n",
    "* C: What is the identifying assumption that you are using to estimate the impact of PROGRESA on non-poor households."
   ]
  },
  {
   "cell_type": "code",
   "execution_count": 76,
   "metadata": {
    "collapsed": false
   },
   "outputs": [],
   "source": [
    "#Filtering for non-poor\n",
    "progresa_nonpoor = progresa_df[progresa_df['poor'] == 'no pobre']"
   ]
  },
  {
   "cell_type": "code",
   "execution_count": 77,
   "metadata": {
    "collapsed": false
   },
   "outputs": [
    {
     "data": {
      "text/html": [
       "<table class=\"simpletable\">\n",
       "<caption>OLS Regression Results</caption>\n",
       "<tr>\n",
       "  <th>Dep. Variable:</th>           <td>sc</td>        <th>  R-squared:         </th> <td>   0.292</td>\n",
       "</tr>\n",
       "<tr>\n",
       "  <th>Model:</th>                   <td>OLS</td>       <th>  Adj. R-squared:    </th> <td>   0.291</td>\n",
       "</tr>\n",
       "<tr>\n",
       "  <th>Method:</th>             <td>Least Squares</td>  <th>  F-statistic:       </th> <td>   428.9</td>\n",
       "</tr>\n",
       "<tr>\n",
       "  <th>Date:</th>             <td>Mon, 01 May 2017</td> <th>  Prob (F-statistic):</th>  <td>  0.00</td> \n",
       "</tr>\n",
       "<tr>\n",
       "  <th>Time:</th>                 <td>23:44:17</td>     <th>  Log-Likelihood:    </th> <td> -3659.7</td>\n",
       "</tr>\n",
       "<tr>\n",
       "  <th>No. Observations:</th>      <td> 10423</td>      <th>  AIC:               </th> <td>   7341.</td>\n",
       "</tr>\n",
       "<tr>\n",
       "  <th>Df Residuals:</th>          <td> 10412</td>      <th>  BIC:               </th> <td>   7421.</td>\n",
       "</tr>\n",
       "<tr>\n",
       "  <th>Df Model:</th>              <td>    10</td>      <th>                     </th>     <td> </td>   \n",
       "</tr>\n",
       "<tr>\n",
       "  <th>Covariance Type:</th>      <td>nonrobust</td>    <th>                     </th>     <td> </td>   \n",
       "</tr>\n",
       "</table>\n",
       "<table class=\"simpletable\">\n",
       "<tr>\n",
       "             <td></td>               <th>coef</th>     <th>std err</th>      <th>t</th>      <th>P>|t|</th> <th>[95.0% Conf. Int.]</th> \n",
       "</tr>\n",
       "<tr>\n",
       "  <th>Intercept</th>              <td>   -2.2790</td> <td>    1.047</td> <td>   -2.176</td> <td> 0.030</td> <td>   -4.332    -0.226</td>\n",
       "</tr>\n",
       "<tr>\n",
       "  <th>progresa[T.basal]</th>      <td>    0.2860</td> <td>    1.349</td> <td>    0.212</td> <td> 0.832</td> <td>   -2.358     2.930</td>\n",
       "</tr>\n",
       "<tr>\n",
       "  <th>year</th>                   <td>    0.0387</td> <td>    0.011</td> <td>    3.600</td> <td> 0.000</td> <td>    0.018     0.060</td>\n",
       "</tr>\n",
       "<tr>\n",
       "  <th>progresa[T.basal]:year</th> <td>   -0.0027</td> <td>    0.014</td> <td>   -0.194</td> <td> 0.846</td> <td>   -0.030     0.024</td>\n",
       "</tr>\n",
       "<tr>\n",
       "  <th>sex</th>                    <td>    0.0310</td> <td>    0.007</td> <td>    4.595</td> <td> 0.000</td> <td>    0.018     0.044</td>\n",
       "</tr>\n",
       "<tr>\n",
       "  <th>dist_sec</th>               <td>   -0.0154</td> <td>    0.002</td> <td>   -8.730</td> <td> 0.000</td> <td>   -0.019    -0.012</td>\n",
       "</tr>\n",
       "<tr>\n",
       "  <th>min_dist</th>               <td>-7.307e-05</td> <td>    0.000</td> <td>   -0.632</td> <td> 0.527</td> <td>   -0.000     0.000</td>\n",
       "</tr>\n",
       "<tr>\n",
       "  <th>dist_cap</th>               <td>    0.0006</td> <td> 7.47e-05</td> <td>    8.638</td> <td> 0.000</td> <td>    0.000     0.001</td>\n",
       "</tr>\n",
       "<tr>\n",
       "  <th>hohedu</th>                 <td>    0.0091</td> <td>    0.001</td> <td>    7.645</td> <td> 0.000</td> <td>    0.007     0.011</td>\n",
       "</tr>\n",
       "<tr>\n",
       "  <th>age</th>                    <td>   -0.0685</td> <td>    0.001</td> <td>  -60.095</td> <td> 0.000</td> <td>   -0.071    -0.066</td>\n",
       "</tr>\n",
       "<tr>\n",
       "  <th>hohage</th>                 <td> 6.824e-05</td> <td>    0.000</td> <td>    0.203</td> <td> 0.839</td> <td>   -0.001     0.001</td>\n",
       "</tr>\n",
       "</table>\n",
       "<table class=\"simpletable\">\n",
       "<tr>\n",
       "  <th>Omnibus:</th>       <td>845.143</td> <th>  Durbin-Watson:     </th> <td>   1.504</td> \n",
       "</tr>\n",
       "<tr>\n",
       "  <th>Prob(Omnibus):</th> <td> 0.000</td>  <th>  Jarque-Bera (JB):  </th> <td> 802.020</td> \n",
       "</tr>\n",
       "<tr>\n",
       "  <th>Skew:</th>          <td>-0.618</td>  <th>  Prob(JB):          </th> <td>6.98e-175</td>\n",
       "</tr>\n",
       "<tr>\n",
       "  <th>Kurtosis:</th>      <td> 2.437</td>  <th>  Cond. No.          </th> <td>9.88e+04</td> \n",
       "</tr>\n",
       "</table>"
      ],
      "text/plain": [
       "<class 'statsmodels.iolib.summary.Summary'>\n",
       "\"\"\"\n",
       "                            OLS Regression Results                            \n",
       "==============================================================================\n",
       "Dep. Variable:                     sc   R-squared:                       0.292\n",
       "Model:                            OLS   Adj. R-squared:                  0.291\n",
       "Method:                 Least Squares   F-statistic:                     428.9\n",
       "Date:                Mon, 01 May 2017   Prob (F-statistic):               0.00\n",
       "Time:                        23:44:17   Log-Likelihood:                -3659.7\n",
       "No. Observations:               10423   AIC:                             7341.\n",
       "Df Residuals:                   10412   BIC:                             7421.\n",
       "Df Model:                          10                                         \n",
       "Covariance Type:            nonrobust                                         \n",
       "==========================================================================================\n",
       "                             coef    std err          t      P>|t|      [95.0% Conf. Int.]\n",
       "------------------------------------------------------------------------------------------\n",
       "Intercept                 -2.2790      1.047     -2.176      0.030        -4.332    -0.226\n",
       "progresa[T.basal]          0.2860      1.349      0.212      0.832        -2.358     2.930\n",
       "year                       0.0387      0.011      3.600      0.000         0.018     0.060\n",
       "progresa[T.basal]:year    -0.0027      0.014     -0.194      0.846        -0.030     0.024\n",
       "sex                        0.0310      0.007      4.595      0.000         0.018     0.044\n",
       "dist_sec                  -0.0154      0.002     -8.730      0.000        -0.019    -0.012\n",
       "min_dist               -7.307e-05      0.000     -0.632      0.527        -0.000     0.000\n",
       "dist_cap                   0.0006   7.47e-05      8.638      0.000         0.000     0.001\n",
       "hohedu                     0.0091      0.001      7.645      0.000         0.007     0.011\n",
       "age                       -0.0685      0.001    -60.095      0.000        -0.071    -0.066\n",
       "hohage                  6.824e-05      0.000      0.203      0.839        -0.001     0.001\n",
       "==============================================================================\n",
       "Omnibus:                      845.143   Durbin-Watson:                   1.504\n",
       "Prob(Omnibus):                  0.000   Jarque-Bera (JB):              802.020\n",
       "Skew:                          -0.618   Prob(JB):                    6.98e-175\n",
       "Kurtosis:                       2.437   Cond. No.                     9.88e+04\n",
       "==============================================================================\n",
       "\n",
       "Warnings:\n",
       "[1] Standard Errors assume that the covariance matrix of the errors is correctly specified.\n",
       "[2] The condition number is large, 9.88e+04. This might indicate that there are\n",
       "strong multicollinearity or other numerical problems.\n",
       "\"\"\""
      ]
     },
     "execution_count": 77,
     "metadata": {},
     "output_type": "execute_result"
    }
   ],
   "source": [
    "##Fitting a model\n",
    "lm_fit5 = ols(formula = 'sc ~ progresa + year + progresa*year + sex + dist_sec  + min_dist + dist_cap + hohedu + age + hohage', data=progresa_nonpoor).fit()\n",
    "#Summary of the model\n",
    "lm_fit5.summary()"
   ]
  },
  {
   "cell_type": "markdown",
   "metadata": {
    "ein.tags": [
     "worksheet-0"
    ],
    "slideshow": {
     "slide_type": "-"
    }
   },
   "source": [
    "### 2.8 Summary\n",
    "\n",
    "Based on all the analysis you have undertaken to date, do you thik that Progresa had a causal impact on the enrollment rates of poor households in Mexico?"
   ]
  },
  {
   "cell_type": "markdown",
   "metadata": {
    "autoscroll": "json-false",
    "collapsed": false,
    "ein.tags": [
     "worksheet-0"
    ],
    "slideshow": {
     "slide_type": "-"
    }
   },
   "source": [
    "A: As PROGRESA was initiated to enroll more poor kids into education, I can think of only corruptive practices which might have led to non-poor kids to be benefited. If not for corruuptive practices, I think Progresa might have impacted non-poor households by inducing a thinking of since many children are studying, we should also send our kids.\n",
    "\n",
    "\n",
    "B: Yes, there is an average increase in enrollment of 0.0387, which is considerable impact.\n",
    "\n",
    "\n",
    "C: The assumption being used here is that, without progresa this kind of impact couldnt have been seen from anyother factor."
   ]
  }
 ],
 "metadata": {
  "kernelspec": {
   "display_name": "Python 2",
   "language": "python",
   "name": "python2"
  },
  "language_info": {
   "codemirror_mode": {
    "name": "ipython",
    "version": 2
   },
   "file_extension": ".py",
   "mimetype": "text/x-python",
   "name": "python",
   "nbconvert_exporter": "python",
   "pygments_lexer": "ipython2",
   "version": "2.7.12"
  },
  "name": "ps2.ipynb"
 },
 "nbformat": 4,
 "nbformat_minor": 2
}
