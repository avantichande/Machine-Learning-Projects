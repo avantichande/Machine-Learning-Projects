{
 "cells": [
  {
   "cell_type": "markdown",
   "metadata": {
    "ein.tags": [
     "worksheet-0"
    ],
    "slideshow": {
     "slide_type": "-"
    }
   },
   "source": [
    "# Problem Set 3, due May 9th at 3:30pm.\n",
    "\n",
    "### Before You Start\n",
    "\n",
    "Make sure the following libraries load correctly (hit Ctrl-Enter). Note that while you are loading several powerful libraries, including machine learning libraries, the goal of this problem set is to implement several algorithms from scratch. In particular, you should *not* be using any built-in libraries for nearest neighbors, distance metrics, or cross-validation -- your mission is to write those algorithms in Python!\n",
    "\n",
    "*Also note:* For this assignment we are requiring you to use base **matplotlib** - no more Seaborn or other packages. This will help you become familiar with techniques for maintaining fine-grained control over your data visualizations. It will also help our graders, who spent countless hours trying to make various versions import for grading."
   ]
  },
  {
   "cell_type": "code",
   "execution_count": 1,
   "metadata": {
    "autoscroll": "json-false",
    "collapsed": true,
    "ein.tags": [
     "worksheet-0"
    ],
    "slideshow": {
     "slide_type": "-"
    }
   },
   "outputs": [],
   "source": [
    "import IPython\n",
    "import numpy as np\n",
    "import scipy as sp\n",
    "import pandas as pd\n",
    "import matplotlib.pyplot as plt\n",
    "import sklearn"
   ]
  },
  {
   "cell_type": "code",
   "execution_count": 2,
   "metadata": {
    "collapsed": true
   },
   "outputs": [],
   "source": [
    "import math"
   ]
  },
  {
   "cell_type": "code",
   "execution_count": 3,
   "metadata": {
    "collapsed": true
   },
   "outputs": [],
   "source": [
    "plt.rcParams[\"axes.labelsize\"] = 12"
   ]
  },
  {
   "cell_type": "markdown",
   "metadata": {
    "ein.tags": [
     "worksheet-0"
    ],
    "slideshow": {
     "slide_type": "-"
    }
   },
   "source": [
    "---\n",
    "\n",
    "## Introduction to the assignment\n",
    "\n",
    "For this assignment, you will be using the [Boston Housing Prices Data Set](http://archive.ics.uci.edu/ml/datasets/Housing).  Please read about the dataset carefully before continuing.  Use the following commands to load the dataset and print some descriptive information\n"
   ]
  },
  {
   "cell_type": "code",
   "execution_count": 4,
   "metadata": {
    "autoscroll": "json-false",
    "collapsed": true,
    "ein.tags": [
     "worksheet-0"
    ],
    "slideshow": {
     "slide_type": "-"
    }
   },
   "outputs": [],
   "source": [
    "from sklearn.datasets import load_boston\n",
    "bdata = load_boston()"
   ]
  },
  {
   "cell_type": "markdown",
   "metadata": {
    "ein.tags": [
     "worksheet-0"
    ],
    "slideshow": {
     "slide_type": "-"
    }
   },
   "source": [
    "The following commands will provide some basic information about the shape of the data:"
   ]
  },
  {
   "cell_type": "code",
   "execution_count": 5,
   "metadata": {
    "autoscroll": "json-false",
    "ein.tags": [
     "worksheet-0"
    ],
    "slideshow": {
     "slide_type": "-"
    }
   },
   "outputs": [
    {
     "name": "stdout",
     "output_type": "stream",
     "text": [
      "['data', 'feature_names', 'DESCR', 'target']\n",
      "['CRIM' 'ZN' 'INDUS' 'CHAS' 'NOX' 'RM' 'AGE' 'DIS' 'RAD' 'TAX' 'PTRATIO'\n",
      " 'B' 'LSTAT']\n",
      "(506L, 13L)\n",
      "(506L,)\n"
     ]
    }
   ],
   "source": [
    "print bdata.keys()\n",
    "print bdata.feature_names\n",
    "print bdata.data.shape\n",
    "print bdata.target.shape\n",
    "# uncomment the following if you want to see a lengthy description of the dataset\n",
    "# print bdata.DESCR"
   ]
  },
  {
   "cell_type": "markdown",
   "metadata": {
    "ein.tags": [
     "worksheet-0"
    ],
    "slideshow": {
     "slide_type": "-"
    }
   },
   "source": [
    "---\n",
    "\n",
    "## Part 1: Descriptive analysis\n",
    "\n",
    "The goal of this section is to explore the data and make a few nice\n",
    "visualizations -- before beginning the \"real\" work, we should dig into\n",
    "the data a bit do see what we are dealing with.  If you're new to data visualization, [this guide](http://pubs.aeaweb.org/doi/pdfplus/10.1257/jep.28.1.209) is a good place to start.\n",
    "  \n",
    "\n",
    "### 1.1: Histogram of housing prices\n",
    "\n",
    "Your first task is to make a histogram of 'MEDV' (the median hose\n",
    "                                                  value, your target\n",
    "                                                  variable), and make this graph look pretty by doing the following:\n",
    "\n",
    "1. Add appropriate labels to the x and y axes, make sure to include units\n",
    "2. Change the bin width on the histogram to be $1000\n",
    "3. Remove the axes on the top and right side of the plot window\n",
    "4. Change the color of the bars to be green, and remove the black borders from the bars\n"
   ]
  },
  {
   "cell_type": "code",
   "execution_count": 6,
   "metadata": {
    "collapsed": true
   },
   "outputs": [],
   "source": [
    "%matplotlib inline"
   ]
  },
  {
   "cell_type": "code",
   "execution_count": 7,
   "metadata": {},
   "outputs": [
    {
     "data": {
      "text/plain": [
       "<matplotlib.text.Text at 0xb17b240>"
      ]
     },
     "execution_count": 7,
     "metadata": {},
     "output_type": "execute_result"
    },
    {
     "data": {
      "image/png": "[encoded data removed]",
      "text/plain": [
       "<matplotlib.figure.Figure at 0xb13bb70>"
      ]
     },
     "metadata": {},
     "output_type": "display_data"
    }
   ],
   "source": [
    "#Plot with $1000 bin width\n",
    "fig,ax= plt.subplots(nrows=1)\n",
    "ax.hist(bdata.target, bins=45, color='green')\n",
    "fig.set_size_inches(15,5)\n",
    "# Hide the right and top spines\n",
    "ax.spines['right'].set_visible(False)\n",
    "ax.spines['top'].set_visible(False)\n",
    "\n",
    "#Lables\n",
    "ax.set_title('Histogram - Median House Prices')\n",
    "ax.set_xlabel('Median House Values (in thousands)')\n",
    "ax.set_ylabel('Count/Frequency')"
   ]
  },
  {
   "cell_type": "markdown",
   "metadata": {
    "ein.tags": [
     "worksheet-0"
    ],
    "slideshow": {
     "slide_type": "-"
    }
   },
   "source": [
    "### 1.2: Scatter plot of housing prices and crime\n",
    "\n",
    "Use matplotlib to create a scatter plot that shows the relationship\n",
    "between the median value of the home (y-axis) and the per-capita crime\n",
    "rate (x-axis).  Properly label your axes, and make sure that your\n",
    "graphic looks polished and professional.  \n"
   ]
  },
  {
   "cell_type": "code",
   "execution_count": 8,
   "metadata": {
    "autoscroll": "json-false",
    "ein.tags": [
     "worksheet-0"
    ],
    "slideshow": {
     "slide_type": "-"
    }
   },
   "outputs": [
    {
     "data": {
      "text/plain": [
       "<matplotlib.text.Text at 0xb5046d8>"
      ]
     },
     "execution_count": 8,
     "metadata": {},
     "output_type": "execute_result"
    },
    {
     "data": {
      "image/png": "[encoded data removed]",
      "text/plain": [
       "<matplotlib.figure.Figure at 0xb2d8668>"
      ]
     },
     "metadata": {},
     "output_type": "display_data"
    }
   ],
   "source": [
    "#Plot\n",
    "fig,ax= plt.subplots(nrows=1)\n",
    "fig.set_size_inches(15,5)\n",
    "ax.scatter(bdata.data[:,0],bdata.target, color='red')\n",
    "\n",
    "# Hide the right and top spines\n",
    "ax.spines['right'].set_visible(False)\n",
    "ax.spines['top'].set_visible(False)\n",
    "\n",
    "#Lables\n",
    "ax.set_title('Scatter Plot - Median Values of Homes vs. Per Capita Crime Rates')\n",
    "ax.set_xlabel('Per Capita Crime Rates ')\n",
    "ax.set_ylabel('Median Values of Homes')"
   ]
  },
  {
   "cell_type": "markdown",
   "metadata": {
    "ein.tags": [
     "worksheet-0"
    ],
    "slideshow": {
     "slide_type": "-"
    }
   },
   "source": [
    "### 1.3 Create your own (creative and effective) visualization\n",
    "\n",
    "Use another type of graph or chart to illustrate an interesting pattern in the data.  Be creative in your visualization, and make sure to produce a \"publication-quality\" graph.  Points will be given for useful and creative graphs; points will be deducted for confusing issues like unlabeled axes.  "
   ]
  },
  {
   "cell_type": "code",
   "execution_count": 9,
   "metadata": {
    "autoscroll": "json-false",
    "ein.tags": [
     "worksheet-0"
    ],
    "slideshow": {
     "slide_type": "-"
    }
   },
   "outputs": [
    {
     "data": {
      "text/plain": [
       "<matplotlib.text.Text at 0xb676d68>"
      ]
     },
     "execution_count": 9,
     "metadata": {},
     "output_type": "execute_result"
    },
    {
     "data": {
      "image/png": "[encoded data removed]",
      "text/plain": [
       "<matplotlib.figure.Figure at 0xb69b438>"
      ]
     },
     "metadata": {},
     "output_type": "display_data"
    }
   ],
   "source": [
    "#Plot\n",
    "fig,ax= plt.subplots(nrows=1)\n",
    "fig.set_size_inches(15,5)\n",
    "ax.scatter(bdata.data[:,5],bdata.target, color='orange')\n",
    "\n",
    "# Hide the right and top spines\n",
    "ax.spines['right'].set_visible(False)\n",
    "ax.spines['top'].set_visible(False)\n",
    "\n",
    "#Lables\n",
    "ax.set_title('Scatter Plot - Median Values of Homes vs. Number of Rooms')\n",
    "ax.set_xlabel('Number of Rooms')\n",
    "ax.set_ylabel('Median Values of Homes')"
   ]
  },
  {
   "cell_type": "markdown",
   "metadata": {
    "ein.tags": [
     "worksheet-0"
    ],
    "slideshow": {
     "slide_type": "-"
    }
   },
   "source": [
    "---\n",
    "\n",
    "## Part 2: Experimental Setup\n",
    "\n",
    "The goal of the next few sections is to design an experiment to predict the median home value for an instance in the data.\n",
    "\n",
    "### 2.1 Begin by writing a function to compute the Root Mean Squared Error for a list of numbers\n",
    "\n",
    "You can find the sqrt function in the Numpy package. \n",
    "Details of RMSE can be found in Hastie, Tibishrani, Friedman _The\n",
    "Elements of Statistical Learning_, Ch 2.5.  (Available on the web)\n",
    "\n"
   ]
  },
  {
   "cell_type": "code",
   "execution_count": 10,
   "metadata": {
    "autoscroll": "json-false",
    "collapsed": true,
    "ein.tags": [
     "worksheet-0"
    ],
    "slideshow": {
     "slide_type": "-"
    }
   },
   "outputs": [],
   "source": [
    "\"\"\"\n",
    "Function\n",
    "--------\n",
    "compute_rmse\n",
    "\n",
    "Given two arrays, one of actual values and one of predicted values,\n",
    "compute the Roote Mean Squared Error\n",
    "\n",
    "Parameters\n",
    "----------\n",
    "predictions : array\n",
    "    Array of numerical values corresponding to predictions for each of the N observations\n",
    "\n",
    "yvalues : array\n",
    "    Array of numerical values corresponding to the actual values for each of the N observations\n",
    "\n",
    "Returns\n",
    "-------\n",
    "rmse : int\n",
    "    Root Mean Squared Error of the prediction\n",
    "\n",
    "Example\n",
    "-------\n",
    ">>> print compute_rmse((2,2,3),(0,2,6)\n",
    "2.08\n",
    "\"\"\"\n",
    "\n",
    "def compute_rmse(predictions,y_values):\n",
    "    sq_error = (predictions - y_values)**2\n",
    "    sum_sq_error = sq_error.sum()\n",
    "    rmse = math.sqrt(sum_sq_error/float(len(predictions)))\n",
    "    return rmse"
   ]
  },
  {
   "cell_type": "markdown",
   "metadata": {
    "ein.tags": [
     "worksheet-0"
    ],
    "slideshow": {
     "slide_type": "-"
    }
   },
   "source": [
    "### 2.2 Divide your data into training and testing datasets\n",
    "\n",
    "\n",
    "Randomly select 66% of the data and put this in a training dataset\n",
    "(call this \"bdata_train\"), and place the remaining 34% in a testing\n",
    "dataset (call this \"bdata_test\").  Please us 'np.random' for random numbers.\n"
   ]
  },
  {
   "cell_type": "code",
   "execution_count": 11,
   "metadata": {
    "autoscroll": "json-false",
    "collapsed": true,
    "ein.tags": [
     "worksheet-0"
    ],
    "slideshow": {
     "slide_type": "-"
    }
   },
   "outputs": [],
   "source": [
    "#Adding the target column into the boston data\n",
    "bdata_with_target= np.insert(bdata.data, bdata.data.shape[1],bdata.target, axis = 1)\n",
    "\n",
    "#Setting the seed and randomly shuffling the data\n",
    "np.random.seed(seed=13579)\n",
    "random_bdata = np.random.shuffle(bdata_with_target)\n",
    "\n",
    "\n",
    "#Slicing 66% of the random data for training set and 34% for test set.\n",
    "train_row_num = int(math.ceil(0.66*len(bdata_with_target)))\n",
    "\n",
    "\n",
    "#Splitting the data\n",
    "bdata_train = bdata_with_target[0:train_row_num,:]\n",
    "bdata_test = bdata_with_target[train_row_num:len(bdata_with_target),:]"
   ]
  },
  {
   "cell_type": "markdown",
   "metadata": {
    "ein.tags": [
     "worksheet-0"
    ],
    "slideshow": {
     "slide_type": "-"
    }
   },
   "source": [
    "### 2.3 Use a trivial baseline model for prediction, and compute RMSE\n",
    "Create a model that predicts, for every observation x_i, that the median home value is the average (mean) of the median values for all instances in the training set.  Compute the RMSE on the training set.  Now compute the RMSE on the test data set (but use the model you trained on the training set!).  How does RMSE compare for training vs. testing datasets? Is this what you expected, and why?"
   ]
  },
  {
   "cell_type": "code",
   "execution_count": 12,
   "metadata": {
    "autoscroll": "json-false",
    "ein.tags": [
     "worksheet-0"
    ],
    "slideshow": {
     "slide_type": "-"
    }
   },
   "outputs": [
    {
     "data": {
      "text/html": [
       "<div>\n",
       "<table border=\"1\" class=\"dataframe\">\n",
       "  <thead>\n",
       "    <tr style=\"text-align: right;\">\n",
       "      <th></th>\n",
       "      <th>pred_test</th>\n",
       "      <th>pred_training</th>\n",
       "      <th>rmse_test</th>\n",
       "      <th>rmse_training</th>\n",
       "    </tr>\n",
       "  </thead>\n",
       "  <tbody>\n",
       "    <tr>\n",
       "      <th>0</th>\n",
       "      <td>22.045808</td>\n",
       "      <td>22.045808</td>\n",
       "      <td>10.309262</td>\n",
       "      <td>8.574434</td>\n",
       "    </tr>\n",
       "  </tbody>\n",
       "</table>\n",
       "</div>"
      ],
      "text/plain": [
       "   pred_test  pred_training  rmse_test  rmse_training\n",
       "0  22.045808      22.045808  10.309262       8.574434"
      ]
     },
     "execution_count": 12,
     "metadata": {},
     "output_type": "execute_result"
    }
   ],
   "source": [
    "#Creating a function to compute RMSEs on the baseline prediction model\n",
    "\n",
    "#Predicted values for training will be the mean of the training_Set's target\n",
    "pred_training = bdata_train[:,13].mean()\n",
    "    \n",
    "#Using the training model for predicting values for test data too\n",
    "pred_test = bdata_train[:,13].mean()\n",
    "    \n",
    "#Calculate RMSE on both training and test sets\n",
    "rmse_training = compute_rmse(bdata_train[:,13], pred_training)\n",
    "rmse_test = compute_rmse(bdata_test[:,13], pred_test)\n",
    "\n",
    "#Store the Results in a Dataframe\n",
    "results_df = pd.DataFrame([{\"pred_training\":pred_training, \n",
    "                            'pred_test':pred_test,\n",
    "                            'rmse_test': rmse_test,\n",
    "                            'rmse_training': rmse_training,}])\n",
    "results_df"
   ]
  },
  {
   "cell_type": "markdown",
   "metadata": {},
   "source": [
    "As we can see from the above results, the rmse for test set is more than the training set. This is definitely as expected, as we used the training mean as our prediction model. The rmse is therefore naturally more for a different dataset. "
   ]
  },
  {
   "cell_type": "markdown",
   "metadata": {
    "ein.tags": [
     "worksheet-0"
    ],
    "slideshow": {
     "slide_type": "-"
    }
   },
   "source": [
    "\n"
   ]
  },
  {
   "cell_type": "markdown",
   "metadata": {
    "ein.tags": [
     "worksheet-0"
    ],
    "slideshow": {
     "slide_type": "-"
    }
   },
   "source": [
    "##Part 3: Nearest Neighbors\n"
   ]
  },
  {
   "cell_type": "markdown",
   "metadata": {
    "ein.tags": [
     "worksheet-0"
    ],
    "slideshow": {
     "slide_type": "-"
    }
   },
   "source": [
    "### 3.1 Nearest Neighbors: Distance function\n",
    "Let's try and build a machine learning algorithm to beat the \"Average\n",
    "Value\" baseline that you computed above.  Soon you will implement the\n",
    "Nearest Neighbor algorithm, but first you need to create a distance\n",
    "metric to measure the distance (and similarity) between two instances.\n",
    "Write a generic function to compute the Lp-Norm distance. Verify that\n",
    "your function works by computing the L-2 (Euclidean) distance and L-1 (Manhattan) distance between the points (3,4) and (6,8), and between (6,8) and (3,4).  Ensure that your distance is correct and positive in both cases!\n"
   ]
  },
  {
   "cell_type": "code",
   "execution_count": 13,
   "metadata": {
    "collapsed": true
   },
   "outputs": [],
   "source": [
    "def distance(x,y,l):\n",
    "    #Converting Distance to numpy arrays\n",
    "    x = np.asarray(x)\n",
    "    y = np.asarray(y)\n",
    "    \n",
    "    #Computing Euclidean Distance\n",
    "    if(l==1):\n",
    "        dist = (x-y)**2\n",
    "        sum_sq = np.sum(dist, axis=1)\n",
    "        return np.asarray(np.sqrt(sum_sq))\n",
    "    elif(l==2):\n",
    "        dist = np.absolute(x-y)\n",
    "        sum_sq = np.sum(dist, axis=1)\n",
    "        return np.asarray(np.sqrt(sum_sq))\n",
    "    else:\n",
    "        return \"l should be either 1 or 2\""
   ]
  },
  {
   "cell_type": "markdown",
   "metadata": {
    "ein.tags": [
     "worksheet-0"
    ],
    "slideshow": {
     "slide_type": "-"
    }
   },
   "source": [
    "### 3.2 Basic Nearest Neighbor algorithm\n",
    "\n",
    "Now things get fun.  Your task is to implement a basic nearest neighbor algorithm from scratch.  Your simple model will use two input features (CRIM and RM) and a single output (MEDV).  In other words, you are modelling the relationship between median home value and crime rates and house size.\n",
    "\n",
    "Use your training data (bdata_train) to \"fit\" your model, although as\n",
    "you know, with Nearest Neighbors there is no real training, you just\n",
    "need to keep your training data in memory.  Write a function that\n",
    "predicts, for each instance in the testing data (bdata_test), the\n",
    "median home value using the nearest neighbor algorithm we discussed in\n",
    "class.  Since this is a small dataset, you can simply compare your\n",
    "test instance to every instance in the training set, and return the\n",
    "MEDV value of the closest training instance.  You can just loop over\n",
    "the instances to find the nearest neighbor.  Have your function take L as an input, where L is passed to the distance function.\n",
    "\n",
    "Compute the RMSE for the Nearest Neighbor predictions on the test set, using the Euclidean distance.  Report an estimate of the total time taken by your code to predict the nearest neighbors for all the values in the test data set.\n",
    "\n",
    "Plot the true vs predicted price for your test data\n"
   ]
  },
  {
   "cell_type": "code",
   "execution_count": 14,
   "metadata": {
    "autoscroll": "json-false",
    "collapsed": true,
    "ein.tags": [
     "worksheet-0"
    ],
    "slideshow": {
     "slide_type": "-"
    }
   },
   "outputs": [],
   "source": [
    "\"\"\"\n",
    "# Function : knn_basic\n",
    "Input: \n",
    "test: Test Dataset, \n",
    "train: Training Dataset,\n",
    "feature_indices: Feature_Indices in the dataset, \n",
    "target_index: target_index in the dataset, \n",
    "L: 1 or 2 for Euclidean or Manahattan Distance\n",
    "----------------------------------------------\n",
    "Output: A tuple of Predictions and RMSE\n",
    "Predictions: A numpy array of predicted values\n",
    "RMSE: RMSE of the basic knn model\n",
    "\"\"\"\n",
    "import time\n",
    "def knn_basic(test, train,feature_indices,target_index, L,k):\n",
    "    start_time = time.time()\n",
    "    #Empty lists\n",
    "    eucd_dist=[]\n",
    "    min_dist_idx = []\n",
    "    predictions =[]\n",
    "    \n",
    "    for i in range(len(test)):     \n",
    "        #Euclidean distance between test instance and all training_samples\n",
    "        eucd_dist.append(distance(train[:,feature_indices],test[i,feature_indices],L))\n",
    "        #Find out the index of the minimum distance\n",
    "        min_dist_idx.append(np.argmin(np.asarray(eucd_dist[i])))\n",
    "        #Prediction\n",
    "        predictions.append(train[min_dist_idx[i],target_index])\n",
    "        \n",
    "    #Calculate RMSE\n",
    "    rmse = compute_rmse(predictions,test[:,target_index])\n",
    "    \n",
    "    print 'Time Taken is : ' + str(time.time() - start_time)\n",
    "        \n",
    "    return (predictions, rmse)"
   ]
  },
  {
   "cell_type": "code",
   "execution_count": 15,
   "metadata": {},
   "outputs": [
    {
     "name": "stdout",
     "output_type": "stream",
     "text": [
      "Time Taken is : 0.0189998149872\n"
     ]
    }
   ],
   "source": [
    "#Calling the Basic KNN function for RMSE\n",
    "rmse = knn_basic(bdata_test, bdata_train, [0,5],[13],1,1)[1]"
   ]
  },
  {
   "cell_type": "code",
   "execution_count": 16,
   "metadata": {},
   "outputs": [
    {
     "data": {
      "text/plain": [
       "7.401720415976212"
      ]
     },
     "execution_count": 16,
     "metadata": {},
     "output_type": "execute_result"
    }
   ],
   "source": [
    "rmse"
   ]
  },
  {
   "cell_type": "code",
   "execution_count": 17,
   "metadata": {},
   "outputs": [
    {
     "name": "stdout",
     "output_type": "stream",
     "text": [
      "Time Taken is : 0.0189998149872\n"
     ]
    },
    {
     "data": {
      "text/plain": [
       "<matplotlib.text.Text at 0xb842860>"
      ]
     },
     "execution_count": 17,
     "metadata": {},
     "output_type": "execute_result"
    },
    {
     "data": {
      "image/png": "[encoded data removed]",
      "text/plain": [
       "<matplotlib.figure.Figure at 0xb6c0978>"
      ]
     },
     "metadata": {},
     "output_type": "display_data"
    }
   ],
   "source": [
    "#Plotting the true vs. predicted values for Basic KNN\n",
    "predicted_values = knn_basic(bdata_test, bdata_train, [0,5],[13],1,1)[0]\n",
    "\n",
    "fig,ax= plt.subplots(nrows=1)\n",
    "fig.set_size_inches(15,5)\n",
    "\n",
    "ax.scatter(bdata_test[:,13],predicted_values, color='seagreen')\n",
    "\n",
    "# Hide the right and top spines\n",
    "ax.spines['right'].set_visible(False)\n",
    "ax.spines['top'].set_visible(False)\n",
    "\n",
    "#Lables\n",
    "ax.set_title('Basic KNN - True Values vs. Predicted Values')\n",
    "ax.set_xlabel('True Values')\n",
    "ax.set_ylabel('Predicted Values')"
   ]
  },
  {
   "cell_type": "markdown",
   "metadata": {
    "ein.tags": [
     "worksheet-0"
    ],
    "slideshow": {
     "slide_type": "-"
    }
   },
   "source": [
    "### 3.3 Results and Normalization\n",
    "\n",
    "If you were being astute, you would have noticed that we never normalized our features -- a big no-no with Nearest Neighbor algorithms.  Normalization is similar to Mahalanobis disctance (if the features are independent).  Read more in Daume (2017), _A Course in Machine Learning_ Chapter 4.3.  Write a simple generic normalization function that takes as input an array of values for a given feature, and returns the normalized array.  Do it well, you will need it in the future as well ;-)\n",
    "\n",
    "Re-run the Nearest Neighbor algorithm on the normalized dataset (still just using CRIM and RM as input), and compare the RMSE from this method with your previous RMSE evaluations.\n",
    "\n",
    "*NOTE*: To normalize properly, best practice is to compute the mean and standard deviation on the training set, and use these values to normalize the testing dataset. However, for this problem set, it is okay if you separately normalize each dataset using the respective mean and standard deviation."
   ]
  },
  {
   "cell_type": "code",
   "execution_count": 18,
   "metadata": {
    "autoscroll": "json-false",
    "collapsed": true,
    "ein.tags": [
     "worksheet-0"
    ],
    "slideshow": {
     "slide_type": "-"
    }
   },
   "outputs": [],
   "source": [
    "\"\"\"\n",
    "# Function : normalize\n",
    "Input: \n",
    "data - any dataset,\n",
    "feature_indices: Feature_Indices in the dataset, \n",
    "target_index: target_index in the dataset, \n",
    "L: 1 or 2 for Euclidean or Manahattan Distance\n",
    "----------------------------------------------\n",
    "Output: Normalized Data - Subtracted with mean and divided by Standard Deviation\n",
    "\n",
    "\"\"\"\n",
    "def normalize(data, feature_indices,target_index):\n",
    "    \n",
    "    #Empty Lists\n",
    "    mean_data = []\n",
    "    std_data = []\n",
    "\n",
    "    #Find the mean and std_deviation of our data features\n",
    "    for feature in feature_indices:\n",
    "        mean_data.append(np.mean(data[:,feature]))\n",
    "        std_data.append(np.std(data[:,feature]))\n",
    "    \n",
    "    #Normalize\n",
    "    normalized_data = np.asarray((data[:,feature_indices]- mean_data)/std_data)\n",
    "    target = np.vstack(np.asarray(data[:,target_index]))\n",
    "    \n",
    "    #Stacking the normalized features and target together\n",
    "    normal_data = np.hstack((normalized_data,target))\n",
    "    \n",
    "    return (normal_data)\n"
   ]
  },
  {
   "cell_type": "code",
   "execution_count": 19,
   "metadata": {},
   "outputs": [
    {
     "name": "stdout",
     "output_type": "stream",
     "text": [
      "Time Taken is : 0.0120000839233\n"
     ]
    },
    {
     "data": {
      "text/plain": [
       "7.008031107236897"
      ]
     },
     "execution_count": 19,
     "metadata": {},
     "output_type": "execute_result"
    }
   ],
   "source": [
    "#Normalizing features CRIM and RM for training set\n",
    "normal_train = normalize(bdata_train,[0,5],13)\n",
    "\n",
    "#Normalizing features CRIM and RM for test set\n",
    "normal_test = normalize(bdata_test,[0,5],13)\n",
    "\n",
    "#Computing RMSE for the normalized data based on Euclidean distance\n",
    "knn_basic(normal_test, normal_train, [0,1],[2],2,1)[1]"
   ]
  },
  {
   "cell_type": "markdown",
   "metadata": {},
   "source": [
    "As we can see, the RMSE we obtain after normalizing the features is lower than we get without normalizing. Also, the calculation is much faster after normalizing features. This works the best when we have large datasets."
   ]
  },
  {
   "cell_type": "markdown",
   "metadata": {
    "ein.tags": [
     "worksheet-0"
    ],
    "slideshow": {
     "slide_type": "-"
    }
   },
   "source": [
    "### 3.4 Optimization\n",
    "\n",
    "\n",
    "A lot of the decisions we've made so far have been arbitrary.  Try to increase the performance of your nearest neighbor algorithm by adding features that you think might be relevant, and by using different values of L in the distance function.  Try a model that uses a different set of 2 features, then try at least one model that uses more than 4 features, then try using a different value of L.  If you're having fun, try a few different combinations of features and L!  \n",
    "\n",
    "What combination of features and distance function provide the lowest RMSE?  Compre RMSEs with the corresponding true-predicted plots.\n",
    "\n",
    "Do your decisions affect the running time of the algorithm?"
   ]
  },
  {
   "cell_type": "code",
   "execution_count": 20,
   "metadata": {
    "autoscroll": "json-false",
    "ein.tags": [
     "worksheet-0"
    ],
    "slideshow": {
     "slide_type": "-"
    }
   },
   "outputs": [
    {
     "name": "stdout",
     "output_type": "stream",
     "text": [
      "Time Taken is : 0.0209999084473\n",
      "Time Taken is : 0.0220000743866\n",
      "Time Taken is : 0.0140001773834\n",
      "Time Taken is : 0.0170001983643\n",
      "Time Taken is : 0.0190000534058\n",
      "Time Taken is : 0.029000043869\n"
     ]
    }
   ],
   "source": [
    "'''\n",
    "6 - AGE      proportion of owner-occupied units built prior to 1940\n",
    "11 - B        1000(Bk - 0.63)^2 where Bk is the proportion of blacks by town\n",
    "9 - TAX      full-value property-tax rate per $10,000\n",
    "3 - CHAS     Charles River dummy variable (= 1 if tract bounds river; 0 otherwise)\n",
    "5 - NOX      nitric oxides concentration (parts per 10 million)\n",
    "'''\n",
    "\n",
    "#Empty Results Set\n",
    "results ={}\n",
    "\n",
    "#1.Trying Age and NOX features with house prices (L-1)\n",
    "normal_age_nox_test = normalize(bdata_test,[4,6],13)\n",
    "normal_age_nox_train = normalize(bdata_train,[4,6],13)\n",
    "results[('age_nox', 1)] = knn_basic(normal_age_nox_test, normal_age_nox_train, [0,1],[2],1,1)[1]\n",
    "\n",
    "#2.Trying CHAS,TAX,NOX features with house prices (L-1)\n",
    "normal_chas_tax_nox_test = normalize(bdata_test,[3,9,5],13)\n",
    "normal_chas_tax_nox_train = normalize(bdata_train,[3,9,5],13)\n",
    "results[('chas_tax_nox', 1)] = knn_basic(normal_chas_tax_nox_test, normal_chas_tax_nox_train, [0,1,2],[3],1,1)[1]\n",
    "\n",
    "#3.Trying B and CHAS features with house prices (L-2)\n",
    "normal_b_chas_test = normalize(bdata_test,[11,3],13)\n",
    "normal_b_chas_train = normalize(bdata_train,[11,3],13)\n",
    "results[('b_chas_nox', 2)] = knn_basic(normal_b_chas_test, normal_b_chas_train, [0,1],[2],2,1)[1]\n",
    "\n",
    "#4.Trying Tax and Age features with L-1\n",
    "normal_age_tax_test = normalize(bdata_test,[6,9],13)\n",
    "normal_age_tax_train = normalize(bdata_train,[6,9],13)\n",
    "results[('age_tax', 1)] = knn_basic(normal_age_tax_test, normal_age_tax_train, [0,1],[2],1,1)[1]\n",
    "\n",
    "\n",
    "#5.Trying LSTAT and Age features with L-1\n",
    "normal_age_lstat_test = normalize(bdata_test,[6,12],13)\n",
    "normal_age_lstat_train = normalize(bdata_train,[6,12],13)\n",
    "results[('age_lstat', 1)] = knn_basic(normal_age_lstat_test, normal_age_lstat_train, [0,1],[2],1,1)[1]\n",
    "\n",
    "#6.Trying  features LSTAT,CRIM, RM, AGE  (12,0,5,6,9 with L-2\n",
    "normal_lcrma_test = normalize(bdata_test,[0,5,6,9,12],13)\n",
    "normal_lcrma_train = normalize(bdata_train,[0,5,6,9,12],13)\n",
    "results[('lstat_crim_rm_age_tax', 2)] = knn_basic(normal_lcrma_test, normal_lcrma_train, [0,1,2,3,4],[5],2,1)[1]"
   ]
  },
  {
   "cell_type": "code",
   "execution_count": 21,
   "metadata": {},
   "outputs": [
    {
     "data": {
      "text/html": [
       "<div>\n",
       "<table border=\"1\" class=\"dataframe\">\n",
       "  <thead>\n",
       "    <tr style=\"text-align: right;\">\n",
       "      <th></th>\n",
       "      <th>Features,L</th>\n",
       "      <th>RMSE</th>\n",
       "    </tr>\n",
       "  </thead>\n",
       "  <tbody>\n",
       "    <tr>\n",
       "      <th>0</th>\n",
       "      <td>(age_nox, 1)</td>\n",
       "      <td>12.261385</td>\n",
       "    </tr>\n",
       "    <tr>\n",
       "      <th>1</th>\n",
       "      <td>(b_chas_nox, 2)</td>\n",
       "      <td>12.510812</td>\n",
       "    </tr>\n",
       "    <tr>\n",
       "      <th>2</th>\n",
       "      <td>(age_lstat, 1)</td>\n",
       "      <td>7.829380</td>\n",
       "    </tr>\n",
       "    <tr>\n",
       "      <th>3</th>\n",
       "      <td>(lstat_crim_rm_age_tax, 2)</td>\n",
       "      <td>6.179241</td>\n",
       "    </tr>\n",
       "    <tr>\n",
       "      <th>4</th>\n",
       "      <td>(age_tax, 1)</td>\n",
       "      <td>11.298814</td>\n",
       "    </tr>\n",
       "    <tr>\n",
       "      <th>5</th>\n",
       "      <td>(chas_tax_nox, 1)</td>\n",
       "      <td>7.096118</td>\n",
       "    </tr>\n",
       "  </tbody>\n",
       "</table>\n",
       "</div>"
      ],
      "text/plain": [
       "                   Features,L       RMSE\n",
       "0                (age_nox, 1)  12.261385\n",
       "1             (b_chas_nox, 2)  12.510812\n",
       "2              (age_lstat, 1)   7.829380\n",
       "3  (lstat_crim_rm_age_tax, 2)   6.179241\n",
       "4                (age_tax, 1)  11.298814\n",
       "5           (chas_tax_nox, 1)   7.096118"
      ]
     },
     "execution_count": 21,
     "metadata": {},
     "output_type": "execute_result"
    }
   ],
   "source": [
    "#Results\n",
    "import pandas as pd\n",
    "results_df = pd.DataFrame.from_dict(results, orient='index').reset_index()\n",
    "results_df.columns=['Features,L', 'RMSE']\n",
    "results_df"
   ]
  },
  {
   "cell_type": "markdown",
   "metadata": {},
   "source": [
    "The combination of features like lower status of the population, per capita crime rate, age of the house, size of the house and full-value property-tax rate with L=2, gives the lowest RMSE of 6.12.\n",
    "\n",
    "The decisions certainly affect the running time of the algorithm. As we increase the number of features, the running time increases. "
   ]
  },
  {
   "cell_type": "markdown",
   "metadata": {
    "ein.tags": [
     "worksheet-0"
    ],
    "slideshow": {
     "slide_type": "-"
    }
   },
   "source": [
    "### 3.5 Cross-Validation\n",
    "\n",
    "The more you tinkered with your features and distance function, the higher the risk that you overfit your training data.  To prevent this sort of overfitting, you need to use cross-validation (see Daume (2017) _A Course in Machine Learning_, Ch 4.6).  Here you must implement a simple k-fold cross-validation algorithm yourself.  Essentially you have to partition your dataset into 10 equally-sized samples, and for each of 10 iterations (the \"folds\"), use 9 samples as \"training data\" (even though there is no training in k-NN!), and the remaining 1 sample for testing.  The function you write here will be used several more times in this problem set, so do your best to write efficient code! (Note that the sklearn package has a built-in K-fold iterator -- do *not* use that here.)\n",
    "\n",
    "Use Euclidean distance with CRIM and RM (0 and 5) as features.  Compute the RMSE of that particular test set, then move on to the next iteration.  Report the average RMSE across the 10 iterations, and the total running time for all 10 iterations.  Compare the k-fold RMSE with the training-testing split RMSE above for the same hyperparameter values."
   ]
  },
  {
   "cell_type": "code",
   "execution_count": 22,
   "metadata": {
    "autoscroll": "json-false",
    "collapsed": true,
    "ein.tags": [
     "worksheet-0"
    ],
    "slideshow": {
     "slide_type": "-"
    }
   },
   "outputs": [],
   "source": [
    " \"\"\"\n",
    "# Function : cross_validation\n",
    "Input: \n",
    "data - any dataset,\n",
    "folds: Number of folds\n",
    "feature_indices: Feature_Indices in the dataset, \n",
    "target_index: target_index in the dataset, \n",
    "L: 1 or 2 for Euclidean or Manahattan Distance\n",
    "k: k for finding k nearest neighbors\n",
    "function: knn_basic(k=1) or knn\n",
    "----------------------------------------------\n",
    "Output: result - Average RMSE of {folds} cross validation and Time Taken\n",
    "\n",
    "\"\"\"\n",
    "    \n",
    "def cross_validation(data,folds,feature_indices,target_index,L,k,function):\n",
    "    start_time = time.time()\n",
    "    #Slicing the random data into 10 folds.\n",
    "    #fold_size = int(len(data) / folds)\n",
    "    \n",
    "    #Splitting the data into {fold_size} folds\n",
    "    k_fold_data = np.array_split(data,folds, axis=0)\n",
    "    \n",
    "    #Create train and test data\n",
    "    # Splitting data into train and test using 'k-1' folds for train and 1 fold for test\n",
    "    test_fold_data=[]\n",
    "    train_fold_data=[]\n",
    "    \n",
    "    for j in range(folds):\n",
    "        test_fold_data.append(k_fold_data[j])\n",
    "        train_fold_data.append(np.concatenate(np.delete(k_fold_data,j,0)))\n",
    "        \n",
    "    #Calculate RMSE for CRIM and RM\n",
    "    rmse = []\n",
    "    for f in range(len(k_fold_data)):\n",
    "        rmse.append(function(test_fold_data[f], train_fold_data[f], \n",
    "                              feature_indices,target_index,L,k)[1]) \n",
    "    \n",
    "    #Mean RMSE for all the 10 folds\n",
    "    mean_rmse_folds = np.mean(rmse)\n",
    "    #Total_Time\n",
    "    total_time = str(time.time()-start_time)\n",
    "    #Results\n",
    "    result = {'Average RMSE': mean_rmse_folds, 'Total Time': total_time}\n",
    "    result = pd.DataFrame.from_dict(result,orient='index')\n",
    "    \n",
    "    return (result)"
   ]
  },
  {
   "cell_type": "code",
   "execution_count": 23,
   "metadata": {},
   "outputs": [
    {
     "name": "stdout",
     "output_type": "stream",
     "text": [
      "Time Taken is : 0.00600004196167\n",
      "Time Taken is : 0.00800013542175\n",
      "Time Taken is : 0.00899982452393\n",
      "Time Taken is : 0.0090000629425\n",
      "Time Taken is : 0.00600004196167\n",
      "Time Taken is : 0.00799989700317\n",
      "Time Taken is : 0.00699996948242\n",
      "Time Taken is : 0.00500011444092\n",
      "Time Taken is : 0.00699996948242\n",
      "Time Taken is : 0.00800013542175\n"
     ]
    },
    {
     "data": {
      "text/html": [
       "<div>\n",
       "<table border=\"1\" class=\"dataframe\">\n",
       "  <thead>\n",
       "    <tr style=\"text-align: right;\">\n",
       "      <th></th>\n",
       "      <th>0</th>\n",
       "    </tr>\n",
       "  </thead>\n",
       "  <tbody>\n",
       "    <tr>\n",
       "      <th>Average RMSE</th>\n",
       "      <td>7.01007</td>\n",
       "    </tr>\n",
       "    <tr>\n",
       "      <th>Total Time</th>\n",
       "      <td>0.0750000476837</td>\n",
       "    </tr>\n",
       "  </tbody>\n",
       "</table>\n",
       "</div>"
      ],
      "text/plain": [
       "                            0\n",
       "Average RMSE          7.01007\n",
       "Total Time    0.0750000476837"
      ]
     },
     "execution_count": 23,
     "metadata": {},
     "output_type": "execute_result"
    }
   ],
   "source": [
    "#Cross_Validation with 10 folds for CRIM and RM values on Boston House Prices\n",
    "cross_validation(bdata_with_target,10,[0,5],13,1,1,knn_basic)"
   ]
  },
  {
   "cell_type": "markdown",
   "metadata": {},
   "source": [
    "The RMSE has reduced from 7.401720415976212 to 7.01 after Cross Validation which is a good achievement. The overall time has also reduced. "
   ]
  },
  {
   "cell_type": "markdown",
   "metadata": {
    "ein.tags": [
     "worksheet-0"
    ],
    "slideshow": {
     "slide_type": "-"
    }
   },
   "source": [
    "### 3.6 K-Nearest Neighbors Algorithm\n",
    "\n",
    "Implement the K-Nearest Neighbors algorithm.  Using 10-fold cross validation, report the RMSE for K=3 and the running time of the algorithm."
   ]
  },
  {
   "cell_type": "code",
   "execution_count": 24,
   "metadata": {
    "autoscroll": "json-false",
    "collapsed": true,
    "ein.tags": [
     "worksheet-0"
    ],
    "slideshow": {
     "slide_type": "-"
    }
   },
   "outputs": [],
   "source": [
    "\"\"\"\n",
    "# Function : knn\n",
    "Input: \n",
    "test: Test Dataset, \n",
    "train: Training Dataset,\n",
    "feature_indices: Feature_Indices in the dataset, \n",
    "target_index: target_index in the dataset, \n",
    "L: 1 or 2 for Euclidean or Manahattan Distance\n",
    "----------------------------------------------\n",
    "Output: A tuple of Predictions and RMSE\n",
    "Predictions: A numpy array of predicted values\n",
    "RMSE: RMSE of the knn model\n",
    "\"\"\"\n",
    "import time\n",
    "def knn(test, train,feature_indices,target_index, L,K):\n",
    "    start_time = time.time()\n",
    "    #Empty lists\n",
    "    distances=[]\n",
    "    sorted_distances=[]\n",
    "    k_distances = []\n",
    "    distances_idx = []\n",
    "    predictions =[]\n",
    "    \n",
    "    for i in range(len(test)):     \n",
    "        #Distance between test instance and all training_samples\n",
    "        distances.append(distance(train[:,feature_indices],test[i,feature_indices],L))\n",
    "        \n",
    "        #Sort the distances\n",
    "        sorted_distances.append(np.sort(distances[i]))\n",
    "        \n",
    "        #Take k out\n",
    "        k_distances.append(sorted_distances[i][0:K])\n",
    "        \n",
    "        #Converting the distances and k_distances to lists\n",
    "        distances[i] = distances[i].tolist()\n",
    "        k_distances[i] = k_distances[i].tolist()\n",
    "    \n",
    "        #Calculating Indices of k distances\n",
    "        distances_idx.append([k for k, j in enumerate(distances[i]) if j in k_distances[i] ])\n",
    "        \n",
    "        #Predictions\n",
    "        predictions.append(np.mean(train[distances_idx[i],target_index]))\n",
    "    \n",
    "    #Calculate RMSE\n",
    "    rmse_knn = compute_rmse(predictions,test[:,target_index])\n",
    "    \n",
    "    #Time Taken\n",
    "    time_taken = str(time.time() - start_time)\n",
    "    \n",
    "    #Result in a dataframe\n",
    "    result = {'RMSE': rmse_knn, 'Time Taken': time_taken}\n",
    "    result = pd.DataFrame.from_dict(result,orient='index')                    \n",
    "        \n",
    "    return (predictions, rmse_knn,result)"
   ]
  },
  {
   "cell_type": "code",
   "execution_count": 25,
   "metadata": {},
   "outputs": [
    {
     "data": {
      "text/html": [
       "<div>\n",
       "<table border=\"1\" class=\"dataframe\">\n",
       "  <thead>\n",
       "    <tr style=\"text-align: right;\">\n",
       "      <th></th>\n",
       "      <th>0</th>\n",
       "    </tr>\n",
       "  </thead>\n",
       "  <tbody>\n",
       "    <tr>\n",
       "      <th>Time Taken</th>\n",
       "      <td>0.0510001182556</td>\n",
       "    </tr>\n",
       "    <tr>\n",
       "      <th>RMSE</th>\n",
       "      <td>6.80377</td>\n",
       "    </tr>\n",
       "  </tbody>\n",
       "</table>\n",
       "</div>"
      ],
      "text/plain": [
       "                          0\n",
       "Time Taken  0.0510001182556\n",
       "RMSE                6.80377"
      ]
     },
     "execution_count": 25,
     "metadata": {},
     "output_type": "execute_result"
    }
   ],
   "source": [
    "#Calculating RMSE from KNN Algorithm for CRIM and RM variables.\n",
    "knn(bdata_test, bdata_train,[0,5],13, 2,3)[2]"
   ]
  },
  {
   "cell_type": "markdown",
   "metadata": {
    "ein.tags": [
     "worksheet-0"
    ],
    "slideshow": {
     "slide_type": "-"
    }
   },
   "source": [
    "### 3.7 Using cross validation to find K\n",
    "\n",
    "What is the best choice of K?  Compute the RMSE for values of K between 1 and 25 using 10-fold cross-validation.  Use the following features in your model, and don't forget to normalize: CRIM, ZN, RM, AGE, DIS, TAX.  Create a graph that shows how RMSE changes as K increases from 1 to 25.  Label your axes, and summarize what you see.  What do you think is a reasonable choice of K for this model?"
   ]
  },
  {
   "cell_type": "code",
   "execution_count": 30,
   "metadata": {
    "autoscroll": "json-false",
    "collapsed": true,
    "ein.tags": [
     "worksheet-0"
    ],
    "slideshow": {
     "slide_type": "-"
    }
   },
   "outputs": [],
   "source": [
    "'''\n",
    "CRIM - 0\n",
    "ZN - 1\n",
    "RM - 5\n",
    "AGE - 6\n",
    "DIS - 7\n",
    "TAX - 9\n",
    "'''\n",
    "#Normalizing Data\n",
    "normalized_data = normalize(bdata_with_target,[0,1,5,6,7,9],13)\n",
    "rmses = []\n",
    "#Cross Validation for the above features\n",
    "for i in range(1,26):\n",
    "    rmses.append(cross_validation(normalized_data,10,[0,1,2,3,4,5],6, 1,i,knn))\n"
   ]
  },
  {
   "cell_type": "code",
   "execution_count": 31,
   "metadata": {
    "collapsed": true
   },
   "outputs": [],
   "source": [
    "# Creating k values\n",
    "i = range(1,26)\n",
    "rmse_values = []\n",
    "time_taken_values =[]\n",
    "for l in range(len(rmses)):\n",
    "    rmse_values.append(rmses[l][0][0])\n",
    "    time_taken_values.append(rmses[l][0][1])"
   ]
  },
  {
   "cell_type": "code",
   "execution_count": 32,
   "metadata": {},
   "outputs": [
    {
     "data": {
      "text/html": [
       "<div>\n",
       "<table border=\"1\" class=\"dataframe\">\n",
       "  <thead>\n",
       "    <tr style=\"text-align: right;\">\n",
       "      <th></th>\n",
       "      <th>K_Value</th>\n",
       "      <th>Average_RMSE</th>\n",
       "      <th>Time_Taken</th>\n",
       "    </tr>\n",
       "  </thead>\n",
       "  <tbody>\n",
       "    <tr>\n",
       "      <th>0</th>\n",
       "      <td>1</td>\n",
       "      <td>6.05075</td>\n",
       "      <td>0.18499994278</td>\n",
       "    </tr>\n",
       "    <tr>\n",
       "      <th>1</th>\n",
       "      <td>2</td>\n",
       "      <td>5.33196</td>\n",
       "      <td>0.15499997139</td>\n",
       "    </tr>\n",
       "    <tr>\n",
       "      <th>2</th>\n",
       "      <td>3</td>\n",
       "      <td>4.9549</td>\n",
       "      <td>0.170000076294</td>\n",
       "    </tr>\n",
       "    <tr>\n",
       "      <th>3</th>\n",
       "      <td>4</td>\n",
       "      <td>4.89852</td>\n",
       "      <td>0.160000085831</td>\n",
       "    </tr>\n",
       "    <tr>\n",
       "      <th>4</th>\n",
       "      <td>5</td>\n",
       "      <td>4.90751</td>\n",
       "      <td>0.164999961853</td>\n",
       "    </tr>\n",
       "    <tr>\n",
       "      <th>5</th>\n",
       "      <td>6</td>\n",
       "      <td>4.98243</td>\n",
       "      <td>0.180000066757</td>\n",
       "    </tr>\n",
       "    <tr>\n",
       "      <th>6</th>\n",
       "      <td>7</td>\n",
       "      <td>5.03228</td>\n",
       "      <td>0.181999921799</td>\n",
       "    </tr>\n",
       "    <tr>\n",
       "      <th>7</th>\n",
       "      <td>8</td>\n",
       "      <td>5.03988</td>\n",
       "      <td>0.194999933243</td>\n",
       "    </tr>\n",
       "    <tr>\n",
       "      <th>8</th>\n",
       "      <td>9</td>\n",
       "      <td>5.03115</td>\n",
       "      <td>0.200000047684</td>\n",
       "    </tr>\n",
       "    <tr>\n",
       "      <th>9</th>\n",
       "      <td>10</td>\n",
       "      <td>5.06349</td>\n",
       "      <td>0.203999996185</td>\n",
       "    </tr>\n",
       "    <tr>\n",
       "      <th>10</th>\n",
       "      <td>11</td>\n",
       "      <td>5.10467</td>\n",
       "      <td>0.209999799728</td>\n",
       "    </tr>\n",
       "    <tr>\n",
       "      <th>11</th>\n",
       "      <td>12</td>\n",
       "      <td>5.11678</td>\n",
       "      <td>0.22000002861</td>\n",
       "    </tr>\n",
       "    <tr>\n",
       "      <th>12</th>\n",
       "      <td>13</td>\n",
       "      <td>5.14951</td>\n",
       "      <td>0.240000009537</td>\n",
       "    </tr>\n",
       "    <tr>\n",
       "      <th>13</th>\n",
       "      <td>14</td>\n",
       "      <td>5.1864</td>\n",
       "      <td>0.244999885559</td>\n",
       "    </tr>\n",
       "    <tr>\n",
       "      <th>14</th>\n",
       "      <td>15</td>\n",
       "      <td>5.17684</td>\n",
       "      <td>0.245000123978</td>\n",
       "    </tr>\n",
       "    <tr>\n",
       "      <th>15</th>\n",
       "      <td>16</td>\n",
       "      <td>5.19411</td>\n",
       "      <td>0.244999885559</td>\n",
       "    </tr>\n",
       "    <tr>\n",
       "      <th>16</th>\n",
       "      <td>17</td>\n",
       "      <td>5.23125</td>\n",
       "      <td>0.265000104904</td>\n",
       "    </tr>\n",
       "    <tr>\n",
       "      <th>17</th>\n",
       "      <td>18</td>\n",
       "      <td>5.26042</td>\n",
       "      <td>0.261999845505</td>\n",
       "    </tr>\n",
       "    <tr>\n",
       "      <th>18</th>\n",
       "      <td>19</td>\n",
       "      <td>5.28664</td>\n",
       "      <td>0.270000219345</td>\n",
       "    </tr>\n",
       "    <tr>\n",
       "      <th>19</th>\n",
       "      <td>20</td>\n",
       "      <td>5.27696</td>\n",
       "      <td>0.273000001907</td>\n",
       "    </tr>\n",
       "    <tr>\n",
       "      <th>20</th>\n",
       "      <td>21</td>\n",
       "      <td>5.29179</td>\n",
       "      <td>0.27999997139</td>\n",
       "    </tr>\n",
       "    <tr>\n",
       "      <th>21</th>\n",
       "      <td>22</td>\n",
       "      <td>5.32112</td>\n",
       "      <td>0.289999961853</td>\n",
       "    </tr>\n",
       "    <tr>\n",
       "      <th>22</th>\n",
       "      <td>23</td>\n",
       "      <td>5.3394</td>\n",
       "      <td>0.295000076294</td>\n",
       "    </tr>\n",
       "    <tr>\n",
       "      <th>23</th>\n",
       "      <td>24</td>\n",
       "      <td>5.33208</td>\n",
       "      <td>0.301000118256</td>\n",
       "    </tr>\n",
       "    <tr>\n",
       "      <th>24</th>\n",
       "      <td>25</td>\n",
       "      <td>5.36566</td>\n",
       "      <td>0.30999994278</td>\n",
       "    </tr>\n",
       "  </tbody>\n",
       "</table>\n",
       "</div>"
      ],
      "text/plain": [
       "   K_Value Average_RMSE      Time_Taken\n",
       "0        1      6.05075   0.18499994278\n",
       "1        2      5.33196   0.15499997139\n",
       "2        3       4.9549  0.170000076294\n",
       "3        4      4.89852  0.160000085831\n",
       "4        5      4.90751  0.164999961853\n",
       "5        6      4.98243  0.180000066757\n",
       "6        7      5.03228  0.181999921799\n",
       "7        8      5.03988  0.194999933243\n",
       "8        9      5.03115  0.200000047684\n",
       "9       10      5.06349  0.203999996185\n",
       "10      11      5.10467  0.209999799728\n",
       "11      12      5.11678   0.22000002861\n",
       "12      13      5.14951  0.240000009537\n",
       "13      14       5.1864  0.244999885559\n",
       "14      15      5.17684  0.245000123978\n",
       "15      16      5.19411  0.244999885559\n",
       "16      17      5.23125  0.265000104904\n",
       "17      18      5.26042  0.261999845505\n",
       "18      19      5.28664  0.270000219345\n",
       "19      20      5.27696  0.273000001907\n",
       "20      21      5.29179   0.27999997139\n",
       "21      22      5.32112  0.289999961853\n",
       "22      23       5.3394  0.295000076294\n",
       "23      24      5.33208  0.301000118256\n",
       "24      25      5.36566   0.30999994278"
      ]
     },
     "execution_count": 32,
     "metadata": {},
     "output_type": "execute_result"
    }
   ],
   "source": [
    "#Result\n",
    "result = pd.DataFrame([i,rmse_values,time_taken_values])\n",
    "result = result.T\n",
    "result.columns = ['K_Value','Average_RMSE','Time_Taken']\n",
    "\n",
    "result"
   ]
  },
  {
   "cell_type": "code",
   "execution_count": 33,
   "metadata": {},
   "outputs": [
    {
     "data": {
      "image/png": "[encoded data removed]",
      "text/plain": [
       "<matplotlib.figure.Figure at 0xb196278>"
      ]
     },
     "metadata": {},
     "output_type": "display_data"
    }
   ],
   "source": [
    "# Plotting average RMSE v/s K\n",
    "plt.figure(figsize=(13,5))\n",
    "plot = plt.plot( i,rmse_values, color = 'orange')\n",
    "plt.axhline(y = min(rmse_values), c = 'b', alpha = 0.3)\n",
    "plt.title('RMSE vs K for KNN algorithm')\n",
    "plt.xlabel('K value')\n",
    "plt.ylabel('Avergae RMSE')\n",
    "plt.show()"
   ]
  },
  {
   "cell_type": "markdown",
   "metadata": {},
   "source": [
    "We see that initially, RMSE decreases as K increases but later,it increases with K. Therefore,the best value for k would be 5, since it has the lowest RMSE. "
   ]
  },
  {
   "cell_type": "markdown",
   "metadata": {
    "ein.tags": [
     "worksheet-0"
    ],
    "slideshow": {
     "slide_type": "-"
    }
   },
   "source": [
    "### Extra-Credit: Forward selection\n",
    "\n",
    "Thus far the choice of predictor variables has been rather arbitrary. For extra credit, implement a basic [forward selection](http://www.stat.ubc.ca/~rollin/teach/643w04/lec/node41.html) algorithm to progressively include features that decrease the cross-validated RMSE of the model. Note that the optimal value of K may be different for each model, so you may want to use cross-validation to choose K each time (but it is also fine if you fix K at the optimal value from 2.7).  Create a graph that shows RMSE as a function of the number of features in the model. Label each point on the x-axis with the name of the feature that is added at that step in the forward selection algorithm. *(For instance, if the optimal single-feature model has CRIM with RMSE = 10, and the optimal two-feature model has CRIM+ZN with RMSE=9, the first x-axis label will say CRIM and the second x-axis lable with say ZN)*"
   ]
  }
 ],
 "metadata": {
  "anaconda-cloud": {},
  "kernelspec": {
   "display_name": "Python 2",
   "language": "python",
   "name": "python2"
  },
  "language_info": {
   "codemirror_mode": {
    "name": "ipython",
    "version": 2
   },
   "file_extension": ".py",
   "mimetype": "text/x-python",
   "name": "python",
   "nbconvert_exporter": "python",
   "pygments_lexer": "ipython2",
   "version": "2.7.12"
  },
  "name": "infx573-ps3-solutions.ipynb"
 },
 "nbformat": 4,
 "nbformat_minor": 1
}
